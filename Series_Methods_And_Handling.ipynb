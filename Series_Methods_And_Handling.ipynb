{
  "nbformat": 4,
  "nbformat_minor": 0,
  "metadata": {
    "colab": {
      "name": "Series_Methods_And_Handling.ipynb",
      "provenance": [],
      "collapsed_sections": [
        "BDwRGAcHdMBy",
        "roGT2PHA-vQ-",
        "CcJlcLKThuB1",
        "8ZPmSRd2npNL",
        "2Uyb4BGewrd1",
        "0cQFTQaf5sdp",
        "avNo9M4XIscn",
        "ZvebaX6H22G9",
        "WXhFbvHH7pNc",
        "-6H40AKm_86N",
        "xrjB9p_LCcBM",
        "wqgJ5eHjO0W8",
        "fWHpVbsggJTo",
        "RhOY4LXjg3R6",
        "60HSRX7klLjS",
        "YVbTQqytJ11B",
        "OHTGffrUW46p",
        "vWG2hiOGbnSF",
        "p8IwOTQkfjUi",
        "Y_or5MWWitpf",
        "tQAqvfn0aotu",
        "mx0xcv3QmL8B",
        "1rRqOdj3qfxq",
        "6LCCQdWByeG1",
        "S5iR8C9e28Hq",
        "hAvtoOHlk-5P",
        "HTRDqLIkw--y",
        "qbmXh2s6UXIN",
        "TZvXofChUfx2",
        "4iU0I60bU801",
        "w6v8f2pAU9sf"
      ]
    },
    "kernelspec": {
      "name": "python3",
      "display_name": "Python 3"
    }
  },
  "cells": [
    {
      "cell_type": "code",
      "metadata": {
        "id": "tLCOp5qPdG6z"
      },
      "source": [
        "import pandas as pd\n",
        "import numpy as np"
      ],
      "execution_count": 10,
      "outputs": []
    },
    {
      "cell_type": "code",
      "metadata": {
        "id": "wfs-RpJLlaUJ",
        "colab": {
          "base_uri": "https://localhost:8080/"
        },
        "outputId": "abbcdc8b-92eb-4067-c371-83800a5f3135"
      },
      "source": [
        "#pip install --upgrade pandas\n",
        "%pip install pandas -U\n",
        "\n"
      ],
      "execution_count": 12,
      "outputs": [
        {
          "output_type": "stream",
          "name": "stdout",
          "text": [
            "Requirement already satisfied: pandas in /usr/local/lib/python3.7/dist-packages (1.3.5)\n",
            "Requirement already satisfied: numpy>=1.17.3 in /usr/local/lib/python3.7/dist-packages (from pandas) (1.19.5)\n",
            "Requirement already satisfied: python-dateutil>=2.7.3 in /usr/local/lib/python3.7/dist-packages (from pandas) (2.8.2)\n",
            "Requirement already satisfied: pytz>=2017.3 in /usr/local/lib/python3.7/dist-packages (from pandas) (2018.9)\n",
            "Requirement already satisfied: six>=1.5 in /usr/local/lib/python3.7/dist-packages (from python-dateutil>=2.7.3->pandas) (1.15.0)\n"
          ]
        }
      ]
    },
    {
      "cell_type": "code",
      "metadata": {
        "id": "RNsgoivhLNYf",
        "colab": {
          "base_uri": "https://localhost:8080/",
          "height": 35
        },
        "outputId": "cb2b86dd-12dc-4b1f-b849-43f8a2966ce0"
      },
      "source": [
        "#pd.__version__\n",
        "pd.__version__"
      ],
      "execution_count": 14,
      "outputs": [
        {
          "output_type": "execute_result",
          "data": {
            "application/vnd.google.colaboratory.intrinsic+json": {
              "type": "string"
            },
            "text/plain": [
              "'1.3.5'"
            ]
          },
          "metadata": {},
          "execution_count": 14
        }
      ]
    },
    {
      "cell_type": "markdown",
      "metadata": {
        "id": "BDwRGAcHdMBy"
      },
      "source": [
        "#### Reading In Data With read_csv()"
      ]
    },
    {
      "cell_type": "code",
      "metadata": {
        "id": "X25vWllX9FdI"
      },
      "source": [
        "# https://andybek.com/pandas-drinks"
      ],
      "execution_count": null,
      "outputs": []
    },
    {
      "cell_type": "code",
      "metadata": {
        "id": "iae_wV-E9fI2",
        "outputId": "979123d6-d613-490b-e6a2-9e5417cd92b9",
        "colab": {
          "base_uri": "https://localhost:8080/",
          "height": 424
        }
      },
      "source": [
        "\n",
        "pd.read_csv('https://andybek.com/pandas-drinks')\n"
      ],
      "execution_count": 16,
      "outputs": [
        {
          "output_type": "execute_result",
          "data": {
            "text/html": [
              "\n",
              "  <div id=\"df-d07a5419-ff70-4f1a-b200-f90091f6fd4a\">\n",
              "    <div class=\"colab-df-container\">\n",
              "      <div>\n",
              "<style scoped>\n",
              "    .dataframe tbody tr th:only-of-type {\n",
              "        vertical-align: middle;\n",
              "    }\n",
              "\n",
              "    .dataframe tbody tr th {\n",
              "        vertical-align: top;\n",
              "    }\n",
              "\n",
              "    .dataframe thead th {\n",
              "        text-align: right;\n",
              "    }\n",
              "</style>\n",
              "<table border=\"1\" class=\"dataframe\">\n",
              "  <thead>\n",
              "    <tr style=\"text-align: right;\">\n",
              "      <th></th>\n",
              "      <th>country</th>\n",
              "      <th>beer_servings</th>\n",
              "      <th>spirit_servings</th>\n",
              "      <th>wine_servings</th>\n",
              "      <th>total_litres_of_pure_alcohol</th>\n",
              "    </tr>\n",
              "  </thead>\n",
              "  <tbody>\n",
              "    <tr>\n",
              "      <th>0</th>\n",
              "      <td>Afghanistan</td>\n",
              "      <td>NaN</td>\n",
              "      <td>NaN</td>\n",
              "      <td>NaN</td>\n",
              "      <td>NaN</td>\n",
              "    </tr>\n",
              "    <tr>\n",
              "      <th>1</th>\n",
              "      <td>Albania</td>\n",
              "      <td>89.0</td>\n",
              "      <td>132.0</td>\n",
              "      <td>54.0</td>\n",
              "      <td>4.9</td>\n",
              "    </tr>\n",
              "    <tr>\n",
              "      <th>2</th>\n",
              "      <td>Algeria</td>\n",
              "      <td>25.0</td>\n",
              "      <td>NaN</td>\n",
              "      <td>14.0</td>\n",
              "      <td>0.7</td>\n",
              "    </tr>\n",
              "    <tr>\n",
              "      <th>3</th>\n",
              "      <td>Andorra</td>\n",
              "      <td>245.0</td>\n",
              "      <td>138.0</td>\n",
              "      <td>312.0</td>\n",
              "      <td>12.4</td>\n",
              "    </tr>\n",
              "    <tr>\n",
              "      <th>4</th>\n",
              "      <td>Angola</td>\n",
              "      <td>217.0</td>\n",
              "      <td>57.0</td>\n",
              "      <td>45.0</td>\n",
              "      <td>5.9</td>\n",
              "    </tr>\n",
              "    <tr>\n",
              "      <th>...</th>\n",
              "      <td>...</td>\n",
              "      <td>...</td>\n",
              "      <td>...</td>\n",
              "      <td>...</td>\n",
              "      <td>...</td>\n",
              "    </tr>\n",
              "    <tr>\n",
              "      <th>188</th>\n",
              "      <td>Venezuela</td>\n",
              "      <td>333.0</td>\n",
              "      <td>1.0</td>\n",
              "      <td>3.0</td>\n",
              "      <td>7.7</td>\n",
              "    </tr>\n",
              "    <tr>\n",
              "      <th>189</th>\n",
              "      <td>Vietnam</td>\n",
              "      <td>111.0</td>\n",
              "      <td>2.0</td>\n",
              "      <td>1.0</td>\n",
              "      <td>2.0</td>\n",
              "    </tr>\n",
              "    <tr>\n",
              "      <th>190</th>\n",
              "      <td>Yemen</td>\n",
              "      <td>6.0</td>\n",
              "      <td>NaN</td>\n",
              "      <td>NaN</td>\n",
              "      <td>0.1</td>\n",
              "    </tr>\n",
              "    <tr>\n",
              "      <th>191</th>\n",
              "      <td>Zambia</td>\n",
              "      <td>32.0</td>\n",
              "      <td>19.0</td>\n",
              "      <td>4.0</td>\n",
              "      <td>2.5</td>\n",
              "    </tr>\n",
              "    <tr>\n",
              "      <th>192</th>\n",
              "      <td>Zimbabwe</td>\n",
              "      <td>64.0</td>\n",
              "      <td>18.0</td>\n",
              "      <td>4.0</td>\n",
              "      <td>4.7</td>\n",
              "    </tr>\n",
              "  </tbody>\n",
              "</table>\n",
              "<p>193 rows × 5 columns</p>\n",
              "</div>\n",
              "      <button class=\"colab-df-convert\" onclick=\"convertToInteractive('df-d07a5419-ff70-4f1a-b200-f90091f6fd4a')\"\n",
              "              title=\"Convert this dataframe to an interactive table.\"\n",
              "              style=\"display:none;\">\n",
              "        \n",
              "  <svg xmlns=\"http://www.w3.org/2000/svg\" height=\"24px\"viewBox=\"0 0 24 24\"\n",
              "       width=\"24px\">\n",
              "    <path d=\"M0 0h24v24H0V0z\" fill=\"none\"/>\n",
              "    <path d=\"M18.56 5.44l.94 2.06.94-2.06 2.06-.94-2.06-.94-.94-2.06-.94 2.06-2.06.94zm-11 1L8.5 8.5l.94-2.06 2.06-.94-2.06-.94L8.5 2.5l-.94 2.06-2.06.94zm10 10l.94 2.06.94-2.06 2.06-.94-2.06-.94-.94-2.06-.94 2.06-2.06.94z\"/><path d=\"M17.41 7.96l-1.37-1.37c-.4-.4-.92-.59-1.43-.59-.52 0-1.04.2-1.43.59L10.3 9.45l-7.72 7.72c-.78.78-.78 2.05 0 2.83L4 21.41c.39.39.9.59 1.41.59.51 0 1.02-.2 1.41-.59l7.78-7.78 2.81-2.81c.8-.78.8-2.07 0-2.86zM5.41 20L4 18.59l7.72-7.72 1.47 1.35L5.41 20z\"/>\n",
              "  </svg>\n",
              "      </button>\n",
              "      \n",
              "  <style>\n",
              "    .colab-df-container {\n",
              "      display:flex;\n",
              "      flex-wrap:wrap;\n",
              "      gap: 12px;\n",
              "    }\n",
              "\n",
              "    .colab-df-convert {\n",
              "      background-color: #E8F0FE;\n",
              "      border: none;\n",
              "      border-radius: 50%;\n",
              "      cursor: pointer;\n",
              "      display: none;\n",
              "      fill: #1967D2;\n",
              "      height: 32px;\n",
              "      padding: 0 0 0 0;\n",
              "      width: 32px;\n",
              "    }\n",
              "\n",
              "    .colab-df-convert:hover {\n",
              "      background-color: #E2EBFA;\n",
              "      box-shadow: 0px 1px 2px rgba(60, 64, 67, 0.3), 0px 1px 3px 1px rgba(60, 64, 67, 0.15);\n",
              "      fill: #174EA6;\n",
              "    }\n",
              "\n",
              "    [theme=dark] .colab-df-convert {\n",
              "      background-color: #3B4455;\n",
              "      fill: #D2E3FC;\n",
              "    }\n",
              "\n",
              "    [theme=dark] .colab-df-convert:hover {\n",
              "      background-color: #434B5C;\n",
              "      box-shadow: 0px 1px 3px 1px rgba(0, 0, 0, 0.15);\n",
              "      filter: drop-shadow(0px 1px 2px rgba(0, 0, 0, 0.3));\n",
              "      fill: #FFFFFF;\n",
              "    }\n",
              "  </style>\n",
              "\n",
              "      <script>\n",
              "        const buttonEl =\n",
              "          document.querySelector('#df-d07a5419-ff70-4f1a-b200-f90091f6fd4a button.colab-df-convert');\n",
              "        buttonEl.style.display =\n",
              "          google.colab.kernel.accessAllowed ? 'block' : 'none';\n",
              "\n",
              "        async function convertToInteractive(key) {\n",
              "          const element = document.querySelector('#df-d07a5419-ff70-4f1a-b200-f90091f6fd4a');\n",
              "          const dataTable =\n",
              "            await google.colab.kernel.invokeFunction('convertToInteractive',\n",
              "                                                     [key], {});\n",
              "          if (!dataTable) return;\n",
              "\n",
              "          const docLinkHtml = 'Like what you see? Visit the ' +\n",
              "            '<a target=\"_blank\" href=https://colab.research.google.com/notebooks/data_table.ipynb>data table notebook</a>'\n",
              "            + ' to learn more about interactive tables.';\n",
              "          element.innerHTML = '';\n",
              "          dataTable['output_type'] = 'display_data';\n",
              "          await google.colab.output.renderOutput(dataTable, element);\n",
              "          const docLink = document.createElement('div');\n",
              "          docLink.innerHTML = docLinkHtml;\n",
              "          element.appendChild(docLink);\n",
              "        }\n",
              "      </script>\n",
              "    </div>\n",
              "  </div>\n",
              "  "
            ],
            "text/plain": [
              "         country  beer_servings  ...  wine_servings  total_litres_of_pure_alcohol\n",
              "0    Afghanistan            NaN  ...            NaN                           NaN\n",
              "1        Albania           89.0  ...           54.0                           4.9\n",
              "2        Algeria           25.0  ...           14.0                           0.7\n",
              "3        Andorra          245.0  ...          312.0                          12.4\n",
              "4         Angola          217.0  ...           45.0                           5.9\n",
              "..           ...            ...  ...            ...                           ...\n",
              "188    Venezuela          333.0  ...            3.0                           7.7\n",
              "189      Vietnam          111.0  ...            1.0                           2.0\n",
              "190        Yemen            6.0  ...            NaN                           0.1\n",
              "191       Zambia           32.0  ...            4.0                           2.5\n",
              "192     Zimbabwe           64.0  ...            4.0                           4.7\n",
              "\n",
              "[193 rows x 5 columns]"
            ]
          },
          "metadata": {},
          "execution_count": 16
        }
      ]
    },
    {
      "cell_type": "code",
      "metadata": {
        "id": "ZF1yvwq59-TM",
        "outputId": "1172724a-3145-4174-a9fe-f47495257a4a",
        "colab": {
          "base_uri": "https://localhost:8080/",
          "height": 424
        }
      },
      "source": [
        "\n",
        "pd.read_csv('https://andybek.com/pandas-drinks', usecols=['country', 'wine_servings'])\n"
      ],
      "execution_count": 19,
      "outputs": [
        {
          "output_type": "execute_result",
          "data": {
            "text/html": [
              "\n",
              "  <div id=\"df-cada3380-5dbd-4d20-bd4d-3b7546fd6e1d\">\n",
              "    <div class=\"colab-df-container\">\n",
              "      <div>\n",
              "<style scoped>\n",
              "    .dataframe tbody tr th:only-of-type {\n",
              "        vertical-align: middle;\n",
              "    }\n",
              "\n",
              "    .dataframe tbody tr th {\n",
              "        vertical-align: top;\n",
              "    }\n",
              "\n",
              "    .dataframe thead th {\n",
              "        text-align: right;\n",
              "    }\n",
              "</style>\n",
              "<table border=\"1\" class=\"dataframe\">\n",
              "  <thead>\n",
              "    <tr style=\"text-align: right;\">\n",
              "      <th></th>\n",
              "      <th>country</th>\n",
              "      <th>wine_servings</th>\n",
              "    </tr>\n",
              "  </thead>\n",
              "  <tbody>\n",
              "    <tr>\n",
              "      <th>0</th>\n",
              "      <td>Afghanistan</td>\n",
              "      <td>NaN</td>\n",
              "    </tr>\n",
              "    <tr>\n",
              "      <th>1</th>\n",
              "      <td>Albania</td>\n",
              "      <td>54.0</td>\n",
              "    </tr>\n",
              "    <tr>\n",
              "      <th>2</th>\n",
              "      <td>Algeria</td>\n",
              "      <td>14.0</td>\n",
              "    </tr>\n",
              "    <tr>\n",
              "      <th>3</th>\n",
              "      <td>Andorra</td>\n",
              "      <td>312.0</td>\n",
              "    </tr>\n",
              "    <tr>\n",
              "      <th>4</th>\n",
              "      <td>Angola</td>\n",
              "      <td>45.0</td>\n",
              "    </tr>\n",
              "    <tr>\n",
              "      <th>...</th>\n",
              "      <td>...</td>\n",
              "      <td>...</td>\n",
              "    </tr>\n",
              "    <tr>\n",
              "      <th>188</th>\n",
              "      <td>Venezuela</td>\n",
              "      <td>3.0</td>\n",
              "    </tr>\n",
              "    <tr>\n",
              "      <th>189</th>\n",
              "      <td>Vietnam</td>\n",
              "      <td>1.0</td>\n",
              "    </tr>\n",
              "    <tr>\n",
              "      <th>190</th>\n",
              "      <td>Yemen</td>\n",
              "      <td>NaN</td>\n",
              "    </tr>\n",
              "    <tr>\n",
              "      <th>191</th>\n",
              "      <td>Zambia</td>\n",
              "      <td>4.0</td>\n",
              "    </tr>\n",
              "    <tr>\n",
              "      <th>192</th>\n",
              "      <td>Zimbabwe</td>\n",
              "      <td>4.0</td>\n",
              "    </tr>\n",
              "  </tbody>\n",
              "</table>\n",
              "<p>193 rows × 2 columns</p>\n",
              "</div>\n",
              "      <button class=\"colab-df-convert\" onclick=\"convertToInteractive('df-cada3380-5dbd-4d20-bd4d-3b7546fd6e1d')\"\n",
              "              title=\"Convert this dataframe to an interactive table.\"\n",
              "              style=\"display:none;\">\n",
              "        \n",
              "  <svg xmlns=\"http://www.w3.org/2000/svg\" height=\"24px\"viewBox=\"0 0 24 24\"\n",
              "       width=\"24px\">\n",
              "    <path d=\"M0 0h24v24H0V0z\" fill=\"none\"/>\n",
              "    <path d=\"M18.56 5.44l.94 2.06.94-2.06 2.06-.94-2.06-.94-.94-2.06-.94 2.06-2.06.94zm-11 1L8.5 8.5l.94-2.06 2.06-.94-2.06-.94L8.5 2.5l-.94 2.06-2.06.94zm10 10l.94 2.06.94-2.06 2.06-.94-2.06-.94-.94-2.06-.94 2.06-2.06.94z\"/><path d=\"M17.41 7.96l-1.37-1.37c-.4-.4-.92-.59-1.43-.59-.52 0-1.04.2-1.43.59L10.3 9.45l-7.72 7.72c-.78.78-.78 2.05 0 2.83L4 21.41c.39.39.9.59 1.41.59.51 0 1.02-.2 1.41-.59l7.78-7.78 2.81-2.81c.8-.78.8-2.07 0-2.86zM5.41 20L4 18.59l7.72-7.72 1.47 1.35L5.41 20z\"/>\n",
              "  </svg>\n",
              "      </button>\n",
              "      \n",
              "  <style>\n",
              "    .colab-df-container {\n",
              "      display:flex;\n",
              "      flex-wrap:wrap;\n",
              "      gap: 12px;\n",
              "    }\n",
              "\n",
              "    .colab-df-convert {\n",
              "      background-color: #E8F0FE;\n",
              "      border: none;\n",
              "      border-radius: 50%;\n",
              "      cursor: pointer;\n",
              "      display: none;\n",
              "      fill: #1967D2;\n",
              "      height: 32px;\n",
              "      padding: 0 0 0 0;\n",
              "      width: 32px;\n",
              "    }\n",
              "\n",
              "    .colab-df-convert:hover {\n",
              "      background-color: #E2EBFA;\n",
              "      box-shadow: 0px 1px 2px rgba(60, 64, 67, 0.3), 0px 1px 3px 1px rgba(60, 64, 67, 0.15);\n",
              "      fill: #174EA6;\n",
              "    }\n",
              "\n",
              "    [theme=dark] .colab-df-convert {\n",
              "      background-color: #3B4455;\n",
              "      fill: #D2E3FC;\n",
              "    }\n",
              "\n",
              "    [theme=dark] .colab-df-convert:hover {\n",
              "      background-color: #434B5C;\n",
              "      box-shadow: 0px 1px 3px 1px rgba(0, 0, 0, 0.15);\n",
              "      filter: drop-shadow(0px 1px 2px rgba(0, 0, 0, 0.3));\n",
              "      fill: #FFFFFF;\n",
              "    }\n",
              "  </style>\n",
              "\n",
              "      <script>\n",
              "        const buttonEl =\n",
              "          document.querySelector('#df-cada3380-5dbd-4d20-bd4d-3b7546fd6e1d button.colab-df-convert');\n",
              "        buttonEl.style.display =\n",
              "          google.colab.kernel.accessAllowed ? 'block' : 'none';\n",
              "\n",
              "        async function convertToInteractive(key) {\n",
              "          const element = document.querySelector('#df-cada3380-5dbd-4d20-bd4d-3b7546fd6e1d');\n",
              "          const dataTable =\n",
              "            await google.colab.kernel.invokeFunction('convertToInteractive',\n",
              "                                                     [key], {});\n",
              "          if (!dataTable) return;\n",
              "\n",
              "          const docLinkHtml = 'Like what you see? Visit the ' +\n",
              "            '<a target=\"_blank\" href=https://colab.research.google.com/notebooks/data_table.ipynb>data table notebook</a>'\n",
              "            + ' to learn more about interactive tables.';\n",
              "          element.innerHTML = '';\n",
              "          dataTable['output_type'] = 'display_data';\n",
              "          await google.colab.output.renderOutput(dataTable, element);\n",
              "          const docLink = document.createElement('div');\n",
              "          docLink.innerHTML = docLinkHtml;\n",
              "          element.appendChild(docLink);\n",
              "        }\n",
              "      </script>\n",
              "    </div>\n",
              "  </div>\n",
              "  "
            ],
            "text/plain": [
              "         country  wine_servings\n",
              "0    Afghanistan            NaN\n",
              "1        Albania           54.0\n",
              "2        Algeria           14.0\n",
              "3        Andorra          312.0\n",
              "4         Angola           45.0\n",
              "..           ...            ...\n",
              "188    Venezuela            3.0\n",
              "189      Vietnam            1.0\n",
              "190        Yemen            NaN\n",
              "191       Zambia            4.0\n",
              "192     Zimbabwe            4.0\n",
              "\n",
              "[193 rows x 2 columns]"
            ]
          },
          "metadata": {},
          "execution_count": 19
        }
      ]
    },
    {
      "cell_type": "code",
      "metadata": {
        "id": "w3-GAq3k-WRU"
      },
      "source": [
        "\n",
        "alcohol = pd.read_csv('https://andybek.com/pandas-drinks', usecols=['country', 'wine_servings'], index_col='country', squeeze=True)"
      ],
      "execution_count": 25,
      "outputs": []
    },
    {
      "cell_type": "code",
      "metadata": {
        "id": "7oXPZ5xp-c5T",
        "outputId": "ae10134f-a682-449d-b1b9-f614a63f9c39",
        "colab": {
          "base_uri": "https://localhost:8080/"
        }
      },
      "source": [
        "\n",
        "alcohol.head()"
      ],
      "execution_count": 27,
      "outputs": [
        {
          "output_type": "execute_result",
          "data": {
            "text/plain": [
              "country\n",
              "Afghanistan      NaN\n",
              "Albania         54.0\n",
              "Algeria         14.0\n",
              "Andorra        312.0\n",
              "Angola          45.0\n",
              "Name: wine_servings, dtype: float64"
            ]
          },
          "metadata": {},
          "execution_count": 27
        }
      ]
    },
    {
      "cell_type": "code",
      "metadata": {
        "id": "j7Yk_CQy-k8r",
        "outputId": "1e62dee5-810a-4314-9ee7-fe77550eeb1d",
        "colab": {
          "base_uri": "https://localhost:8080/"
        }
      },
      "source": [
        "\n",
        "type(alcohol)"
      ],
      "execution_count": 28,
      "outputs": [
        {
          "output_type": "execute_result",
          "data": {
            "text/plain": [
              "pandas.core.series.Series"
            ]
          },
          "metadata": {},
          "execution_count": 28
        }
      ]
    },
    {
      "cell_type": "markdown",
      "metadata": {
        "id": "roGT2PHA-vQ-"
      },
      "source": [
        "#### Series Sizing With .size, .shape, And len()"
      ]
    },
    {
      "cell_type": "code",
      "metadata": {
        "id": "flfJoYPBguXT",
        "outputId": "e092e887-845b-4810-a60b-0f419a287eb8",
        "colab": {
          "base_uri": "https://localhost:8080/"
        }
      },
      "source": [
        "\n",
        "alcohol.size"
      ],
      "execution_count": 29,
      "outputs": [
        {
          "output_type": "execute_result",
          "data": {
            "text/plain": [
              "193"
            ]
          },
          "metadata": {},
          "execution_count": 29
        }
      ]
    },
    {
      "cell_type": "code",
      "metadata": {
        "id": "L5MQnRKSg7qJ",
        "outputId": "33d4b114-1c3e-4794-8f00-1954c673d12e",
        "colab": {
          "base_uri": "https://localhost:8080/"
        }
      },
      "source": [
        "alcohol"
      ],
      "execution_count": 30,
      "outputs": [
        {
          "output_type": "execute_result",
          "data": {
            "text/plain": [
              "country\n",
              "Afghanistan      NaN\n",
              "Albania         54.0\n",
              "Algeria         14.0\n",
              "Andorra        312.0\n",
              "Angola          45.0\n",
              "               ...  \n",
              "Venezuela        3.0\n",
              "Vietnam          1.0\n",
              "Yemen            NaN\n",
              "Zambia           4.0\n",
              "Zimbabwe         4.0\n",
              "Name: wine_servings, Length: 193, dtype: float64"
            ]
          },
          "metadata": {},
          "execution_count": 30
        }
      ]
    },
    {
      "cell_type": "code",
      "metadata": {
        "id": "d_9oGPAAhC35",
        "outputId": "441801e0-cc31-47bf-ef3a-e64ab1aa7654",
        "colab": {
          "base_uri": "https://localhost:8080/"
        }
      },
      "source": [
        "#alcohol.values\n",
        "alcohol.values"
      ],
      "execution_count": 31,
      "outputs": [
        {
          "output_type": "execute_result",
          "data": {
            "text/plain": [
              "array([ nan,  54.,  14., 312.,  45.,  45., 221.,  11., 212., 191.,   5.,\n",
              "        51.,   7.,  nan,  36.,  42., 212.,   8.,  13.,  nan,   8.,   8.,\n",
              "        35.,  16.,   1.,  94.,   7.,  nan,   7.,  16.,   1.,   4.,   1.,\n",
              "         1.,   1., 172.,   8.,   3.,   1.,   9.,  74.,  11., 254.,   5.,\n",
              "       113., 134.,  nan,   1., 278.,   3.,  26.,   9.,   3.,   1.,   2.,\n",
              "       233.,  nan,  59.,  nan,   1.,  97.,  37.,  59.,   1., 149., 175.,\n",
              "         1., 218.,  28.,   2.,   2.,  21.,   1.,   1.,   2., 185.,  78.,\n",
              "        nan,  nan,  nan,  nan, 165.,   9., 237.,   9.,  16.,   1.,  12.,\n",
              "         2.,   1.,  nan,   6., 123.,  62.,  31.,  nan,   2.,  nan,  56.,\n",
              "       271.,   4.,   1.,  nan,  nan,   1.,  12.,  nan,  nan,  18.,   5.,\n",
              "        18.,  nan,   8., 128.,   1.,   5.,  nan,   1.,   8.,  nan,  19.,\n",
              "       175.,   1.,   1.,   2.,   7., 129.,   1.,  nan,  23.,  18.,   1.,\n",
              "        74.,  21.,   1.,  56., 339.,   7.,   9.,  18., 167.,  73.,  nan,\n",
              "        32.,  71.,  11.,  24.,  nan,  14.,  nan,   7., 127.,  51.,   2.,\n",
              "        11., 116., 276.,   1.,  nan,  81., 112.,  nan,  nan,   7.,   2.,\n",
              "       186.,  28.,  16.,  nan,   1.,  86.,   4.,  19.,   5.,   7.,   2.,\n",
              "         7.,  32.,   9.,  nan,  45.,   5., 195.,   1.,  84.,  22.,   8.,\n",
              "        11.,   3.,   1.,  nan,   4.,   4.])"
            ]
          },
          "metadata": {},
          "execution_count": 31
        }
      ]
    },
    {
      "cell_type": "code",
      "metadata": {
        "id": "61ZcK0FKhLQj",
        "outputId": "d2b977e0-ceea-47e4-da7d-ceebfc354940",
        "colab": {
          "base_uri": "https://localhost:8080/"
        }
      },
      "source": [
        "\n",
        "alcohol.index"
      ],
      "execution_count": 32,
      "outputs": [
        {
          "output_type": "execute_result",
          "data": {
            "text/plain": [
              "Index(['Afghanistan', 'Albania', 'Algeria', 'Andorra', 'Angola',\n",
              "       'Antigua & Barbuda', 'Argentina', 'Armenia', 'Australia', 'Austria',\n",
              "       ...\n",
              "       'Tanzania', 'USA', 'Uruguay', 'Uzbekistan', 'Vanuatu', 'Venezuela',\n",
              "       'Vietnam', 'Yemen', 'Zambia', 'Zimbabwe'],\n",
              "      dtype='object', name='country', length=193)"
            ]
          },
          "metadata": {},
          "execution_count": 32
        }
      ]
    },
    {
      "cell_type": "code",
      "metadata": {
        "id": "rjTgLQ_-hNme",
        "outputId": "4b55ec84-f52a-47a9-86af-a8e1674ae301",
        "colab": {
          "base_uri": "https://localhost:8080/"
        }
      },
      "source": [
        "\n",
        "alcohol.values.size == alcohol.index.size"
      ],
      "execution_count": 34,
      "outputs": [
        {
          "output_type": "execute_result",
          "data": {
            "text/plain": [
              "True"
            ]
          },
          "metadata": {},
          "execution_count": 34
        }
      ]
    },
    {
      "cell_type": "code",
      "metadata": {
        "id": "B4o803cBhSSw",
        "outputId": "d973672f-99a0-4c27-e700-88a89b41aca3",
        "colab": {
          "base_uri": "https://localhost:8080/"
        }
      },
      "source": [
        "\n",
        "alcohol.shape"
      ],
      "execution_count": 35,
      "outputs": [
        {
          "output_type": "execute_result",
          "data": {
            "text/plain": [
              "(193,)"
            ]
          },
          "metadata": {},
          "execution_count": 35
        }
      ]
    },
    {
      "cell_type": "code",
      "metadata": {
        "id": "85EjNTKfhaib",
        "outputId": "8ce923d6-780a-4263-8411-1eca9625cfd2",
        "colab": {
          "base_uri": "https://localhost:8080/"
        }
      },
      "source": [
        "\n",
        "alcohol.size == alcohol.shape[0]"
      ],
      "execution_count": 36,
      "outputs": [
        {
          "output_type": "execute_result",
          "data": {
            "text/plain": [
              "True"
            ]
          },
          "metadata": {},
          "execution_count": 36
        }
      ]
    },
    {
      "cell_type": "code",
      "metadata": {
        "id": "jWwUR08Cho2G",
        "outputId": "13fc1fcc-e6ea-45d5-8119-a676a411363e",
        "colab": {
          "base_uri": "https://localhost:8080/"
        }
      },
      "source": [
        "\n",
        "len(alcohol)"
      ],
      "execution_count": 37,
      "outputs": [
        {
          "output_type": "execute_result",
          "data": {
            "text/plain": [
              "193"
            ]
          },
          "metadata": {},
          "execution_count": 37
        }
      ]
    },
    {
      "cell_type": "markdown",
      "metadata": {
        "id": "CcJlcLKThuB1"
      },
      "source": [
        "#### Unique Values And Series Monotonicity"
      ]
    },
    {
      "cell_type": "code",
      "metadata": {
        "id": "KlYzJJ78mf2s",
        "outputId": "e4f8e892-bc5a-4e5d-9c40-c45d227f33e3",
        "colab": {
          "base_uri": "https://localhost:8080/"
        }
      },
      "source": [
        "\n",
        "alcohol.is_unique"
      ],
      "execution_count": 38,
      "outputs": [
        {
          "output_type": "execute_result",
          "data": {
            "text/plain": [
              "False"
            ]
          },
          "metadata": {},
          "execution_count": 38
        }
      ]
    },
    {
      "cell_type": "code",
      "metadata": {
        "id": "13R7WJFZmXxN",
        "outputId": "303d712b-e3b0-46dc-8e30-3518c3cccd82",
        "colab": {
          "base_uri": "https://localhost:8080/"
        }
      },
      "source": [
        "\n",
        "alcohol.head().is_unique"
      ],
      "execution_count": 40,
      "outputs": [
        {
          "output_type": "execute_result",
          "data": {
            "text/plain": [
              "True"
            ]
          },
          "metadata": {},
          "execution_count": 40
        }
      ]
    },
    {
      "cell_type": "code",
      "metadata": {
        "id": "A_VLPfH5nAc-",
        "outputId": "c634445b-2dd0-44f3-b4a8-cde3fb41061f",
        "colab": {
          "base_uri": "https://localhost:8080/"
        }
      },
      "source": [
        "\n",
        "alcohol.nunique(dropna=False)"
      ],
      "execution_count": 43,
      "outputs": [
        {
          "output_type": "execute_result",
          "data": {
            "text/plain": [
              "72"
            ]
          },
          "metadata": {},
          "execution_count": 43
        }
      ]
    },
    {
      "cell_type": "code",
      "metadata": {
        "id": "qVB6dasmnLXh"
      },
      "source": [
        "\n",
        "#monotonicity"
      ],
      "execution_count": 45,
      "outputs": []
    },
    {
      "cell_type": "code",
      "metadata": {
        "id": "edfhcu-HnW0V",
        "outputId": "72b13e93-e9f7-4828-88f4-140cfd5aa716",
        "colab": {
          "base_uri": "https://localhost:8080/"
        }
      },
      "source": [
        "\n",
        "pd.Series([1,2,3]) .is_monotonic"
      ],
      "execution_count": 47,
      "outputs": [
        {
          "output_type": "execute_result",
          "data": {
            "text/plain": [
              "True"
            ]
          },
          "metadata": {},
          "execution_count": 47
        }
      ]
    },
    {
      "cell_type": "code",
      "metadata": {
        "id": "UZHEBHuKnfWx",
        "outputId": "8db23dfe-3570-4c9a-a4e6-647541e2cf1a",
        "colab": {
          "base_uri": "https://localhost:8080/"
        }
      },
      "source": [
        "\n",
        "pd.Series([1,2,3,3,3]).is_monotonic"
      ],
      "execution_count": 48,
      "outputs": [
        {
          "output_type": "execute_result",
          "data": {
            "text/plain": [
              "True"
            ]
          },
          "metadata": {},
          "execution_count": 48
        }
      ]
    },
    {
      "cell_type": "code",
      "metadata": {
        "id": "2_fsP-Ldnjlf",
        "outputId": "1853a1f3-b65a-48d7-b8f9-bf0e70bd5185",
        "colab": {
          "base_uri": "https://localhost:8080/"
        }
      },
      "source": [
        "\n",
        "pd.Series([1,2,3,4,5,5,5,5,78,10001]).is_monotonic"
      ],
      "execution_count": 49,
      "outputs": [
        {
          "output_type": "execute_result",
          "data": {
            "text/plain": [
              "True"
            ]
          },
          "metadata": {},
          "execution_count": 49
        }
      ]
    },
    {
      "cell_type": "code",
      "metadata": {
        "id": "7JEXemhZnmzD",
        "outputId": "16486d50-1860-4d4b-b196-33054c2e3449",
        "colab": {
          "base_uri": "https://localhost:8080/"
        }
      },
      "source": [
        "\n",
        "pd.Series(reversed([1,2,3,4,5,5,5,5,78,10001])).is_monotonic_decreasing"
      ],
      "execution_count": 52,
      "outputs": [
        {
          "output_type": "execute_result",
          "data": {
            "text/plain": [
              "True"
            ]
          },
          "metadata": {},
          "execution_count": 52
        }
      ]
    },
    {
      "cell_type": "markdown",
      "metadata": {
        "id": "8ZPmSRd2npNL"
      },
      "source": [
        "#### The count() Method"
      ]
    },
    {
      "cell_type": "code",
      "metadata": {
        "id": "HpIzp4kUrYag",
        "outputId": "f364d689-c947-4bb3-cf81-fdc97b53bd01",
        "colab": {
          "base_uri": "https://localhost:8080/"
        }
      },
      "source": [
        "\n",
        "alcohol.count()"
      ],
      "execution_count": 53,
      "outputs": [
        {
          "output_type": "execute_result",
          "data": {
            "text/plain": [
              "162"
            ]
          },
          "metadata": {},
          "execution_count": 53
        }
      ]
    },
    {
      "cell_type": "code",
      "metadata": {
        "id": "SmcwPpO5rjxD",
        "outputId": "0924a4e6-bb22-4c5e-d4fb-5ace08a27bcf",
        "colab": {
          "base_uri": "https://localhost:8080/"
        }
      },
      "source": [
        "\n",
        "alcohol.size"
      ],
      "execution_count": 54,
      "outputs": [
        {
          "output_type": "execute_result",
          "data": {
            "text/plain": [
              "193"
            ]
          },
          "metadata": {},
          "execution_count": 54
        }
      ]
    },
    {
      "cell_type": "code",
      "metadata": {
        "id": "0KjpmHC_rnH3",
        "outputId": "e6032f4e-acaf-4976-c101-6b3cf4b8191e",
        "colab": {
          "base_uri": "https://localhost:8080/"
        }
      },
      "source": [
        "\n",
        "alcohol.hasnans"
      ],
      "execution_count": 55,
      "outputs": [
        {
          "output_type": "execute_result",
          "data": {
            "text/plain": [
              "True"
            ]
          },
          "metadata": {},
          "execution_count": 55
        }
      ]
    },
    {
      "cell_type": "markdown",
      "metadata": {
        "id": "2Uyb4BGewrd1"
      },
      "source": [
        "#### Accessing And Counting NA's"
      ]
    },
    {
      "cell_type": "code",
      "metadata": {
        "id": "wrltTMnR3mRY",
        "outputId": "ed65d6e8-b50e-4f55-e094-4df21efa3b16",
        "colab": {
          "base_uri": "https://localhost:8080/"
        }
      },
      "source": [
        "\n",
        "alcohol.size"
      ],
      "execution_count": 56,
      "outputs": [
        {
          "output_type": "execute_result",
          "data": {
            "text/plain": [
              "193"
            ]
          },
          "metadata": {},
          "execution_count": 56
        }
      ]
    },
    {
      "cell_type": "code",
      "metadata": {
        "id": "wKcFq9e8312e",
        "outputId": "d6fa182b-447e-4315-b3aa-58b092e42616",
        "colab": {
          "base_uri": "https://localhost:8080/"
        }
      },
      "source": [
        "\n",
        "alcohol.count()"
      ],
      "execution_count": 57,
      "outputs": [
        {
          "output_type": "execute_result",
          "data": {
            "text/plain": [
              "162"
            ]
          },
          "metadata": {},
          "execution_count": 57
        }
      ]
    },
    {
      "cell_type": "code",
      "metadata": {
        "id": "1mnSiAcw33Ez",
        "outputId": "d51186a4-a165-4b2c-e84b-6baadde19fde",
        "colab": {
          "base_uri": "https://localhost:8080/"
        }
      },
      "source": [
        "\n",
        "alcohol.isnull()"
      ],
      "execution_count": 58,
      "outputs": [
        {
          "output_type": "execute_result",
          "data": {
            "text/plain": [
              "country\n",
              "Afghanistan     True\n",
              "Albania        False\n",
              "Algeria        False\n",
              "Andorra        False\n",
              "Angola         False\n",
              "               ...  \n",
              "Venezuela      False\n",
              "Vietnam        False\n",
              "Yemen           True\n",
              "Zambia         False\n",
              "Zimbabwe       False\n",
              "Name: wine_servings, Length: 193, dtype: bool"
            ]
          },
          "metadata": {},
          "execution_count": 58
        }
      ]
    },
    {
      "cell_type": "code",
      "metadata": {
        "id": "cXoe2rMo4Ak-",
        "outputId": "e5f35591-6bdc-44cf-812c-d29480747629",
        "colab": {
          "base_uri": "https://localhost:8080/"
        }
      },
      "source": [
        "\n",
        "alcohol[alcohol.isnull()].index"
      ],
      "execution_count": 60,
      "outputs": [
        {
          "output_type": "execute_result",
          "data": {
            "text/plain": [
              "Index(['Afghanistan', 'Bangladesh', 'Bhutan', 'Burundi', 'North Korea',\n",
              "       'Eritrea', 'Ethiopia', 'India', 'Indonesia', 'Iran', 'Iraq', 'Kuwait',\n",
              "       'Lesotho', 'Libya', 'Malaysia', 'Maldives', 'Marshall Islands',\n",
              "       'Mauritania', 'Monaco', 'Myanmar', 'Nepal', 'Pakistan', 'Rwanda',\n",
              "       'San Marino', 'Saudi Arabia', 'Somalia', 'Sri Lanka', 'Sudan',\n",
              "       'Tajikistan', 'Uganda', 'Yemen'],\n",
              "      dtype='object', name='country')"
            ]
          },
          "metadata": {},
          "execution_count": 60
        }
      ]
    },
    {
      "cell_type": "code",
      "metadata": {
        "id": "8tN90S2e4RN9",
        "outputId": "876fcf34-dfbd-48d9-cb56-17409c8540c4",
        "colab": {
          "base_uri": "https://localhost:8080/"
        }
      },
      "source": [
        "\n",
        "type(alcohol[alcohol.isnull()].index)\n"
      ],
      "execution_count": 61,
      "outputs": [
        {
          "output_type": "execute_result",
          "data": {
            "text/plain": [
              "pandas.core.indexes.base.Index"
            ]
          },
          "metadata": {},
          "execution_count": 61
        }
      ]
    },
    {
      "cell_type": "code",
      "metadata": {
        "id": "5bfVh2Yo4czZ",
        "outputId": "dcd63caf-27ee-42b5-f235-069e9a58c6e4",
        "colab": {
          "base_uri": "https://localhost:8080/"
        }
      },
      "source": [
        "\n",
        "list(alcohol[alcohol.isnull()].index)"
      ],
      "execution_count": 62,
      "outputs": [
        {
          "output_type": "execute_result",
          "data": {
            "text/plain": [
              "['Afghanistan',\n",
              " 'Bangladesh',\n",
              " 'Bhutan',\n",
              " 'Burundi',\n",
              " 'North Korea',\n",
              " 'Eritrea',\n",
              " 'Ethiopia',\n",
              " 'India',\n",
              " 'Indonesia',\n",
              " 'Iran',\n",
              " 'Iraq',\n",
              " 'Kuwait',\n",
              " 'Lesotho',\n",
              " 'Libya',\n",
              " 'Malaysia',\n",
              " 'Maldives',\n",
              " 'Marshall Islands',\n",
              " 'Mauritania',\n",
              " 'Monaco',\n",
              " 'Myanmar',\n",
              " 'Nepal',\n",
              " 'Pakistan',\n",
              " 'Rwanda',\n",
              " 'San Marino',\n",
              " 'Saudi Arabia',\n",
              " 'Somalia',\n",
              " 'Sri Lanka',\n",
              " 'Sudan',\n",
              " 'Tajikistan',\n",
              " 'Uganda',\n",
              " 'Yemen']"
            ]
          },
          "metadata": {},
          "execution_count": 62
        }
      ]
    },
    {
      "cell_type": "code",
      "metadata": {
        "id": "6xlN1kLm4gFL",
        "outputId": "db46e814-6c60-4f56-fc15-c779ffb13ba0",
        "colab": {
          "base_uri": "https://localhost:8080/"
        }
      },
      "source": [
        "\n",
        "len(list(alcohol[alcohol.isnull()].index))"
      ],
      "execution_count": 63,
      "outputs": [
        {
          "output_type": "execute_result",
          "data": {
            "text/plain": [
              "31"
            ]
          },
          "metadata": {},
          "execution_count": 63
        }
      ]
    },
    {
      "cell_type": "code",
      "metadata": {
        "id": "L8_WVNBD4sD6"
      },
      "source": [
        "# cumbersome: very difficult to work with"
      ],
      "execution_count": 64,
      "outputs": []
    },
    {
      "cell_type": "code",
      "metadata": {
        "id": "DX98Imtv43N6"
      },
      "source": [
        "# antonym: pandorable -> adorable and involving pandas"
      ],
      "execution_count": 65,
      "outputs": []
    },
    {
      "cell_type": "code",
      "metadata": {
        "id": "GPjvoQQx48BY",
        "outputId": "c190bc29-b163-4bad-dec3-3ec3bf3837d9",
        "colab": {
          "base_uri": "https://localhost:8080/"
        }
      },
      "source": [
        "\n",
        "alcohol.isnull().sum()"
      ],
      "execution_count": 66,
      "outputs": [
        {
          "output_type": "execute_result",
          "data": {
            "text/plain": [
              "31"
            ]
          },
          "metadata": {},
          "execution_count": 66
        }
      ]
    },
    {
      "cell_type": "code",
      "metadata": {
        "id": "rMiQq6QJ5Ah2"
      },
      "source": [
        "# booleans are integers in python"
      ],
      "execution_count": 67,
      "outputs": []
    },
    {
      "cell_type": "code",
      "metadata": {
        "id": "cOfP156_5Pyh",
        "outputId": "acb3d843-b9ac-4ede-9c8d-8a0bb3335ed6",
        "colab": {
          "base_uri": "https://localhost:8080/"
        }
      },
      "source": [
        "\n",
        "sum([True,True,True,False])"
      ],
      "execution_count": 68,
      "outputs": [
        {
          "output_type": "execute_result",
          "data": {
            "text/plain": [
              "3"
            ]
          },
          "metadata": {},
          "execution_count": 68
        }
      ]
    },
    {
      "cell_type": "code",
      "metadata": {
        "id": "JALwr3eY5Ryy",
        "colab": {
          "base_uri": "https://localhost:8080/"
        },
        "outputId": "4c567613-9796-43c2-a886-8fc21d1e7f88"
      },
      "source": [
        "\n",
        "all = alcohol.size\n",
        "\n"
      ],
      "execution_count": 70,
      "outputs": [
        {
          "output_type": "execute_result",
          "data": {
            "text/plain": [
              "193"
            ]
          },
          "metadata": {},
          "execution_count": 70
        }
      ]
    },
    {
      "cell_type": "code",
      "metadata": {
        "id": "8PrDaULY5h1G",
        "colab": {
          "base_uri": "https://localhost:8080/"
        },
        "outputId": "c3a49685-fab4-4830-839a-5f839e511f7b"
      },
      "source": [
        "\n",
        "nonnulls = alcohol.count()\n",
        "nonnulls"
      ],
      "execution_count": 71,
      "outputs": [
        {
          "output_type": "execute_result",
          "data": {
            "text/plain": [
              "162"
            ]
          },
          "metadata": {},
          "execution_count": 71
        }
      ]
    },
    {
      "cell_type": "code",
      "metadata": {
        "id": "c6OkKOQ65j3U",
        "colab": {
          "base_uri": "https://localhost:8080/"
        },
        "outputId": "7640e176-fb85-4c37-c47e-0796640ea7b3"
      },
      "source": [
        "\n",
        "nulls = alcohol.isna().sum()\n",
        "nulls"
      ],
      "execution_count": 72,
      "outputs": [
        {
          "output_type": "execute_result",
          "data": {
            "text/plain": [
              "31"
            ]
          },
          "metadata": {},
          "execution_count": 72
        }
      ]
    },
    {
      "cell_type": "code",
      "metadata": {
        "id": "7dfAEkwN5psH",
        "outputId": "44d36ed7-bf2a-47ed-9089-b27cc2aa886b",
        "colab": {
          "base_uri": "https://localhost:8080/"
        }
      },
      "source": [
        "\n",
        "all == nonnulls + nulls"
      ],
      "execution_count": 73,
      "outputs": [
        {
          "output_type": "execute_result",
          "data": {
            "text/plain": [
              "True"
            ]
          },
          "metadata": {},
          "execution_count": 73
        }
      ]
    },
    {
      "cell_type": "markdown",
      "metadata": {
        "id": "0cQFTQaf5sdp"
      },
      "source": [
        "#### BONUS: Another Approach"
      ]
    },
    {
      "cell_type": "code",
      "metadata": {
        "id": "BwJQxxmOEzrv"
      },
      "source": [
        "\n",
        "# ufun -> universal function"
      ],
      "execution_count": 74,
      "outputs": []
    },
    {
      "cell_type": "code",
      "metadata": {
        "id": "NAxUwv4bHqAE",
        "outputId": "bb8c116a-297d-422f-c0f9-458e0fe2586c",
        "colab": {
          "base_uri": "https://localhost:8080/"
        }
      },
      "source": [
        "\n",
        "np.isnan"
      ],
      "execution_count": 75,
      "outputs": [
        {
          "output_type": "execute_result",
          "data": {
            "text/plain": [
              "<ufunc 'isnan'>"
            ]
          },
          "metadata": {},
          "execution_count": 75
        }
      ]
    },
    {
      "cell_type": "code",
      "metadata": {
        "id": "Ds6uEqwiHsnR",
        "colab": {
          "base_uri": "https://localhost:8080/"
        },
        "outputId": "b696fcaf-ddeb-47be-ea11-d4353f58e991"
      },
      "source": [
        "\n",
        "ser = pd.Series(data=[True, False, None, 2], dtype=float)\n",
        "ser"
      ],
      "execution_count": 76,
      "outputs": [
        {
          "output_type": "execute_result",
          "data": {
            "text/plain": [
              "0    1.0\n",
              "1    0.0\n",
              "2    NaN\n",
              "3    2.0\n",
              "dtype: float64"
            ]
          },
          "metadata": {},
          "execution_count": 76
        }
      ]
    },
    {
      "cell_type": "code",
      "metadata": {
        "id": "ga4-GwZ8Hru3",
        "outputId": "3d6309d6-e2ab-4543-f617-8bb9120e2a3d",
        "colab": {
          "base_uri": "https://localhost:8080/"
        }
      },
      "source": [
        "\n",
        "np.isnan(ser)"
      ],
      "execution_count": 77,
      "outputs": [
        {
          "output_type": "execute_result",
          "data": {
            "text/plain": [
              "0    False\n",
              "1    False\n",
              "2     True\n",
              "3    False\n",
              "dtype: bool"
            ]
          },
          "metadata": {},
          "execution_count": 77
        }
      ]
    },
    {
      "cell_type": "code",
      "metadata": {
        "id": "JkQ5C6t1Hrrj",
        "outputId": "a2bdee47-b520-4694-cd8b-ff03ec4967f6",
        "colab": {
          "base_uri": "https://localhost:8080/"
        }
      },
      "source": [
        "ser"
      ],
      "execution_count": 78,
      "outputs": [
        {
          "output_type": "execute_result",
          "data": {
            "text/plain": [
              "0    1.0\n",
              "1    0.0\n",
              "2    NaN\n",
              "3    2.0\n",
              "dtype: float64"
            ]
          },
          "metadata": {},
          "execution_count": 78
        }
      ]
    },
    {
      "cell_type": "code",
      "metadata": {
        "id": "6wduynawHrGp",
        "outputId": "77a6c381-e3a4-477e-dbf1-7ab5a1366e6b",
        "colab": {
          "base_uri": "https://localhost:8080/"
        }
      },
      "source": [
        "\n",
        "alcohol[np.isnan].size"
      ],
      "execution_count": 79,
      "outputs": [
        {
          "output_type": "execute_result",
          "data": {
            "text/plain": [
              "31"
            ]
          },
          "metadata": {},
          "execution_count": 79
        }
      ]
    },
    {
      "cell_type": "code",
      "metadata": {
        "id": "qv0ESse1Id3c"
      },
      "source": [
        "# alcohol[alcohol.isna()]"
      ],
      "execution_count": 80,
      "outputs": []
    },
    {
      "cell_type": "markdown",
      "metadata": {
        "id": "avNo9M4XIscn"
      },
      "source": [
        "#### The Other Side: notnull() And notna()"
      ]
    },
    {
      "cell_type": "code",
      "metadata": {
        "id": "lLEHEcbKyAUF"
      },
      "source": [
        "# notnull()"
      ],
      "execution_count": 81,
      "outputs": []
    },
    {
      "cell_type": "code",
      "metadata": {
        "id": "olmwJ_VwyAJn",
        "outputId": "e4b93095-0ff5-4ab2-d596-631e8c4ebe1c",
        "colab": {
          "base_uri": "https://localhost:8080/"
        }
      },
      "source": [
        "\n",
        "alcohol.notnull()"
      ],
      "execution_count": 84,
      "outputs": [
        {
          "output_type": "execute_result",
          "data": {
            "text/plain": [
              "country\n",
              "Afghanistan    False\n",
              "Albania         True\n",
              "Algeria         True\n",
              "Andorra         True\n",
              "Angola          True\n",
              "               ...  \n",
              "Venezuela       True\n",
              "Vietnam         True\n",
              "Yemen          False\n",
              "Zambia          True\n",
              "Zimbabwe        True\n",
              "Name: wine_servings, Length: 193, dtype: bool"
            ]
          },
          "metadata": {},
          "execution_count": 84
        }
      ]
    },
    {
      "cell_type": "code",
      "metadata": {
        "id": "wlHqiCsDxn4P",
        "outputId": "bf201af4-35dd-4d57-d8a9-966302323794",
        "colab": {
          "base_uri": "https://localhost:8080/"
        }
      },
      "source": [
        "\n",
        "alcohol.loc[alcohol.notna()]"
      ],
      "execution_count": 87,
      "outputs": [
        {
          "output_type": "execute_result",
          "data": {
            "text/plain": [
              "country\n",
              "Albania               54.0\n",
              "Algeria               14.0\n",
              "Andorra              312.0\n",
              "Angola                45.0\n",
              "Antigua & Barbuda     45.0\n",
              "                     ...  \n",
              "Vanuatu               11.0\n",
              "Venezuela              3.0\n",
              "Vietnam                1.0\n",
              "Zambia                 4.0\n",
              "Zimbabwe               4.0\n",
              "Name: wine_servings, Length: 162, dtype: float64"
            ]
          },
          "metadata": {},
          "execution_count": 87
        }
      ]
    },
    {
      "cell_type": "code",
      "metadata": {
        "id": "gvoTVEHyxn00",
        "outputId": "b5def06b-d864-49b3-aab2-b046964e91d4",
        "colab": {
          "base_uri": "https://localhost:8080/"
        }
      },
      "source": [
        "\n",
        "alcohol.notna().sum()"
      ],
      "execution_count": 88,
      "outputs": [
        {
          "output_type": "execute_result",
          "data": {
            "text/plain": [
              "162"
            ]
          },
          "metadata": {},
          "execution_count": 88
        }
      ]
    },
    {
      "cell_type": "code",
      "metadata": {
        "id": "_-bDETUrxmNY",
        "outputId": "5086d8cc-52c3-4ea5-e0a6-432995a8c3d5",
        "colab": {
          "base_uri": "https://localhost:8080/"
        }
      },
      "source": [
        "\n",
        "alcohol.count()"
      ],
      "execution_count": 89,
      "outputs": [
        {
          "output_type": "execute_result",
          "data": {
            "text/plain": [
              "162"
            ]
          },
          "metadata": {},
          "execution_count": 89
        }
      ]
    },
    {
      "cell_type": "code",
      "metadata": {
        "id": "4m-sZQkexmRo",
        "outputId": "97851069-fb20-4d4f-c071-5d22b673dd15",
        "colab": {
          "base_uri": "https://localhost:8080/"
        }
      },
      "source": [
        "\n",
        "alcohol.notnull().sum() + alcohol.isnull().sum() == alcohol.size"
      ],
      "execution_count": 90,
      "outputs": [
        {
          "output_type": "execute_result",
          "data": {
            "text/plain": [
              "True"
            ]
          },
          "metadata": {},
          "execution_count": 90
        }
      ]
    },
    {
      "cell_type": "code",
      "metadata": {
        "id": "Laoiyhqpyf4D",
        "outputId": "6284f7d9-b4f9-425c-9bf9-c210cb3cc1e2",
        "colab": {
          "base_uri": "https://localhost:8080/"
        }
      },
      "source": [
        "\n",
        "type(True)"
      ],
      "execution_count": 91,
      "outputs": [
        {
          "output_type": "execute_result",
          "data": {
            "text/plain": [
              "bool"
            ]
          },
          "metadata": {},
          "execution_count": 91
        }
      ]
    },
    {
      "cell_type": "markdown",
      "metadata": {
        "id": "ZvebaX6H22G9"
      },
      "source": [
        "#### BONUS: Booleans Are Literally Numbers In Python"
      ]
    },
    {
      "cell_type": "code",
      "metadata": {
        "id": "nSuFI9pH69E3",
        "outputId": "5f1d7979-7fb6-440e-9b4e-c904b0b9034c",
        "colab": {
          "base_uri": "https://localhost:8080/"
        }
      },
      "source": [
        "\n",
        "True + 19"
      ],
      "execution_count": 92,
      "outputs": [
        {
          "output_type": "execute_result",
          "data": {
            "text/plain": [
              "20"
            ]
          },
          "metadata": {},
          "execution_count": 92
        }
      ]
    },
    {
      "cell_type": "code",
      "metadata": {
        "id": "hpJb2pRi68nH",
        "outputId": "ee647874-8c60-44bd-81e5-af925b61e31e",
        "colab": {
          "base_uri": "https://localhost:8080/"
        }
      },
      "source": [
        "\n",
        "True + True - False + True * 3"
      ],
      "execution_count": 93,
      "outputs": [
        {
          "output_type": "execute_result",
          "data": {
            "text/plain": [
              "5"
            ]
          },
          "metadata": {},
          "execution_count": 93
        }
      ]
    },
    {
      "cell_type": "code",
      "metadata": {
        "id": "BOgom4_z68hV",
        "colab": {
          "base_uri": "https://localhost:8080/"
        },
        "outputId": "d04b568f-25d1-4450-d825-379ed0c75266"
      },
      "source": [
        "\n",
        "5 / True"
      ],
      "execution_count": 94,
      "outputs": [
        {
          "output_type": "execute_result",
          "data": {
            "text/plain": [
              "5.0"
            ]
          },
          "metadata": {},
          "execution_count": 94
        }
      ]
    },
    {
      "cell_type": "code",
      "metadata": {
        "id": "hLo-mpdm68dS",
        "outputId": "d0fec1e8-fe38-4e24-d62a-7293c6bdf048",
        "colab": {
          "base_uri": "https://localhost:8080/"
        }
      },
      "source": [
        "type(True)"
      ],
      "execution_count": 95,
      "outputs": [
        {
          "output_type": "execute_result",
          "data": {
            "text/plain": [
              "bool"
            ]
          },
          "metadata": {},
          "execution_count": 95
        }
      ]
    },
    {
      "cell_type": "code",
      "metadata": {
        "id": "MczRmG6g4f6c",
        "outputId": "e9ad1bd6-ad1a-4a57-c747-9791c5cc8f6e",
        "colab": {
          "base_uri": "https://localhost:8080/"
        }
      },
      "source": [
        "type(False)"
      ],
      "execution_count": 96,
      "outputs": [
        {
          "output_type": "execute_result",
          "data": {
            "text/plain": [
              "bool"
            ]
          },
          "metadata": {},
          "execution_count": 96
        }
      ]
    },
    {
      "cell_type": "code",
      "metadata": {
        "id": "tD2pTO6y7biP",
        "outputId": "b2be0c26-70ff-4b99-d3b1-66e7ea23694e",
        "colab": {
          "base_uri": "https://localhost:8080/"
        }
      },
      "source": [
        "bool.__mro__"
      ],
      "execution_count": 97,
      "outputs": [
        {
          "output_type": "execute_result",
          "data": {
            "text/plain": [
              "(bool, int, object)"
            ]
          },
          "metadata": {},
          "execution_count": 97
        }
      ]
    },
    {
      "cell_type": "code",
      "metadata": {
        "id": "a4fuYdeW7ewF",
        "outputId": "69c5d9a9-5964-407a-c310-4de2b26e6de6",
        "colab": {
          "base_uri": "https://localhost:8080/"
        }
      },
      "source": [
        "alcohol.isnull().sum()"
      ],
      "execution_count": 98,
      "outputs": [
        {
          "output_type": "execute_result",
          "data": {
            "text/plain": [
              "31"
            ]
          },
          "metadata": {},
          "execution_count": 98
        }
      ]
    },
    {
      "cell_type": "markdown",
      "metadata": {
        "id": "WXhFbvHH7pNc"
      },
      "source": [
        "#### Skill Challenge"
      ]
    },
    {
      "cell_type": "markdown",
      "metadata": {
        "id": "YHKgbkR68zod"
      },
      "source": [
        "###### **1**."
      ]
    },
    {
      "cell_type": "markdown",
      "metadata": {
        "id": "5hFp3aOc8_6P"
      },
      "source": [
        "Isolate the non-nulls in the *alcohol* series and assign them to the variable *wine_servings*."
      ]
    },
    {
      "cell_type": "markdown",
      "metadata": {
        "id": "qZK-PRez8ysX"
      },
      "source": [
        "###### **2**."
      ]
    },
    {
      "cell_type": "markdown",
      "metadata": {
        "id": "OBAYPavc8yKl"
      },
      "source": [
        "What is the total wine consumed by countries in *wine_servings*?"
      ]
    },
    {
      "cell_type": "markdown",
      "metadata": {
        "id": "FoywZIaI8tXr"
      },
      "source": [
        "###### **BONUS 3**."
      ]
    },
    {
      "cell_type": "markdown",
      "metadata": {
        "id": "QfkvdBzG8tai"
      },
      "source": [
        "In the *wine_servings* dataset, what was the total wine consumed by countries that consumed less than 100 servings?\n",
        "\n",
        "*Hint*: apply a boolean mask to identify such countries, then sum()."
      ]
    },
    {
      "cell_type": "markdown",
      "metadata": {
        "id": "-6H40AKm_86N"
      },
      "source": [
        "#### Solution"
      ]
    },
    {
      "cell_type": "code",
      "metadata": {
        "id": "ZtBYQaFxB0Gx"
      },
      "source": [
        "# 1"
      ],
      "execution_count": null,
      "outputs": []
    },
    {
      "cell_type": "code",
      "metadata": {
        "id": "UEFFGFqdB32W"
      },
      "source": [
        "# wine_servings = alcohol[alcohol.notnull()]\n",
        "wine_servings = alcohol[alcohol.notnull()]"
      ],
      "execution_count": 115,
      "outputs": []
    },
    {
      "cell_type": "code",
      "metadata": {
        "id": "ttYQgQYTB8Ht",
        "outputId": "89e9076b-9bce-4325-ebac-525cf58686c0",
        "colab": {
          "base_uri": "https://localhost:8080/"
        }
      },
      "source": [
        "# wine_servings.head()\n",
        "wine_servings.head()"
      ],
      "execution_count": 116,
      "outputs": [
        {
          "output_type": "execute_result",
          "data": {
            "text/plain": [
              "country\n",
              "Albania               54.0\n",
              "Algeria               14.0\n",
              "Andorra              312.0\n",
              "Angola                45.0\n",
              "Antigua & Barbuda     45.0\n",
              "Name: wine_servings, dtype: float64"
            ]
          },
          "metadata": {},
          "execution_count": 116
        }
      ]
    },
    {
      "cell_type": "code",
      "metadata": {
        "id": "zpzPqvdtB9GW"
      },
      "source": [
        "# 2"
      ],
      "execution_count": 110,
      "outputs": []
    },
    {
      "cell_type": "code",
      "metadata": {
        "id": "GG2-xYeFCEI8",
        "outputId": "98d3a7d1-9cd4-49a9-a821-7349131372fe",
        "colab": {
          "base_uri": "https://localhost:8080/"
        }
      },
      "source": [
        "\n",
        "wine_servings.sum()"
      ],
      "execution_count": 117,
      "outputs": [
        {
          "output_type": "execute_result",
          "data": {
            "text/plain": [
              "8221.0"
            ]
          },
          "metadata": {},
          "execution_count": 117
        }
      ]
    },
    {
      "cell_type": "code",
      "metadata": {
        "id": "Ke2FKX5SCHX3"
      },
      "source": [
        "# 3"
      ],
      "execution_count": null,
      "outputs": []
    },
    {
      "cell_type": "code",
      "metadata": {
        "id": "wdpl3sp3CPn_",
        "outputId": "950b1aa0-60bb-4c9a-9924-01a79f42b0c1",
        "colab": {
          "base_uri": "https://localhost:8080/"
        }
      },
      "source": [
        "\n",
        "wine_servings < 100"
      ],
      "execution_count": 118,
      "outputs": [
        {
          "output_type": "execute_result",
          "data": {
            "text/plain": [
              "country\n",
              "Albania               True\n",
              "Algeria               True\n",
              "Andorra              False\n",
              "Angola                True\n",
              "Antigua & Barbuda     True\n",
              "                     ...  \n",
              "Vanuatu               True\n",
              "Venezuela             True\n",
              "Vietnam               True\n",
              "Zambia                True\n",
              "Zimbabwe              True\n",
              "Name: wine_servings, Length: 162, dtype: bool"
            ]
          },
          "metadata": {},
          "execution_count": 118
        }
      ]
    },
    {
      "cell_type": "code",
      "metadata": {
        "id": "EUj44jbhCUTn",
        "outputId": "b5cb6085-ba89-426a-a83d-281b50a0b581",
        "colab": {
          "base_uri": "https://localhost:8080/"
        }
      },
      "source": [
        "alcohol.notnull()"
      ],
      "execution_count": 119,
      "outputs": [
        {
          "output_type": "execute_result",
          "data": {
            "text/plain": [
              "country\n",
              "Afghanistan    False\n",
              "Albania         True\n",
              "Algeria         True\n",
              "Andorra         True\n",
              "Angola          True\n",
              "               ...  \n",
              "Venezuela       True\n",
              "Vietnam         True\n",
              "Yemen          False\n",
              "Zambia          True\n",
              "Zimbabwe        True\n",
              "Name: wine_servings, Length: 193, dtype: bool"
            ]
          },
          "metadata": {},
          "execution_count": 119
        }
      ]
    },
    {
      "cell_type": "code",
      "metadata": {
        "id": "Hden9KfnCKYC",
        "outputId": "ce5f20f5-2ee7-4be9-89bd-919ca56baa63",
        "colab": {
          "base_uri": "https://localhost:8080/"
        }
      },
      "source": [
        "\n",
        "wine_servings[wine_servings < 100].sum()"
      ],
      "execution_count": 123,
      "outputs": [
        {
          "output_type": "execute_result",
          "data": {
            "text/plain": [
              "2416.0"
            ]
          },
          "metadata": {},
          "execution_count": 123
        }
      ]
    },
    {
      "cell_type": "markdown",
      "metadata": {
        "id": "xrjB9p_LCcBM"
      },
      "source": [
        "#### Dropping And Filling NAs"
      ]
    },
    {
      "cell_type": "code",
      "metadata": {
        "id": "-Tw5g0rSOCFI",
        "outputId": "6f0be75e-2a17-407a-b6d2-0eeeee1de48a",
        "colab": {
          "base_uri": "https://localhost:8080/"
        }
      },
      "source": [
        "\n",
        "alcohol.dropna()"
      ],
      "execution_count": 124,
      "outputs": [
        {
          "output_type": "execute_result",
          "data": {
            "text/plain": [
              "country\n",
              "Albania               54.0\n",
              "Algeria               14.0\n",
              "Andorra              312.0\n",
              "Angola                45.0\n",
              "Antigua & Barbuda     45.0\n",
              "                     ...  \n",
              "Vanuatu               11.0\n",
              "Venezuela              3.0\n",
              "Vietnam                1.0\n",
              "Zambia                 4.0\n",
              "Zimbabwe               4.0\n",
              "Name: wine_servings, Length: 162, dtype: float64"
            ]
          },
          "metadata": {},
          "execution_count": 124
        }
      ]
    },
    {
      "cell_type": "code",
      "metadata": {
        "id": "g1mBJPHTOB2B",
        "outputId": "26be9d08-785e-4680-c4ee-7f9e59aec466",
        "colab": {
          "base_uri": "https://localhost:8080/"
        }
      },
      "source": [
        "alcohol"
      ],
      "execution_count": 126,
      "outputs": [
        {
          "output_type": "execute_result",
          "data": {
            "text/plain": [
              "country\n",
              "Afghanistan      NaN\n",
              "Albania         54.0\n",
              "Algeria         14.0\n",
              "Andorra        312.0\n",
              "Angola          45.0\n",
              "               ...  \n",
              "Venezuela        3.0\n",
              "Vietnam          1.0\n",
              "Yemen            NaN\n",
              "Zambia           4.0\n",
              "Zimbabwe         4.0\n",
              "Name: wine_servings, Length: 193, dtype: float64"
            ]
          },
          "metadata": {},
          "execution_count": 126
        }
      ]
    },
    {
      "cell_type": "code",
      "metadata": {
        "id": "V-EWM7vUOUEL"
      },
      "source": [
        "# one way: reassignment"
      ],
      "execution_count": 127,
      "outputs": []
    },
    {
      "cell_type": "code",
      "metadata": {
        "id": "PYirECSLN7c8",
        "colab": {
          "base_uri": "https://localhost:8080/"
        },
        "outputId": "f5d34a07-259b-461d-891c-e6effa3a0113"
      },
      "source": [
        "\n",
        "# alcohol = alcohol.dropna()"
      ],
      "execution_count": 129,
      "outputs": [
        {
          "output_type": "execute_result",
          "data": {
            "text/plain": [
              "country\n",
              "Albania               54.0\n",
              "Algeria               14.0\n",
              "Andorra              312.0\n",
              "Angola                45.0\n",
              "Antigua & Barbuda     45.0\n",
              "                     ...  \n",
              "Vanuatu               11.0\n",
              "Venezuela              3.0\n",
              "Vietnam                1.0\n",
              "Zambia                 4.0\n",
              "Zimbabwe               4.0\n",
              "Name: wine_servings, Length: 162, dtype: float64"
            ]
          },
          "metadata": {},
          "execution_count": 129
        }
      ]
    },
    {
      "cell_type": "code",
      "metadata": {
        "id": "0k624mWwN8Cm"
      },
      "source": [
        "# another way: inplace param"
      ],
      "execution_count": 130,
      "outputs": []
    },
    {
      "cell_type": "code",
      "metadata": {
        "id": "OoK5EfayN78m"
      },
      "source": [
        "# alcohol.dropna(inplace=True)\n"
      ],
      "execution_count": 133,
      "outputs": []
    },
    {
      "cell_type": "code",
      "metadata": {
        "id": "yoogFfkSN7ik",
        "outputId": "f1a15d73-852a-4a46-d002-85ec5c5b10c5",
        "colab": {
          "base_uri": "https://localhost:8080/"
        }
      },
      "source": [
        "alcohol.dropna(inplace=False)\n"
      ],
      "execution_count": 137,
      "outputs": [
        {
          "output_type": "execute_result",
          "data": {
            "text/plain": [
              "country\n",
              "Albania               54.0\n",
              "Algeria               14.0\n",
              "Andorra              312.0\n",
              "Angola                45.0\n",
              "Antigua & Barbuda     45.0\n",
              "                     ...  \n",
              "Vanuatu               11.0\n",
              "Venezuela              3.0\n",
              "Vietnam                1.0\n",
              "Zambia                 4.0\n",
              "Zimbabwe               4.0\n",
              "Name: wine_servings, Length: 162, dtype: float64"
            ]
          },
          "metadata": {},
          "execution_count": 137
        }
      ]
    },
    {
      "cell_type": "code",
      "metadata": {
        "id": "84G7FNkuOi69",
        "outputId": "9855f125-2481-4514-f3f5-cec71d8b355a",
        "colab": {
          "base_uri": "https://localhost:8080/"
        }
      },
      "source": [
        "alcohol.fillna(100, inplace=False)"
      ],
      "execution_count": 140,
      "outputs": [
        {
          "output_type": "execute_result",
          "data": {
            "text/plain": [
              "country\n",
              "Albania               54.0\n",
              "Algeria               14.0\n",
              "Andorra              312.0\n",
              "Angola                45.0\n",
              "Antigua & Barbuda     45.0\n",
              "                     ...  \n",
              "Vanuatu               11.0\n",
              "Venezuela              3.0\n",
              "Vietnam                1.0\n",
              "Zambia                 4.0\n",
              "Zimbabwe               4.0\n",
              "Name: wine_servings, Length: 162, dtype: float64"
            ]
          },
          "metadata": {},
          "execution_count": 140
        }
      ]
    },
    {
      "cell_type": "markdown",
      "metadata": {
        "id": "wqgJ5eHjO0W8"
      },
      "source": [
        "#### Descriptive Statistics"
      ]
    },
    {
      "cell_type": "code",
      "metadata": {
        "id": "AszQdqyNeUXG",
        "outputId": "a0a4c80d-ef09-4ffd-f3dd-e05b26e3816a",
        "colab": {
          "base_uri": "https://localhost:8080/"
        }
      },
      "source": [
        "alcohol.sum()"
      ],
      "execution_count": 141,
      "outputs": [
        {
          "output_type": "execute_result",
          "data": {
            "text/plain": [
              "8221.0"
            ]
          },
          "metadata": {},
          "execution_count": 141
        }
      ]
    },
    {
      "cell_type": "code",
      "metadata": {
        "id": "1GHW3ZTeeUNi"
      },
      "source": [
        "# average"
      ],
      "execution_count": 142,
      "outputs": []
    },
    {
      "cell_type": "code",
      "metadata": {
        "id": "3k03Et_weTQn",
        "outputId": "441ee589-3123-4cfc-cf30-c72874c5e7f7",
        "colab": {
          "base_uri": "https://localhost:8080/"
        }
      },
      "source": [
        "alcohol.count()"
      ],
      "execution_count": 143,
      "outputs": [
        {
          "output_type": "execute_result",
          "data": {
            "text/plain": [
              "162"
            ]
          },
          "metadata": {},
          "execution_count": 143
        }
      ]
    },
    {
      "cell_type": "code",
      "metadata": {
        "id": "9pfmLY5UeTKf",
        "outputId": "b7d5ae94-2cda-4a3d-c09c-2161314b309d",
        "colab": {
          "base_uri": "https://localhost:8080/"
        }
      },
      "source": [
        "alcohol.sum() / alcohol.count()"
      ],
      "execution_count": 144,
      "outputs": [
        {
          "output_type": "execute_result",
          "data": {
            "text/plain": [
              "50.74691358024691"
            ]
          },
          "metadata": {},
          "execution_count": 144
        }
      ]
    },
    {
      "cell_type": "code",
      "metadata": {
        "id": "XfnfoY9reS4s",
        "outputId": "e9a6d430-1d9e-4cb8-9ea5-045bdc10536e",
        "colab": {
          "base_uri": "https://localhost:8080/"
        }
      },
      "source": [
        "alcohol.mean()"
      ],
      "execution_count": 146,
      "outputs": [
        {
          "output_type": "execute_result",
          "data": {
            "text/plain": [
              "50.74691358024691"
            ]
          },
          "metadata": {},
          "execution_count": 146
        }
      ]
    },
    {
      "cell_type": "code",
      "metadata": {
        "id": "EjrKMXDOeOYu"
      },
      "source": [
        "# median"
      ],
      "execution_count": 147,
      "outputs": []
    },
    {
      "cell_type": "code",
      "metadata": {
        "id": "ITjSlF2vPhhh",
        "outputId": "2a4318e8-c769-4617-bd65-f2fc0217c0de",
        "colab": {
          "base_uri": "https://localhost:8080/"
        }
      },
      "source": [
        "alcohol.median()"
      ],
      "execution_count": 148,
      "outputs": [
        {
          "output_type": "execute_result",
          "data": {
            "text/plain": [
              "11.5"
            ]
          },
          "metadata": {},
          "execution_count": 148
        }
      ]
    },
    {
      "cell_type": "code",
      "metadata": {
        "id": "AWpNYagle-le",
        "outputId": "c5244660-a9f1-4526-c4a2-a44718b8eb24",
        "colab": {
          "base_uri": "https://localhost:8080/"
        }
      },
      "source": [
        "alcohol.quantile(.5)"
      ],
      "execution_count": 150,
      "outputs": [
        {
          "output_type": "execute_result",
          "data": {
            "text/plain": [
              "11.5"
            ]
          },
          "metadata": {},
          "execution_count": 150
        }
      ]
    },
    {
      "cell_type": "code",
      "metadata": {
        "id": "FePcumbTfDXj",
        "outputId": "a8f9e88d-4019-4d00-dbf2-25787783c81d",
        "colab": {
          "base_uri": "https://localhost:8080/",
          "height": 265
        }
      },
      "source": [
        "alcohol.hist();"
      ],
      "execution_count": 154,
      "outputs": [
        {
          "output_type": "display_data",
          "data": {
            "image/png": "[encoded data removed]",
            "text/plain": [
              "<Figure size 432x288 with 1 Axes>"
            ]
          },
          "metadata": {
            "needs_background": "light"
          }
        }
      ]
    },
    {
      "cell_type": "code",
      "metadata": {
        "id": "7oBYGr5EfhyJ"
      },
      "source": [
        "# IQR"
      ],
      "execution_count": 155,
      "outputs": []
    },
    {
      "cell_type": "code",
      "metadata": {
        "id": "OU9zbEjWfuYY"
      },
      "source": [
        "iqr = alcohol.quantile(.75) - alcohol.quantile(.25)"
      ],
      "execution_count": 157,
      "outputs": []
    },
    {
      "cell_type": "code",
      "metadata": {
        "id": "-2yJB8X4fz42",
        "outputId": "f2bbca63-b367-45d5-95a8-90eac501ff9f",
        "colab": {
          "base_uri": "https://localhost:8080/"
        }
      },
      "source": [
        "iqr"
      ],
      "execution_count": 159,
      "outputs": [
        {
          "output_type": "execute_result",
          "data": {
            "text/plain": [
              "58.25"
            ]
          },
          "metadata": {},
          "execution_count": 159
        }
      ]
    },
    {
      "cell_type": "code",
      "metadata": {
        "id": "fzAF-x7Wf0Ts"
      },
      "source": [
        "# min and max"
      ],
      "execution_count": 161,
      "outputs": []
    },
    {
      "cell_type": "code",
      "metadata": {
        "id": "CP3ULNFLf7ON",
        "outputId": "9a3e1e1a-692a-4900-e9d4-0d224e225123",
        "colab": {
          "base_uri": "https://localhost:8080/"
        }
      },
      "source": [
        "alcohol.min()"
      ],
      "execution_count": 160,
      "outputs": [
        {
          "output_type": "execute_result",
          "data": {
            "text/plain": [
              "1.0"
            ]
          },
          "metadata": {},
          "execution_count": 160
        }
      ]
    },
    {
      "cell_type": "code",
      "metadata": {
        "id": "uo_u8XJif8oL",
        "outputId": "400a34a2-76cb-4b83-bdca-3bc131a679f1",
        "colab": {
          "base_uri": "https://localhost:8080/"
        }
      },
      "source": [
        "alcohol.max()"
      ],
      "execution_count": 162,
      "outputs": [
        {
          "output_type": "execute_result",
          "data": {
            "text/plain": [
              "339.0"
            ]
          },
          "metadata": {},
          "execution_count": 162
        }
      ]
    },
    {
      "cell_type": "code",
      "metadata": {
        "id": "7JXY4-0Pf-t2"
      },
      "source": [
        "# standard deviation"
      ],
      "execution_count": 163,
      "outputs": []
    },
    {
      "cell_type": "code",
      "metadata": {
        "id": "qCi-A-FEgBQK",
        "outputId": "7788b74e-fc14-4858-ea59-bae50815417d",
        "colab": {
          "base_uri": "https://localhost:8080/"
        }
      },
      "source": [
        "alcohol.std()"
      ],
      "execution_count": 164,
      "outputs": [
        {
          "output_type": "execute_result",
          "data": {
            "text/plain": [
              "76.13491716376173"
            ]
          },
          "metadata": {},
          "execution_count": 164
        }
      ]
    },
    {
      "cell_type": "code",
      "metadata": {
        "id": "66GDeRuJgCyM"
      },
      "source": [
        "# variance"
      ],
      "execution_count": 165,
      "outputs": []
    },
    {
      "cell_type": "code",
      "metadata": {
        "id": "lvtzNmKagFHz",
        "outputId": "e4e7f658-84bb-4a7e-bceb-74c9456ef732",
        "colab": {
          "base_uri": "https://localhost:8080/"
        }
      },
      "source": [
        "alcohol.var()"
      ],
      "execution_count": 169,
      "outputs": [
        {
          "output_type": "execute_result",
          "data": {
            "text/plain": [
              "5796.52561153286"
            ]
          },
          "metadata": {},
          "execution_count": 169
        }
      ]
    },
    {
      "cell_type": "code",
      "metadata": {
        "id": "T1am8gNZgGLF",
        "outputId": "8657237a-2f18-4b73-fde4-ea2951b363d2",
        "colab": {
          "base_uri": "https://localhost:8080/"
        }
      },
      "source": [
        "alcohol.std()**2 == alcohol.var()"
      ],
      "execution_count": 170,
      "outputs": [
        {
          "output_type": "execute_result",
          "data": {
            "text/plain": [
              "True"
            ]
          },
          "metadata": {},
          "execution_count": 170
        }
      ]
    },
    {
      "cell_type": "markdown",
      "metadata": {
        "id": "fWHpVbsggJTo"
      },
      "source": [
        "#### The describe() Method"
      ]
    },
    {
      "cell_type": "code",
      "metadata": {
        "id": "NqkEAdZzi9fJ",
        "outputId": "5a1893e3-c9b3-41b9-94e2-b08046788f9f",
        "colab": {
          "base_uri": "https://localhost:8080/"
        }
      },
      "source": [
        "alcohol.describe()"
      ],
      "execution_count": 171,
      "outputs": [
        {
          "output_type": "execute_result",
          "data": {
            "text/plain": [
              "count    162.000000\n",
              "mean      50.746914\n",
              "std       76.134917\n",
              "min        1.000000\n",
              "25%        3.000000\n",
              "50%       11.500000\n",
              "75%       61.250000\n",
              "max      339.000000\n",
              "Name: wine_servings, dtype: float64"
            ]
          },
          "metadata": {},
          "execution_count": 171
        }
      ]
    },
    {
      "cell_type": "code",
      "metadata": {
        "id": "HI_AK_2ui9Zs",
        "outputId": "fff541b5-bfd6-44e1-80cd-640df2bb8668",
        "colab": {
          "base_uri": "https://localhost:8080/"
        }
      },
      "source": [
        "alcohol.describe(percentiles=[.79, .19])"
      ],
      "execution_count": 172,
      "outputs": [
        {
          "output_type": "execute_result",
          "data": {
            "text/plain": [
              "count    162.000000\n",
              "mean      50.746914\n",
              "std       76.134917\n",
              "min        1.000000\n",
              "19%        2.000000\n",
              "50%       11.500000\n",
              "79%       81.570000\n",
              "max      339.000000\n",
              "Name: wine_servings, dtype: float64"
            ]
          },
          "metadata": {},
          "execution_count": 172
        }
      ]
    },
    {
      "cell_type": "code",
      "metadata": {
        "id": "R2SSZbfTg4_4",
        "outputId": "6dd503cc-75bc-4ed1-8be9-bcef5069b3ef",
        "colab": {
          "base_uri": "https://localhost:8080/"
        }
      },
      "source": [
        "alcohol.describe(percentiles=[.79, .19], include=float, exclude=object)"
      ],
      "execution_count": 173,
      "outputs": [
        {
          "output_type": "execute_result",
          "data": {
            "text/plain": [
              "count    162.000000\n",
              "mean      50.746914\n",
              "std       76.134917\n",
              "min        1.000000\n",
              "19%        2.000000\n",
              "50%       11.500000\n",
              "79%       81.570000\n",
              "max      339.000000\n",
              "Name: wine_servings, dtype: float64"
            ]
          },
          "metadata": {},
          "execution_count": 173
        }
      ]
    },
    {
      "cell_type": "code",
      "metadata": {
        "id": "PZRR2CkEg3Iw",
        "outputId": "30917e78-12a0-4533-97c7-5df2b2f8195d",
        "colab": {
          "base_uri": "https://localhost:8080/"
        }
      },
      "source": [
        "alcohol.dtype"
      ],
      "execution_count": 174,
      "outputs": [
        {
          "output_type": "execute_result",
          "data": {
            "text/plain": [
              "dtype('float64')"
            ]
          },
          "metadata": {},
          "execution_count": 174
        }
      ]
    },
    {
      "cell_type": "markdown",
      "metadata": {
        "id": "RhOY4LXjg3R6"
      },
      "source": [
        "#### mode() And value_counts() "
      ]
    },
    {
      "cell_type": "code",
      "metadata": {
        "id": "YQ7lALmujpRl"
      },
      "source": [
        "# mode"
      ],
      "execution_count": 176,
      "outputs": []
    },
    {
      "cell_type": "code",
      "metadata": {
        "id": "Ef6_30RfjpIB",
        "outputId": "7cc6abb1-36a7-4d8a-bbbb-54e463b21528",
        "colab": {
          "base_uri": "https://localhost:8080/"
        }
      },
      "source": [
        "alcohol.mode()"
      ],
      "execution_count": 175,
      "outputs": [
        {
          "output_type": "execute_result",
          "data": {
            "text/plain": [
              "0    1.0\n",
              "dtype: float64"
            ]
          },
          "metadata": {},
          "execution_count": 175
        }
      ]
    },
    {
      "cell_type": "code",
      "metadata": {
        "id": "MJi4SbYSjo94",
        "outputId": "dc2e32e8-5a6d-416f-ad60-1e7ae36ebcee",
        "colab": {
          "base_uri": "https://localhost:8080/"
        }
      },
      "source": [
        "alcohol == 1"
      ],
      "execution_count": 177,
      "outputs": [
        {
          "output_type": "execute_result",
          "data": {
            "text/plain": [
              "country\n",
              "Albania              False\n",
              "Algeria              False\n",
              "Andorra              False\n",
              "Angola               False\n",
              "Antigua & Barbuda    False\n",
              "                     ...  \n",
              "Vanuatu              False\n",
              "Venezuela            False\n",
              "Vietnam               True\n",
              "Zambia               False\n",
              "Zimbabwe             False\n",
              "Name: wine_servings, Length: 162, dtype: bool"
            ]
          },
          "metadata": {},
          "execution_count": 177
        }
      ]
    },
    {
      "cell_type": "code",
      "metadata": {
        "id": "PIDK9zJ9jjYL",
        "outputId": "980ba045-7ca6-43bd-d040-c8700c64f2f0",
        "colab": {
          "base_uri": "https://localhost:8080/"
        }
      },
      "source": [
        "alcohol[alcohol==1].size"
      ],
      "execution_count": 178,
      "outputs": [
        {
          "output_type": "execute_result",
          "data": {
            "text/plain": [
              "28"
            ]
          },
          "metadata": {},
          "execution_count": 178
        }
      ]
    },
    {
      "cell_type": "code",
      "metadata": {
        "id": "IidoEMJzjjP4"
      },
      "source": [
        "# value counts"
      ],
      "execution_count": 179,
      "outputs": []
    },
    {
      "cell_type": "code",
      "metadata": {
        "id": "ff9c-p4Ljben",
        "outputId": "dc9e7dc4-3a1c-4094-face-1df3af7b368a",
        "colab": {
          "base_uri": "https://localhost:8080/"
        }
      },
      "source": [
        "alcohol.value_counts()"
      ],
      "execution_count": 180,
      "outputs": [
        {
          "output_type": "execute_result",
          "data": {
            "text/plain": [
              "1.0      28\n",
              "2.0      10\n",
              "7.0       9\n",
              "8.0       7\n",
              "5.0       6\n",
              "         ..\n",
              "218.0     1\n",
              "185.0     1\n",
              "78.0      1\n",
              "165.0     1\n",
              "22.0      1\n",
              "Name: wine_servings, Length: 71, dtype: int64"
            ]
          },
          "metadata": {},
          "execution_count": 180
        }
      ]
    },
    {
      "cell_type": "code",
      "metadata": {
        "id": "yQ8l6AmPkZtO",
        "outputId": "e65f11a5-79cb-4d3f-e16a-adf78fc9ec55",
        "colab": {
          "base_uri": "https://localhost:8080/"
        }
      },
      "source": [
        "alcohol.value_counts().iloc[0]"
      ],
      "execution_count": 181,
      "outputs": [
        {
          "output_type": "execute_result",
          "data": {
            "text/plain": [
              "28"
            ]
          },
          "metadata": {},
          "execution_count": 181
        }
      ]
    },
    {
      "cell_type": "code",
      "metadata": {
        "id": "oIoZFyLbklH5",
        "outputId": "83672ecc-799c-4ec1-9add-ffbf9950633c",
        "colab": {
          "base_uri": "https://localhost:8080/"
        }
      },
      "source": [
        "alcohol.value_counts(normalize=True)"
      ],
      "execution_count": 182,
      "outputs": [
        {
          "output_type": "execute_result",
          "data": {
            "text/plain": [
              "1.0      0.172840\n",
              "2.0      0.061728\n",
              "7.0      0.055556\n",
              "8.0      0.043210\n",
              "5.0      0.037037\n",
              "           ...   \n",
              "218.0    0.006173\n",
              "185.0    0.006173\n",
              "78.0     0.006173\n",
              "165.0    0.006173\n",
              "22.0     0.006173\n",
              "Name: wine_servings, Length: 71, dtype: float64"
            ]
          },
          "metadata": {},
          "execution_count": 182
        }
      ]
    },
    {
      "cell_type": "code",
      "metadata": {
        "id": "ibg8grZzlCaN",
        "outputId": "6dd1da2b-37ec-499a-a434-cdfafc8f6d07",
        "colab": {
          "base_uri": "https://localhost:8080/"
        }
      },
      "source": [
        "28 / alcohol.count()"
      ],
      "execution_count": 183,
      "outputs": [
        {
          "output_type": "execute_result",
          "data": {
            "text/plain": [
              "0.1728395061728395"
            ]
          },
          "metadata": {},
          "execution_count": 183
        }
      ]
    },
    {
      "cell_type": "markdown",
      "metadata": {
        "id": "60HSRX7klLjS"
      },
      "source": [
        "#### idxmax() And idxmin()"
      ]
    },
    {
      "cell_type": "code",
      "metadata": {
        "id": "_lE-1EoKIqkO",
        "outputId": "88934065-d1af-465a-a71d-36126cc139a8",
        "colab": {
          "base_uri": "https://localhost:8080/"
        }
      },
      "source": [
        "alcohol.max()"
      ],
      "execution_count": 184,
      "outputs": [
        {
          "output_type": "execute_result",
          "data": {
            "text/plain": [
              "339.0"
            ]
          },
          "metadata": {},
          "execution_count": 184
        }
      ]
    },
    {
      "cell_type": "code",
      "metadata": {
        "id": "jG5xo0imIpwA",
        "outputId": "c578b5cd-cbbd-4252-fe66-bca571994cf7",
        "colab": {
          "base_uri": "https://localhost:8080/"
        }
      },
      "source": [
        "alcohol[alcohol == alcohol.max()]"
      ],
      "execution_count": 185,
      "outputs": [
        {
          "output_type": "execute_result",
          "data": {
            "text/plain": [
              "country\n",
              "Portugal    339.0\n",
              "Name: wine_servings, dtype: float64"
            ]
          },
          "metadata": {},
          "execution_count": 185
        }
      ]
    },
    {
      "cell_type": "code",
      "metadata": {
        "id": "lhxMm2zIIpst",
        "outputId": "9fd5cf71-f076-4dd7-e9b5-e576f7f9f265",
        "colab": {
          "base_uri": "https://localhost:8080/"
        }
      },
      "source": [
        "alcohol[alcohol == alcohol.max()].index"
      ],
      "execution_count": 186,
      "outputs": [
        {
          "output_type": "execute_result",
          "data": {
            "text/plain": [
              "Index(['Portugal'], dtype='object', name='country')"
            ]
          },
          "metadata": {},
          "execution_count": 186
        }
      ]
    },
    {
      "cell_type": "code",
      "metadata": {
        "id": "JLJIHLNYIpoM",
        "outputId": "bcfc9ad2-04f3-4e60-f4b5-84949e261f4d",
        "colab": {
          "base_uri": "https://localhost:8080/"
        }
      },
      "source": [
        "type(alcohol[alcohol == alcohol.max()].index)"
      ],
      "execution_count": 187,
      "outputs": [
        {
          "output_type": "execute_result",
          "data": {
            "text/plain": [
              "pandas.core.indexes.base.Index"
            ]
          },
          "metadata": {},
          "execution_count": 187
        }
      ]
    },
    {
      "cell_type": "code",
      "metadata": {
        "id": "oq4ayPW8Ihtc",
        "outputId": "741af5dc-4682-4b39-ab34-ca639c2448fd",
        "colab": {
          "base_uri": "https://localhost:8080/",
          "height": 35
        }
      },
      "source": [
        "alcohol[alcohol == alcohol.max()].index[0]"
      ],
      "execution_count": 188,
      "outputs": [
        {
          "output_type": "execute_result",
          "data": {
            "application/vnd.google.colaboratory.intrinsic+json": {
              "type": "string"
            },
            "text/plain": [
              "'Portugal'"
            ]
          },
          "metadata": {},
          "execution_count": 188
        }
      ]
    },
    {
      "cell_type": "code",
      "metadata": {
        "id": "oP6nS7p6Iafc",
        "outputId": "6dd0b846-4b21-44d3-dc3f-43dfe5bcb58d",
        "colab": {
          "base_uri": "https://localhost:8080/",
          "height": 35
        }
      },
      "source": [
        "alcohol.idxmax()"
      ],
      "execution_count": 190,
      "outputs": [
        {
          "output_type": "execute_result",
          "data": {
            "application/vnd.google.colaboratory.intrinsic+json": {
              "type": "string"
            },
            "text/plain": [
              "'Portugal'"
            ]
          },
          "metadata": {},
          "execution_count": 190
        }
      ]
    },
    {
      "cell_type": "code",
      "metadata": {
        "id": "r2pxbBiXJImt",
        "outputId": "acb15afc-8f01-4611-b59a-d75a9b0aa8e2",
        "colab": {
          "base_uri": "https://localhost:8080/",
          "height": 35
        }
      },
      "source": [
        "alcohol.idxmin()"
      ],
      "execution_count": 191,
      "outputs": [
        {
          "output_type": "execute_result",
          "data": {
            "application/vnd.google.colaboratory.intrinsic+json": {
              "type": "string"
            },
            "text/plain": [
              "'Brunei'"
            ]
          },
          "metadata": {},
          "execution_count": 191
        }
      ]
    },
    {
      "cell_type": "code",
      "metadata": {
        "id": "ujw91oUDJNVE",
        "outputId": "3c4c5c09-0bcc-4017-d897-bd7586279f5e",
        "colab": {
          "base_uri": "https://localhost:8080/"
        }
      },
      "source": [
        "alcohol.min()"
      ],
      "execution_count": 192,
      "outputs": [
        {
          "output_type": "execute_result",
          "data": {
            "text/plain": [
              "1.0"
            ]
          },
          "metadata": {},
          "execution_count": 192
        }
      ]
    },
    {
      "cell_type": "code",
      "metadata": {
        "id": "QhRVOMLMJUNC",
        "outputId": "0ed185c3-30e0-41a9-cc97-0b6a408d75cf",
        "colab": {
          "base_uri": "https://localhost:8080/"
        }
      },
      "source": [
        "alcohol.value_counts().head(1)"
      ],
      "execution_count": 193,
      "outputs": [
        {
          "output_type": "execute_result",
          "data": {
            "text/plain": [
              "1.0    28\n",
              "Name: wine_servings, dtype: int64"
            ]
          },
          "metadata": {},
          "execution_count": 193
        }
      ]
    },
    {
      "cell_type": "code",
      "metadata": {
        "id": "-olo3d7lJZL_",
        "outputId": "ced6bf17-70fa-4712-8099-288f58ecd280",
        "colab": {
          "base_uri": "https://localhost:8080/"
        }
      },
      "source": [
        "alcohol[alcohol == alcohol.min()]"
      ],
      "execution_count": 194,
      "outputs": [
        {
          "output_type": "execute_result",
          "data": {
            "text/plain": [
              "country\n",
              "Brunei                      1.0\n",
              "Cambodia                    1.0\n",
              "Canada                      1.0\n",
              "Central African Republic    1.0\n",
              "Chad                        1.0\n",
              "Comoros                     1.0\n",
              "DR Congo                    1.0\n",
              "Egypt                       1.0\n",
              "Fiji                        1.0\n",
              "Gambia                      1.0\n",
              "Ghana                       1.0\n",
              "Guyana                      1.0\n",
              "Haiti                       1.0\n",
              "Jordan                      1.0\n",
              "Kiribati                    1.0\n",
              "Malawi                      1.0\n",
              "Mali                        1.0\n",
              "Morocco                     1.0\n",
              "Namibia                     1.0\n",
              "Nicaragua                   1.0\n",
              "Niger                       1.0\n",
              "Oman                        1.0\n",
              "Papua New Guinea            1.0\n",
              "Philippines                 1.0\n",
              "Solomon Islands             1.0\n",
              "Thailand                    1.0\n",
              "Tanzania                    1.0\n",
              "Vietnam                     1.0\n",
              "Name: wine_servings, dtype: float64"
            ]
          },
          "metadata": {},
          "execution_count": 194
        }
      ]
    },
    {
      "cell_type": "code",
      "metadata": {
        "id": "RnqFfWlzJhLA",
        "outputId": "0356d785-9ef2-457f-e831-6216c32a5724",
        "colab": {
          "base_uri": "https://localhost:8080/"
        }
      },
      "source": [
        "alcohol[alcohol == alcohol.max()]"
      ],
      "execution_count": 195,
      "outputs": [
        {
          "output_type": "execute_result",
          "data": {
            "text/plain": [
              "country\n",
              "Portugal    339.0\n",
              "Name: wine_servings, dtype: float64"
            ]
          },
          "metadata": {},
          "execution_count": 195
        }
      ]
    },
    {
      "cell_type": "code",
      "metadata": {
        "id": "3rQaUBsiJpJI",
        "outputId": "2a7cad5c-464a-43fe-bf05-3563850c8c3b",
        "colab": {
          "base_uri": "https://localhost:8080/"
        }
      },
      "source": [
        "alcohol[alcohol.idxmax()]"
      ],
      "execution_count": 196,
      "outputs": [
        {
          "output_type": "execute_result",
          "data": {
            "text/plain": [
              "339.0"
            ]
          },
          "metadata": {},
          "execution_count": 196
        }
      ]
    },
    {
      "cell_type": "code",
      "metadata": {
        "id": "mYSGi3zyJ0rK",
        "outputId": "147b4721-8d64-4b47-9181-b9fd4ceeb9ec",
        "colab": {
          "base_uri": "https://localhost:8080/"
        }
      },
      "source": [
        "alcohol.max()"
      ],
      "execution_count": 197,
      "outputs": [
        {
          "output_type": "execute_result",
          "data": {
            "text/plain": [
              "339.0"
            ]
          },
          "metadata": {},
          "execution_count": 197
        }
      ]
    },
    {
      "cell_type": "markdown",
      "metadata": {
        "id": "YVbTQqytJ11B"
      },
      "source": [
        "#### Sorting With sort_values()"
      ]
    },
    {
      "cell_type": "code",
      "metadata": {
        "id": "f2n6LDHSV-kp",
        "colab": {
          "base_uri": "https://localhost:8080/"
        },
        "outputId": "ceb0b7bc-2340-49d9-a2d3-d6b81695a781"
      },
      "source": [
        "alcohol.sort_values()"
      ],
      "execution_count": 198,
      "outputs": [
        {
          "output_type": "execute_result",
          "data": {
            "text/plain": [
              "country\n",
              "Thailand             1.0\n",
              "Solomon Islands      1.0\n",
              "Brunei               1.0\n",
              "Haiti                1.0\n",
              "Cambodia             1.0\n",
              "                   ...  \n",
              "Luxembourg         271.0\n",
              "Slovenia           276.0\n",
              "Denmark            278.0\n",
              "Andorra            312.0\n",
              "Portugal           339.0\n",
              "Name: wine_servings, Length: 162, dtype: float64"
            ]
          },
          "metadata": {},
          "execution_count": 198
        }
      ]
    },
    {
      "cell_type": "code",
      "metadata": {
        "id": "zDtjtvmUV9_p"
      },
      "source": [
        "alcohol.sort_values(ascending=False, na_position='last', kind='quicksort', inplace=True) # mergesort, heapsort"
      ],
      "execution_count": 200,
      "outputs": []
    },
    {
      "cell_type": "code",
      "metadata": {
        "id": "6QD7gregV952",
        "colab": {
          "base_uri": "https://localhost:8080/"
        },
        "outputId": "dd77c314-41ec-4683-8481-c6bbe9889256"
      },
      "source": [
        "alcohol.head()"
      ],
      "execution_count": 201,
      "outputs": [
        {
          "output_type": "execute_result",
          "data": {
            "text/plain": [
              "country\n",
              "Portugal      339.0\n",
              "Andorra       312.0\n",
              "Denmark       278.0\n",
              "Slovenia      276.0\n",
              "Luxembourg    271.0\n",
              "Name: wine_servings, dtype: float64"
            ]
          },
          "metadata": {},
          "execution_count": 201
        }
      ]
    },
    {
      "cell_type": "code",
      "metadata": {
        "id": "YalMkKGoV9xC"
      },
      "source": [
        "# 1: reassignment"
      ],
      "execution_count": 202,
      "outputs": []
    },
    {
      "cell_type": "code",
      "metadata": {
        "id": "0R-yipp7PLPL"
      },
      "source": [
        "# 2: inplace param"
      ],
      "execution_count": 203,
      "outputs": []
    },
    {
      "cell_type": "markdown",
      "metadata": {
        "id": "OHTGffrUW46p"
      },
      "source": [
        "#### nlargest() And nsmallest()"
      ]
    },
    {
      "cell_type": "code",
      "metadata": {
        "id": "t-TYR-_tbKZO",
        "colab": {
          "base_uri": "https://localhost:8080/"
        },
        "outputId": "6bdae1d7-7ac8-47ea-ddd9-a1f24472ebbd"
      },
      "source": [
        "alcohol.min()"
      ],
      "execution_count": 204,
      "outputs": [
        {
          "output_type": "execute_result",
          "data": {
            "text/plain": [
              "1.0"
            ]
          },
          "metadata": {},
          "execution_count": 204
        }
      ]
    },
    {
      "cell_type": "code",
      "metadata": {
        "id": "xCn8ivLBbKU-",
        "colab": {
          "base_uri": "https://localhost:8080/"
        },
        "outputId": "dfb19f2d-e957-465e-dec0-940e14ba4430"
      },
      "source": [
        "alcohol.max()"
      ],
      "execution_count": 205,
      "outputs": [
        {
          "output_type": "execute_result",
          "data": {
            "text/plain": [
              "339.0"
            ]
          },
          "metadata": {},
          "execution_count": 205
        }
      ]
    },
    {
      "cell_type": "code",
      "metadata": {
        "id": "EMRZJmAIbE7k",
        "colab": {
          "base_uri": "https://localhost:8080/"
        },
        "outputId": "8f2f6eb1-cb3f-41f5-d5ee-85b761957dcc"
      },
      "source": [
        "alcohol.sort_values(ascending=False)[:10]"
      ],
      "execution_count": 208,
      "outputs": [
        {
          "output_type": "execute_result",
          "data": {
            "text/plain": [
              "country\n",
              "Portugal             339.0\n",
              "Andorra              312.0\n",
              "Denmark              278.0\n",
              "Slovenia             276.0\n",
              "Luxembourg           271.0\n",
              "Croatia              254.0\n",
              "Italy                237.0\n",
              "Equatorial Guinea    233.0\n",
              "Argentina            221.0\n",
              "Greece               218.0\n",
              "Name: wine_servings, dtype: float64"
            ]
          },
          "metadata": {},
          "execution_count": 208
        }
      ]
    },
    {
      "cell_type": "code",
      "metadata": {
        "id": "X6S969FhbFAK",
        "colab": {
          "base_uri": "https://localhost:8080/"
        },
        "outputId": "8359cfb2-ca42-48d2-eb31-16c060993116"
      },
      "source": [
        "alcohol.nlargest(n=10)"
      ],
      "execution_count": 210,
      "outputs": [
        {
          "output_type": "execute_result",
          "data": {
            "text/plain": [
              "country\n",
              "Portugal             339.0\n",
              "Andorra              312.0\n",
              "Denmark              278.0\n",
              "Slovenia             276.0\n",
              "Luxembourg           271.0\n",
              "Croatia              254.0\n",
              "Italy                237.0\n",
              "Equatorial Guinea    233.0\n",
              "Argentina            221.0\n",
              "Greece               218.0\n",
              "Name: wine_servings, dtype: float64"
            ]
          },
          "metadata": {},
          "execution_count": 210
        }
      ]
    },
    {
      "cell_type": "code",
      "metadata": {
        "id": "lSeVN4BpbioR",
        "colab": {
          "base_uri": "https://localhost:8080/"
        },
        "outputId": "15d6caf7-e25d-4e96-ab1b-de1385077a69"
      },
      "source": [
        "alcohol.nsmallest(29)"
      ],
      "execution_count": 211,
      "outputs": [
        {
          "output_type": "execute_result",
          "data": {
            "text/plain": [
              "country\n",
              "Cambodia                    1.0\n",
              "Namibia                     1.0\n",
              "Morocco                     1.0\n",
              "Malawi                      1.0\n",
              "Thailand                    1.0\n",
              "Haiti                       1.0\n",
              "Canada                      1.0\n",
              "Kiribati                    1.0\n",
              "Jordan                      1.0\n",
              "Solomon Islands             1.0\n",
              "Central African Republic    1.0\n",
              "Niger                       1.0\n",
              "Nicaragua                   1.0\n",
              "Oman                        1.0\n",
              "Philippines                 1.0\n",
              "Brunei                      1.0\n",
              "Papua New Guinea            1.0\n",
              "Mali                        1.0\n",
              "Guyana                      1.0\n",
              "Fiji                        1.0\n",
              "DR Congo                    1.0\n",
              "Egypt                       1.0\n",
              "Vietnam                     1.0\n",
              "Gambia                      1.0\n",
              "Comoros                     1.0\n",
              "Ghana                       1.0\n",
              "Tanzania                    1.0\n",
              "Chad                        1.0\n",
              "Guinea                      2.0\n",
              "Name: wine_servings, dtype: float64"
            ]
          },
          "metadata": {},
          "execution_count": 211
        }
      ]
    },
    {
      "cell_type": "markdown",
      "metadata": {
        "id": "vWG2hiOGbnSF"
      },
      "source": [
        "#### Sorting With sort_index()"
      ]
    },
    {
      "cell_type": "code",
      "metadata": {
        "id": "aFZrPLYtghNS",
        "colab": {
          "base_uri": "https://localhost:8080/"
        },
        "outputId": "77c22774-3dee-460d-c5bb-9668d5b8f2f1"
      },
      "source": [
        "alcohol.head()"
      ],
      "execution_count": 212,
      "outputs": [
        {
          "output_type": "execute_result",
          "data": {
            "text/plain": [
              "country\n",
              "Portugal      339.0\n",
              "Andorra       312.0\n",
              "Denmark       278.0\n",
              "Slovenia      276.0\n",
              "Luxembourg    271.0\n",
              "Name: wine_servings, dtype: float64"
            ]
          },
          "metadata": {},
          "execution_count": 212
        }
      ]
    },
    {
      "cell_type": "code",
      "metadata": {
        "id": "N-j-teAygfpF"
      },
      "source": [
        "alcohol.sort_index(ascending=False, na_position='first', inplace=True)"
      ],
      "execution_count": 216,
      "outputs": []
    },
    {
      "cell_type": "code",
      "metadata": {
        "id": "iknz7pPPgfer",
        "colab": {
          "base_uri": "https://localhost:8080/"
        },
        "outputId": "41519e65-6485-45f6-dd8f-0ca2ed3d25f1"
      },
      "source": [
        "alcohol.index.isnull().sum()"
      ],
      "execution_count": 218,
      "outputs": [
        {
          "output_type": "execute_result",
          "data": {
            "text/plain": [
              "0"
            ]
          },
          "metadata": {},
          "execution_count": 218
        }
      ]
    },
    {
      "cell_type": "code",
      "metadata": {
        "id": "pO_4XDnXflDa",
        "colab": {
          "base_uri": "https://localhost:8080/"
        },
        "outputId": "171d7e7b-2e52-4c2a-cb2b-04914423901a"
      },
      "source": [
        "alcohol.head()"
      ],
      "execution_count": 219,
      "outputs": [
        {
          "output_type": "execute_result",
          "data": {
            "text/plain": [
              "country\n",
              "Zimbabwe      4.0\n",
              "Zambia        4.0\n",
              "Vietnam       1.0\n",
              "Venezuela     3.0\n",
              "Vanuatu      11.0\n",
              "Name: wine_servings, dtype: float64"
            ]
          },
          "metadata": {},
          "execution_count": 219
        }
      ]
    },
    {
      "cell_type": "markdown",
      "metadata": {
        "id": "p8IwOTQkfjUi"
      },
      "source": [
        "#### Skill Challenge"
      ]
    },
    {
      "cell_type": "markdown",
      "metadata": {
        "id": "PuhVDmvxW1xD"
      },
      "source": [
        "###### **1**."
      ]
    },
    {
      "cell_type": "markdown",
      "metadata": {
        "id": "hYW8wAr_W58w"
      },
      "source": [
        "Select all the countries from *alcohol* that have more than 50 wine servings, and save them (and the corresponding values) in a variable *fifty_plus*."
      ]
    },
    {
      "cell_type": "markdown",
      "metadata": {
        "id": "IeCg097Ih73U"
      },
      "source": [
        "###### **2**."
      ]
    },
    {
      "cell_type": "markdown",
      "metadata": {
        "id": "FtQ9QGYWXSCa"
      },
      "source": [
        "From *fifty_plus*, choose the countries with the smallest 20 wine servings values. "
      ]
    },
    {
      "cell_type": "markdown",
      "metadata": {
        "id": "FPMcpZPXXbxv"
      },
      "source": [
        "###### **3**."
      ]
    },
    {
      "cell_type": "markdown",
      "metadata": {
        "id": "H0euPe6Jfjb6"
      },
      "source": [
        "What is the mean, median and standard deviation for the sample from Step 2?"
      ]
    },
    {
      "cell_type": "markdown",
      "metadata": {
        "id": "Y_or5MWWitpf"
      },
      "source": [
        "#### Solution"
      ]
    },
    {
      "cell_type": "code",
      "metadata": {
        "id": "4csqxlMHaA6t"
      },
      "source": [
        "# 1"
      ],
      "execution_count": null,
      "outputs": []
    },
    {
      "cell_type": "code",
      "metadata": {
        "id": "G7YrmpjBaMOB"
      },
      "source": [
        "fifty_plus = alcohol[alcohol > 50]"
      ],
      "execution_count": 220,
      "outputs": []
    },
    {
      "cell_type": "code",
      "metadata": {
        "id": "WBlvPdE2aPgp",
        "colab": {
          "base_uri": "https://localhost:8080/"
        },
        "outputId": "7c9aa9a8-bbbd-4306-dd23-20f722d645fe"
      },
      "source": [
        "fifty_plus.head()"
      ],
      "execution_count": 221,
      "outputs": [
        {
          "output_type": "execute_result",
          "data": {
            "text/plain": [
              "country\n",
              "United Kingdom    195.0\n",
              "USA                84.0\n",
              "Sweden            186.0\n",
              "St. Lucia          71.0\n",
              "Spain             112.0\n",
              "Name: wine_servings, dtype: float64"
            ]
          },
          "metadata": {},
          "execution_count": 221
        }
      ]
    },
    {
      "cell_type": "code",
      "metadata": {
        "id": "2A4oQx7XaRJ6",
        "colab": {
          "base_uri": "https://localhost:8080/"
        },
        "outputId": "9a13c8ef-8099-4cbf-ae68-7a794db56b37"
      },
      "source": [
        "fifty_plus.count()"
      ],
      "execution_count": 222,
      "outputs": [
        {
          "output_type": "execute_result",
          "data": {
            "text/plain": [
              "48"
            ]
          },
          "metadata": {},
          "execution_count": 222
        }
      ]
    },
    {
      "cell_type": "code",
      "metadata": {
        "id": "NQ3K1gxhaSZ-"
      },
      "source": [
        "# 2"
      ],
      "execution_count": 223,
      "outputs": []
    },
    {
      "cell_type": "code",
      "metadata": {
        "id": "Z9tZSNGbadIw",
        "colab": {
          "base_uri": "https://localhost:8080/"
        },
        "outputId": "0670a681-2567-4e92-a28f-9f2cc3da134d"
      },
      "source": [
        "fifty_plus.nsmallest(n=20)"
      ],
      "execution_count": 224,
      "outputs": [
        {
          "output_type": "execute_result",
          "data": {
            "text/plain": [
              "country\n",
              "Seychelles             51.0\n",
              "Bahamas                51.0\n",
              "Albania                54.0\n",
              "Poland                 56.0\n",
              "Lithuania              56.0\n",
              "Gabon                  59.0\n",
              "Estonia                59.0\n",
              "Latvia                 62.0\n",
              "St. Lucia              71.0\n",
              "Russian Federation     73.0\n",
              "Paraguay               74.0\n",
              "Cook Islands           74.0\n",
              "Iceland                78.0\n",
              "South Africa           81.0\n",
              "USA                    84.0\n",
              "Macedonia              86.0\n",
              "Bulgaria               94.0\n",
              "Finland                97.0\n",
              "Spain                 112.0\n",
              "Cyprus                113.0\n",
              "Name: wine_servings, dtype: float64"
            ]
          },
          "metadata": {},
          "execution_count": 224
        }
      ]
    },
    {
      "cell_type": "code",
      "metadata": {
        "id": "9ZpYa4WRagKL"
      },
      "source": [
        "# 3"
      ],
      "execution_count": 225,
      "outputs": []
    },
    {
      "cell_type": "code",
      "metadata": {
        "id": "4XcNMQSFakUO",
        "colab": {
          "base_uri": "https://localhost:8080/"
        },
        "outputId": "7bb3173d-bcc2-4cce-bbe8-b7efad24605b"
      },
      "source": [
        "fifty_plus.nsmallest(n=20).describe()"
      ],
      "execution_count": 226,
      "outputs": [
        {
          "output_type": "execute_result",
          "data": {
            "text/plain": [
              "count     20.000000\n",
              "mean      74.250000\n",
              "std       19.072921\n",
              "min       51.000000\n",
              "25%       58.250000\n",
              "50%       73.500000\n",
              "75%       84.500000\n",
              "max      113.000000\n",
              "Name: wine_servings, dtype: float64"
            ]
          },
          "metadata": {},
          "execution_count": 226
        }
      ]
    },
    {
      "cell_type": "code",
      "metadata": {
        "id": "55LQusSnalRj",
        "colab": {
          "base_uri": "https://localhost:8080/"
        },
        "outputId": "2414f8eb-18ee-4fbf-a1a6-c5721984d49e"
      },
      "source": [
        "fifty_plus.nsmallest(n=20).median()"
      ],
      "execution_count": null,
      "outputs": [
        {
          "output_type": "execute_result",
          "data": {
            "text/plain": [
              "73.5"
            ]
          },
          "metadata": {
            "tags": []
          },
          "execution_count": 151
        }
      ]
    },
    {
      "cell_type": "code",
      "metadata": {
        "id": "vtb771LQam0N",
        "colab": {
          "base_uri": "https://localhost:8080/"
        },
        "outputId": "d7656960-5c8d-4ef5-956d-6983573937e4"
      },
      "source": [
        "fifty_plus.nsmallest(n=20).mean()"
      ],
      "execution_count": 227,
      "outputs": [
        {
          "output_type": "execute_result",
          "data": {
            "text/plain": [
              "74.25"
            ]
          },
          "metadata": {},
          "execution_count": 227
        }
      ]
    },
    {
      "cell_type": "code",
      "metadata": {
        "id": "JJOPmtL4aoDD",
        "colab": {
          "base_uri": "https://localhost:8080/"
        },
        "outputId": "3a79987a-0374-428f-e940-f0dac2ff48e8"
      },
      "source": [
        "fifty_plus.nsmallest(n=20).std()"
      ],
      "execution_count": 228,
      "outputs": [
        {
          "output_type": "execute_result",
          "data": {
            "text/plain": [
              "19.07292100831631"
            ]
          },
          "metadata": {},
          "execution_count": 228
        }
      ]
    },
    {
      "cell_type": "markdown",
      "metadata": {
        "id": "tQAqvfn0aotu"
      },
      "source": [
        "#### Series Arithmetics And fill_value()"
      ]
    },
    {
      "cell_type": "code",
      "metadata": {
        "id": "fO5Vtbr4kfFC",
        "colab": {
          "base_uri": "https://localhost:8080/"
        },
        "outputId": "e52619a5-c6fb-4de4-c032-ceff0d6ed14c"
      },
      "source": [
        "alcohol + 2"
      ],
      "execution_count": 229,
      "outputs": [
        {
          "output_type": "execute_result",
          "data": {
            "text/plain": [
              "country\n",
              "Zimbabwe               6.0\n",
              "Zambia                 6.0\n",
              "Vietnam                3.0\n",
              "Venezuela              5.0\n",
              "Vanuatu               13.0\n",
              "                     ...  \n",
              "Antigua & Barbuda     47.0\n",
              "Angola                47.0\n",
              "Andorra              314.0\n",
              "Algeria               16.0\n",
              "Albania               56.0\n",
              "Name: wine_servings, Length: 162, dtype: float64"
            ]
          },
          "metadata": {},
          "execution_count": 229
        }
      ]
    },
    {
      "cell_type": "code",
      "metadata": {
        "id": "OP2Mqotmke5V",
        "colab": {
          "base_uri": "https://localhost:8080/"
        },
        "outputId": "dfdf6197-8929-4fc8-87c1-3ae65895c3ef"
      },
      "source": [
        "(alcohol -10) * 2"
      ],
      "execution_count": 230,
      "outputs": [
        {
          "output_type": "execute_result",
          "data": {
            "text/plain": [
              "country\n",
              "Zimbabwe             -12.0\n",
              "Zambia               -12.0\n",
              "Vietnam              -18.0\n",
              "Venezuela            -14.0\n",
              "Vanuatu                2.0\n",
              "                     ...  \n",
              "Antigua & Barbuda     70.0\n",
              "Angola                70.0\n",
              "Andorra              604.0\n",
              "Algeria                8.0\n",
              "Albania               88.0\n",
              "Name: wine_servings, Length: 162, dtype: float64"
            ]
          },
          "metadata": {},
          "execution_count": 230
        }
      ]
    },
    {
      "cell_type": "code",
      "metadata": {
        "id": "lJ4W_bDskeQx",
        "colab": {
          "base_uri": "https://localhost:8080/"
        },
        "outputId": "facb18ae-84b0-46de-e071-bcaea8d0e776"
      },
      "source": [
        "alcohol.head()"
      ],
      "execution_count": 231,
      "outputs": [
        {
          "output_type": "execute_result",
          "data": {
            "text/plain": [
              "country\n",
              "Zimbabwe      4.0\n",
              "Zambia        4.0\n",
              "Vietnam       1.0\n",
              "Venezuela     3.0\n",
              "Vanuatu      11.0\n",
              "Name: wine_servings, dtype: float64"
            ]
          },
          "metadata": {},
          "execution_count": 231
        }
      ]
    },
    {
      "cell_type": "code",
      "metadata": {
        "id": "bL6uCwAJkeLo"
      },
      "source": [
        "alcohol.sort_index(inplace=True)"
      ],
      "execution_count": 232,
      "outputs": []
    },
    {
      "cell_type": "code",
      "metadata": {
        "id": "C5s2yMkmkZg2",
        "colab": {
          "base_uri": "https://localhost:8080/"
        },
        "outputId": "703db5f9-e699-4d16-8a71-a22988cecadb"
      },
      "source": [
        "alcohol.head()"
      ],
      "execution_count": 233,
      "outputs": [
        {
          "output_type": "execute_result",
          "data": {
            "text/plain": [
              "country\n",
              "Albania               54.0\n",
              "Algeria               14.0\n",
              "Andorra              312.0\n",
              "Angola                45.0\n",
              "Antigua & Barbuda     45.0\n",
              "Name: wine_servings, dtype: float64"
            ]
          },
          "metadata": {},
          "execution_count": 233
        }
      ]
    },
    {
      "cell_type": "code",
      "metadata": {
        "id": "n5hxP7EneC2-"
      },
      "source": [
        "\n",
        "more_drinks = pd.Series({'Albania':6, 'Alberia' : 19, 'Algeria' : 10, 'Afghanistan' : 100, 'Yemen' : 101})"
      ],
      "execution_count": 235,
      "outputs": []
    },
    {
      "cell_type": "code",
      "metadata": {
        "id": "KtoZdUT8kzDw",
        "colab": {
          "base_uri": "https://localhost:8080/"
        },
        "outputId": "31f57d29-e6ab-4965-dc91-e82e7b6e5cb6"
      },
      "source": [
        "alcohol + more_drinks"
      ],
      "execution_count": 236,
      "outputs": [
        {
          "output_type": "execute_result",
          "data": {
            "text/plain": [
              "Afghanistan     NaN\n",
              "Albania        60.0\n",
              "Alberia         NaN\n",
              "Algeria        24.0\n",
              "Andorra         NaN\n",
              "               ... \n",
              "Venezuela       NaN\n",
              "Vietnam         NaN\n",
              "Yemen           NaN\n",
              "Zambia          NaN\n",
              "Zimbabwe        NaN\n",
              "Length: 165, dtype: float64"
            ]
          },
          "metadata": {},
          "execution_count": 236
        }
      ]
    },
    {
      "cell_type": "code",
      "metadata": {
        "id": "ktc6ffMlk4lZ",
        "colab": {
          "base_uri": "https://localhost:8080/"
        },
        "outputId": "e19576cc-9a5b-4075-bd90-22eea0dd3d2d"
      },
      "source": [
        "alcohol.add(more_drinks, fill_value=0)"
      ],
      "execution_count": 237,
      "outputs": [
        {
          "output_type": "execute_result",
          "data": {
            "text/plain": [
              "Afghanistan    100.0\n",
              "Albania         60.0\n",
              "Alberia         19.0\n",
              "Algeria         24.0\n",
              "Andorra        312.0\n",
              "               ...  \n",
              "Venezuela        3.0\n",
              "Vietnam          1.0\n",
              "Yemen          101.0\n",
              "Zambia           4.0\n",
              "Zimbabwe         4.0\n",
              "Length: 165, dtype: float64"
            ]
          },
          "metadata": {},
          "execution_count": 237
        }
      ]
    },
    {
      "cell_type": "code",
      "metadata": {
        "id": "3npi1EQOlPvw",
        "colab": {
          "base_uri": "https://localhost:8080/"
        },
        "outputId": "1023f633-add1-4a52-b870-93541edd4cb3"
      },
      "source": [
        "alcohol - more_drinks"
      ],
      "execution_count": 238,
      "outputs": [
        {
          "output_type": "execute_result",
          "data": {
            "text/plain": [
              "Afghanistan     NaN\n",
              "Albania        48.0\n",
              "Alberia         NaN\n",
              "Algeria         4.0\n",
              "Andorra         NaN\n",
              "               ... \n",
              "Venezuela       NaN\n",
              "Vietnam         NaN\n",
              "Yemen           NaN\n",
              "Zambia          NaN\n",
              "Zimbabwe        NaN\n",
              "Length: 165, dtype: float64"
            ]
          },
          "metadata": {},
          "execution_count": 238
        }
      ]
    },
    {
      "cell_type": "code",
      "metadata": {
        "id": "j21Yo2Mcl4CH",
        "colab": {
          "base_uri": "https://localhost:8080/"
        },
        "outputId": "3aa0130b-d63f-4d39-eedd-d2c7122206d8"
      },
      "source": [
        "alcohol.subtract(more_drinks, fill_value=0)"
      ],
      "execution_count": 241,
      "outputs": [
        {
          "output_type": "execute_result",
          "data": {
            "text/plain": [
              "Afghanistan   -100.0\n",
              "Albania         48.0\n",
              "Alberia        -19.0\n",
              "Algeria          4.0\n",
              "Andorra        312.0\n",
              "               ...  \n",
              "Venezuela        3.0\n",
              "Vietnam          1.0\n",
              "Yemen         -101.0\n",
              "Zambia           4.0\n",
              "Zimbabwe         4.0\n",
              "Length: 165, dtype: float64"
            ]
          },
          "metadata": {},
          "execution_count": 241
        }
      ]
    },
    {
      "cell_type": "code",
      "metadata": {
        "id": "EhXFXTT7l7Nj",
        "colab": {
          "base_uri": "https://localhost:8080/"
        },
        "outputId": "422a27da-2cc4-49cf-bee6-c85051456ccc"
      },
      "source": [
        "alcohol.divide(more_drinks, fill_value=1)"
      ],
      "execution_count": 242,
      "outputs": [
        {
          "output_type": "execute_result",
          "data": {
            "text/plain": [
              "Afghanistan      0.010000\n",
              "Albania          9.000000\n",
              "Alberia          0.052632\n",
              "Algeria          1.400000\n",
              "Andorra        312.000000\n",
              "                  ...    \n",
              "Venezuela        3.000000\n",
              "Vietnam          1.000000\n",
              "Yemen            0.009901\n",
              "Zambia           4.000000\n",
              "Zimbabwe         4.000000\n",
              "Length: 165, dtype: float64"
            ]
          },
          "metadata": {},
          "execution_count": 242
        }
      ]
    },
    {
      "cell_type": "code",
      "metadata": {
        "id": "Qn-mHXvQmBg5",
        "colab": {
          "base_uri": "https://localhost:8080/"
        },
        "outputId": "ecf26a09-1a64-4119-f3d0-915e1d65a43c"
      },
      "source": [
        "alcohol.multiply(more_drinks, fill_value=1)"
      ],
      "execution_count": 243,
      "outputs": [
        {
          "output_type": "execute_result",
          "data": {
            "text/plain": [
              "Afghanistan    100.0\n",
              "Albania        324.0\n",
              "Alberia         19.0\n",
              "Algeria        140.0\n",
              "Andorra        312.0\n",
              "               ...  \n",
              "Venezuela        3.0\n",
              "Vietnam          1.0\n",
              "Yemen          101.0\n",
              "Zambia           4.0\n",
              "Zimbabwe         4.0\n",
              "Length: 165, dtype: float64"
            ]
          },
          "metadata": {},
          "execution_count": 243
        }
      ]
    },
    {
      "cell_type": "code",
      "metadata": {
        "id": "8AR-cOdFmE2p",
        "colab": {
          "base_uri": "https://localhost:8080/"
        },
        "outputId": "edd9aded-d8ee-4e73-a1e3-a77f307d96f4"
      },
      "source": [
        "alcohol.head()"
      ],
      "execution_count": 244,
      "outputs": [
        {
          "output_type": "execute_result",
          "data": {
            "text/plain": [
              "country\n",
              "Albania               54.0\n",
              "Algeria               14.0\n",
              "Andorra              312.0\n",
              "Angola                45.0\n",
              "Antigua & Barbuda     45.0\n",
              "Name: wine_servings, dtype: float64"
            ]
          },
          "metadata": {},
          "execution_count": 244
        }
      ]
    },
    {
      "cell_type": "code",
      "metadata": {
        "id": "R75TBo2TmLB7",
        "colab": {
          "base_uri": "https://localhost:8080/"
        },
        "outputId": "eac1b675-6ae3-402e-d137-d8d2f749c67f"
      },
      "source": [
        "more_drinks.head()"
      ],
      "execution_count": 245,
      "outputs": [
        {
          "output_type": "execute_result",
          "data": {
            "text/plain": [
              "Albania          6\n",
              "Alberia         19\n",
              "Algeria         10\n",
              "Afghanistan    100\n",
              "Yemen          101\n",
              "dtype: int64"
            ]
          },
          "metadata": {},
          "execution_count": 245
        }
      ]
    },
    {
      "cell_type": "markdown",
      "metadata": {
        "id": "mx0xcv3QmL8B"
      },
      "source": [
        "#### BONUS: Calculating Variance And Standard Deviation"
      ]
    },
    {
      "cell_type": "code",
      "metadata": {
        "id": "IqUbdJcItXRy",
        "colab": {
          "base_uri": "https://localhost:8080/"
        },
        "outputId": "3c67bf23-0db2-4265-fdb2-68d58365a4d4"
      },
      "source": [
        "alcohol.var()"
      ],
      "execution_count": 246,
      "outputs": [
        {
          "output_type": "execute_result",
          "data": {
            "text/plain": [
              "5796.52561153286"
            ]
          },
          "metadata": {},
          "execution_count": 246
        }
      ]
    },
    {
      "cell_type": "code",
      "metadata": {
        "id": "ecxbkDELtXNh",
        "colab": {
          "base_uri": "https://localhost:8080/"
        },
        "outputId": "f2ed17e4-e0e3-4ce9-de9d-b9c1b01d08ad"
      },
      "source": [
        "(alcohol.subtract(alcohol.mean())**2).sum()/(alcohol.count()-1)"
      ],
      "execution_count": 247,
      "outputs": [
        {
          "output_type": "execute_result",
          "data": {
            "text/plain": [
              "5796.525611532858"
            ]
          },
          "metadata": {},
          "execution_count": 247
        }
      ]
    },
    {
      "cell_type": "code",
      "metadata": {
        "id": "-nnUw5ANtQaW",
        "colab": {
          "base_uri": "https://localhost:8080/"
        },
        "outputId": "d5a5f3f0-2a04-4039-d2ca-7b34dc5e936b"
      },
      "source": [
        "alcohol.std()"
      ],
      "execution_count": 248,
      "outputs": [
        {
          "output_type": "execute_result",
          "data": {
            "text/plain": [
              "76.13491716376173"
            ]
          },
          "metadata": {},
          "execution_count": 248
        }
      ]
    },
    {
      "cell_type": "code",
      "metadata": {
        "id": "fejSp9yjsYal",
        "colab": {
          "base_uri": "https://localhost:8080/"
        },
        "outputId": "a13cbbf5-ae87-4596-b93c-45b9eb2cd90a"
      },
      "source": [
        "((alcohol.subtract(alcohol.mean())**2).sum()/(alcohol.count()-1))**(1/2)"
      ],
      "execution_count": 249,
      "outputs": [
        {
          "output_type": "execute_result",
          "data": {
            "text/plain": [
              "76.13491716376171"
            ]
          },
          "metadata": {},
          "execution_count": 249
        }
      ]
    },
    {
      "cell_type": "markdown",
      "metadata": {
        "id": "1rRqOdj3qfxq"
      },
      "source": [
        "#### Cumulative Operations"
      ]
    },
    {
      "cell_type": "code",
      "metadata": {
        "id": "NZ4FlGEys8sc"
      },
      "source": [
        "# sum"
      ],
      "execution_count": 251,
      "outputs": []
    },
    {
      "cell_type": "code",
      "metadata": {
        "id": "ZMxgf8UMs8pO",
        "colab": {
          "base_uri": "https://localhost:8080/"
        },
        "outputId": "4e8f1f43-d633-44f8-a8c0-6560558f165f"
      },
      "source": [
        "alcohol.sum()"
      ],
      "execution_count": 250,
      "outputs": [
        {
          "output_type": "execute_result",
          "data": {
            "text/plain": [
              "8221.0"
            ]
          },
          "metadata": {},
          "execution_count": 250
        }
      ]
    },
    {
      "cell_type": "code",
      "metadata": {
        "id": "9hH0ixq4s0cq",
        "colab": {
          "base_uri": "https://localhost:8080/"
        },
        "outputId": "e0ff9e86-da7e-428f-8ff7-154c1de9db12"
      },
      "source": [
        "alcohol.cumsum()"
      ],
      "execution_count": 252,
      "outputs": [
        {
          "output_type": "execute_result",
          "data": {
            "text/plain": [
              "country\n",
              "Albania                54.0\n",
              "Algeria                68.0\n",
              "Andorra               380.0\n",
              "Angola                425.0\n",
              "Antigua & Barbuda     470.0\n",
              "                      ...  \n",
              "Vanuatu              8209.0\n",
              "Venezuela            8212.0\n",
              "Vietnam              8213.0\n",
              "Zambia               8217.0\n",
              "Zimbabwe             8221.0\n",
              "Name: wine_servings, Length: 162, dtype: float64"
            ]
          },
          "metadata": {},
          "execution_count": 252
        }
      ]
    },
    {
      "cell_type": "code",
      "metadata": {
        "id": "eYoFC0_0s0Wb",
        "colab": {
          "base_uri": "https://localhost:8080/"
        },
        "outputId": "7c737b99-e8ac-4eb5-8661-c112000c3d04"
      },
      "source": [
        "np.NaN + 123192380912"
      ],
      "execution_count": 253,
      "outputs": [
        {
          "output_type": "execute_result",
          "data": {
            "text/plain": [
              "nan"
            ]
          },
          "metadata": {},
          "execution_count": 253
        }
      ]
    },
    {
      "cell_type": "code",
      "metadata": {
        "id": "ftp4Kcb9sqTS",
        "colab": {
          "base_uri": "https://localhost:8080/"
        },
        "outputId": "ab532242-1510-4673-8383-759472508756"
      },
      "source": [
        "pd.NA + 12312"
      ],
      "execution_count": 254,
      "outputs": [
        {
          "output_type": "execute_result",
          "data": {
            "text/plain": [
              "<NA>"
            ]
          },
          "metadata": {},
          "execution_count": 254
        }
      ]
    },
    {
      "cell_type": "code",
      "metadata": {
        "id": "qVpF1Cw9tpUy",
        "colab": {
          "base_uri": "https://localhost:8080/"
        },
        "outputId": "e2e6f7f0-5e85-4c5c-f576-4f24a40a72fc"
      },
      "source": [
        "alcohol.prod()"
      ],
      "execution_count": 255,
      "outputs": [
        {
          "output_type": "execute_result",
          "data": {
            "text/plain": [
              "3.4276115052182805e+183"
            ]
          },
          "metadata": {},
          "execution_count": 255
        }
      ]
    },
    {
      "cell_type": "code",
      "metadata": {
        "id": "48WkGRD2txX6",
        "colab": {
          "base_uri": "https://localhost:8080/"
        },
        "outputId": "d491c90f-f6a0-4fec-9abd-8ef63788c3df"
      },
      "source": [
        "alcohol.cumprod()"
      ],
      "execution_count": 256,
      "outputs": [
        {
          "output_type": "execute_result",
          "data": {
            "text/plain": [
              "country\n",
              "Albania               5.400000e+01\n",
              "Algeria               7.560000e+02\n",
              "Andorra               2.358720e+05\n",
              "Angola                1.061424e+07\n",
              "Antigua & Barbuda     4.776408e+08\n",
              "                         ...      \n",
              "Vanuatu              7.140857e+181\n",
              "Venezuela            2.142257e+182\n",
              "Vietnam              2.142257e+182\n",
              "Zambia               8.569029e+182\n",
              "Zimbabwe             3.427612e+183\n",
              "Name: wine_servings, Length: 162, dtype: float64"
            ]
          },
          "metadata": {},
          "execution_count": 256
        }
      ]
    },
    {
      "cell_type": "code",
      "metadata": {
        "id": "r9VDMPd5tzzn",
        "colab": {
          "base_uri": "https://localhost:8080/"
        },
        "outputId": "4a03d938-02d1-47f6-e55b-cef9d5143ba2"
      },
      "source": [
        "alcohol.cumprod()[-1] == alcohol.prod()"
      ],
      "execution_count": 257,
      "outputs": [
        {
          "output_type": "execute_result",
          "data": {
            "text/plain": [
              "True"
            ]
          },
          "metadata": {},
          "execution_count": 257
        }
      ]
    },
    {
      "cell_type": "code",
      "metadata": {
        "id": "pRhbBlVTt60K"
      },
      "source": [
        "# cummin cummax"
      ],
      "execution_count": 259,
      "outputs": []
    },
    {
      "cell_type": "code",
      "metadata": {
        "id": "b6KC6paDt83O",
        "colab": {
          "base_uri": "https://localhost:8080/"
        },
        "outputId": "7434fd7f-e1c2-413e-f127-56cb95a37e1b"
      },
      "source": [
        "alcohol.min()"
      ],
      "execution_count": 258,
      "outputs": [
        {
          "output_type": "execute_result",
          "data": {
            "text/plain": [
              "1.0"
            ]
          },
          "metadata": {},
          "execution_count": 258
        }
      ]
    },
    {
      "cell_type": "code",
      "metadata": {
        "id": "9h6Ij21ouAwK",
        "colab": {
          "base_uri": "https://localhost:8080/"
        },
        "outputId": "307cfd6f-74d9-4b28-d9ae-e7e95e775091"
      },
      "source": [
        "alcohol.cummin()"
      ],
      "execution_count": 260,
      "outputs": [
        {
          "output_type": "execute_result",
          "data": {
            "text/plain": [
              "country\n",
              "Albania              54.0\n",
              "Algeria              14.0\n",
              "Andorra              14.0\n",
              "Angola               14.0\n",
              "Antigua & Barbuda    14.0\n",
              "                     ... \n",
              "Vanuatu               1.0\n",
              "Venezuela             1.0\n",
              "Vietnam               1.0\n",
              "Zambia                1.0\n",
              "Zimbabwe              1.0\n",
              "Name: wine_servings, Length: 162, dtype: float64"
            ]
          },
          "metadata": {},
          "execution_count": 260
        }
      ]
    },
    {
      "cell_type": "code",
      "metadata": {
        "id": "O24xhbyBuCF1",
        "colab": {
          "base_uri": "https://localhost:8080/"
        },
        "outputId": "d8b5226c-2e99-4cc0-9049-12f9ebec243c"
      },
      "source": [
        "alcohol.max()"
      ],
      "execution_count": 261,
      "outputs": [
        {
          "output_type": "execute_result",
          "data": {
            "text/plain": [
              "339.0"
            ]
          },
          "metadata": {},
          "execution_count": 261
        }
      ]
    },
    {
      "cell_type": "code",
      "metadata": {
        "id": "TZYVJ89HuGRN",
        "colab": {
          "base_uri": "https://localhost:8080/"
        },
        "outputId": "d53cc57c-75f3-4f0b-809a-b83706063989"
      },
      "source": [
        "alcohol.cummax()"
      ],
      "execution_count": 262,
      "outputs": [
        {
          "output_type": "execute_result",
          "data": {
            "text/plain": [
              "country\n",
              "Albania               54.0\n",
              "Algeria               54.0\n",
              "Andorra              312.0\n",
              "Angola               312.0\n",
              "Antigua & Barbuda    312.0\n",
              "                     ...  \n",
              "Vanuatu              339.0\n",
              "Venezuela            339.0\n",
              "Vietnam              339.0\n",
              "Zambia               339.0\n",
              "Zimbabwe             339.0\n",
              "Name: wine_servings, Length: 162, dtype: float64"
            ]
          },
          "metadata": {},
          "execution_count": 262
        }
      ]
    },
    {
      "cell_type": "code",
      "metadata": {
        "id": "c3_43eXxuHwq",
        "colab": {
          "base_uri": "https://localhost:8080/"
        },
        "outputId": "80c86b64-f09d-4ac5-ff3e-e87a43dd6cc1"
      },
      "source": [
        "alcohol.head()"
      ],
      "execution_count": 263,
      "outputs": [
        {
          "output_type": "execute_result",
          "data": {
            "text/plain": [
              "country\n",
              "Albania               54.0\n",
              "Algeria               14.0\n",
              "Andorra              312.0\n",
              "Angola                45.0\n",
              "Antigua & Barbuda     45.0\n",
              "Name: wine_servings, dtype: float64"
            ]
          },
          "metadata": {},
          "execution_count": 263
        }
      ]
    },
    {
      "cell_type": "code",
      "metadata": {
        "id": "QOgEyZtKuLJV",
        "colab": {
          "base_uri": "https://localhost:8080/"
        },
        "outputId": "7f6b6122-5d23-4446-8045-20c21ac65bd2"
      },
      "source": [
        "pd.Series({'a':'v1', 'b':'v2', 'c':'v3'})"
      ],
      "execution_count": 264,
      "outputs": [
        {
          "output_type": "execute_result",
          "data": {
            "text/plain": [
              "a    v1\n",
              "b    v2\n",
              "c    v3\n",
              "dtype: object"
            ]
          },
          "metadata": {},
          "execution_count": 264
        }
      ]
    },
    {
      "cell_type": "markdown",
      "metadata": {
        "id": "6LCCQdWByeG1"
      },
      "source": [
        "#### Pairwise Differences With diff()"
      ]
    },
    {
      "cell_type": "code",
      "metadata": {
        "id": "SjrzIctI28vu",
        "colab": {
          "base_uri": "https://localhost:8080/"
        },
        "outputId": "2207d739-a5fe-40db-dcdc-98ccb13bfac6"
      },
      "source": [
        "alcohol.head()"
      ],
      "execution_count": 265,
      "outputs": [
        {
          "output_type": "execute_result",
          "data": {
            "text/plain": [
              "country\n",
              "Albania               54.0\n",
              "Algeria               14.0\n",
              "Andorra              312.0\n",
              "Angola                45.0\n",
              "Antigua & Barbuda     45.0\n",
              "Name: wine_servings, dtype: float64"
            ]
          },
          "metadata": {},
          "execution_count": 265
        }
      ]
    },
    {
      "cell_type": "code",
      "metadata": {
        "id": "P9TGFBsA28nw",
        "colab": {
          "base_uri": "https://localhost:8080/"
        },
        "outputId": "ed6f3668-a7a6-42b8-9ac8-2f43051904fc"
      },
      "source": [
        "alcohol.diff().head()"
      ],
      "execution_count": 266,
      "outputs": [
        {
          "output_type": "execute_result",
          "data": {
            "text/plain": [
              "country\n",
              "Albania                NaN\n",
              "Algeria              -40.0\n",
              "Andorra              298.0\n",
              "Angola              -267.0\n",
              "Antigua & Barbuda      0.0\n",
              "Name: wine_servings, dtype: float64"
            ]
          },
          "metadata": {},
          "execution_count": 266
        }
      ]
    },
    {
      "cell_type": "code",
      "metadata": {
        "id": "cdlMoaUR28LS",
        "colab": {
          "base_uri": "https://localhost:8080/"
        },
        "outputId": "973e43b4-be81-4a6e-8822-d91f68d953ba"
      },
      "source": [
        "alcohol.diff(periods=2).head()"
      ],
      "execution_count": 267,
      "outputs": [
        {
          "output_type": "execute_result",
          "data": {
            "text/plain": [
              "country\n",
              "Albania                NaN\n",
              "Algeria                NaN\n",
              "Andorra              258.0\n",
              "Angola                31.0\n",
              "Antigua & Barbuda   -267.0\n",
              "Name: wine_servings, dtype: float64"
            ]
          },
          "metadata": {},
          "execution_count": 267
        }
      ]
    },
    {
      "cell_type": "markdown",
      "metadata": {
        "id": "S5iR8C9e28Hq"
      },
      "source": [
        "#### Series Iteration"
      ]
    },
    {
      "cell_type": "code",
      "metadata": {
        "id": "AnHL0_iM9NS9"
      },
      "source": [
        "mini_alc = alcohol[:10]"
      ],
      "execution_count": 268,
      "outputs": []
    },
    {
      "cell_type": "code",
      "metadata": {
        "id": "ERnpDSRi9MTM",
        "colab": {
          "base_uri": "https://localhost:8080/"
        },
        "outputId": "128b5dfd-37ce-467f-c876-492099f7745c"
      },
      "source": [
        "mini_alc"
      ],
      "execution_count": 269,
      "outputs": [
        {
          "output_type": "execute_result",
          "data": {
            "text/plain": [
              "country\n",
              "Albania               54.0\n",
              "Algeria               14.0\n",
              "Andorra              312.0\n",
              "Angola                45.0\n",
              "Antigua & Barbuda     45.0\n",
              "Argentina            221.0\n",
              "Armenia               11.0\n",
              "Australia            212.0\n",
              "Austria              191.0\n",
              "Azerbaijan             5.0\n",
              "Name: wine_servings, dtype: float64"
            ]
          },
          "metadata": {},
          "execution_count": 269
        }
      ]
    },
    {
      "cell_type": "code",
      "metadata": {
        "id": "Wp25r4a49MPR",
        "colab": {
          "base_uri": "https://localhost:8080/"
        },
        "outputId": "705ed088-ab80-4ca9-ce76-3c37c2c8ebd3"
      },
      "source": [
        "for i in mini_alc:\n",
        "  print(i)"
      ],
      "execution_count": 270,
      "outputs": [
        {
          "output_type": "stream",
          "name": "stdout",
          "text": [
            "54.0\n",
            "14.0\n",
            "312.0\n",
            "45.0\n",
            "45.0\n",
            "221.0\n",
            "11.0\n",
            "212.0\n",
            "191.0\n",
            "5.0\n"
          ]
        }
      ]
    },
    {
      "cell_type": "code",
      "metadata": {
        "id": "wbIIYDm_9MLk",
        "colab": {
          "base_uri": "https://localhost:8080/"
        },
        "outputId": "de75ced0-2107-49e7-daca-ddafa51567be"
      },
      "source": [
        "for i in mini_alc.index:\n",
        "  print(i)"
      ],
      "execution_count": 271,
      "outputs": [
        {
          "output_type": "stream",
          "name": "stdout",
          "text": [
            "Albania\n",
            "Algeria\n",
            "Andorra\n",
            "Angola\n",
            "Antigua & Barbuda\n",
            "Argentina\n",
            "Armenia\n",
            "Australia\n",
            "Austria\n",
            "Azerbaijan\n"
          ]
        }
      ]
    },
    {
      "cell_type": "code",
      "metadata": {
        "id": "iaqTjMNZ9MHm",
        "colab": {
          "base_uri": "https://localhost:8080/"
        },
        "outputId": "d3799d36-937f-414f-fb8a-7f4d95830aa9"
      },
      "source": [
        "for i in mini_alc.index:\n",
        "  print(i, mini_alc[i])"
      ],
      "execution_count": 272,
      "outputs": [
        {
          "output_type": "stream",
          "name": "stdout",
          "text": [
            "Albania 54.0\n",
            "Algeria 14.0\n",
            "Andorra 312.0\n",
            "Angola 45.0\n",
            "Antigua & Barbuda 45.0\n",
            "Argentina 221.0\n",
            "Armenia 11.0\n",
            "Australia 212.0\n",
            "Austria 191.0\n",
            "Azerbaijan 5.0\n"
          ]
        }
      ]
    },
    {
      "cell_type": "code",
      "metadata": {
        "id": "DNtfc5RQlFQE",
        "colab": {
          "base_uri": "https://localhost:8080/"
        },
        "outputId": "f8ba2222-87a0-4835-b3db-e40491a428f1"
      },
      "source": [
        "for i in mini_alc.iteritems():\n",
        "  print(i)"
      ],
      "execution_count": 273,
      "outputs": [
        {
          "output_type": "stream",
          "name": "stdout",
          "text": [
            "('Albania', 54.0)\n",
            "('Algeria', 14.0)\n",
            "('Andorra', 312.0)\n",
            "('Angola', 45.0)\n",
            "('Antigua & Barbuda', 45.0)\n",
            "('Argentina', 221.0)\n",
            "('Armenia', 11.0)\n",
            "('Australia', 212.0)\n",
            "('Austria', 191.0)\n",
            "('Azerbaijan', 5.0)\n"
          ]
        }
      ]
    },
    {
      "cell_type": "markdown",
      "metadata": {
        "id": "hAvtoOHlk-5P"
      },
      "source": [
        "#### Filtering: filter(), where(), And mask()"
      ]
    },
    {
      "cell_type": "code",
      "metadata": {
        "id": "9Uv5g4u4uskm",
        "colab": {
          "base_uri": "https://localhost:8080/"
        },
        "outputId": "b59fc109-c8be-4e84-c68a-099688106666"
      },
      "source": [
        "alcohol.filter(regex='^V')"
      ],
      "execution_count": 274,
      "outputs": [
        {
          "output_type": "execute_result",
          "data": {
            "text/plain": [
              "country\n",
              "Vanuatu      11.0\n",
              "Venezuela     3.0\n",
              "Vietnam       1.0\n",
              "Name: wine_servings, dtype: float64"
            ]
          },
          "metadata": {},
          "execution_count": 274
        }
      ]
    },
    {
      "cell_type": "code",
      "metadata": {
        "id": "Cg8pnbQRusew",
        "colab": {
          "base_uri": "https://localhost:8080/"
        },
        "outputId": "5c32c524-46b5-4a8a-fcda-29c8de09318e"
      },
      "source": [
        "alcohol.filter(like= 'stan')"
      ],
      "execution_count": 275,
      "outputs": [
        {
          "output_type": "execute_result",
          "data": {
            "text/plain": [
              "country\n",
              "Kazakhstan      12.0\n",
              "Kyrgyzstan       6.0\n",
              "Turkmenistan    32.0\n",
              "Uzbekistan       8.0\n",
              "Name: wine_servings, dtype: float64"
            ]
          },
          "metadata": {},
          "execution_count": 275
        }
      ]
    },
    {
      "cell_type": "code",
      "metadata": {
        "id": "RbG8OVAvurzD",
        "colab": {
          "base_uri": "https://localhost:8080/"
        },
        "outputId": "b62398c7-9d24-4bf8-84ce-5c4dcc53bc63"
      },
      "source": [
        "alcohol[alcohol > 200]"
      ],
      "execution_count": 276,
      "outputs": [
        {
          "output_type": "execute_result",
          "data": {
            "text/plain": [
              "country\n",
              "Andorra              312.0\n",
              "Argentina            221.0\n",
              "Australia            212.0\n",
              "Belgium              212.0\n",
              "Croatia              254.0\n",
              "Denmark              278.0\n",
              "Equatorial Guinea    233.0\n",
              "Greece               218.0\n",
              "Italy                237.0\n",
              "Luxembourg           271.0\n",
              "Portugal             339.0\n",
              "Slovenia             276.0\n",
              "Name: wine_servings, dtype: float64"
            ]
          },
          "metadata": {},
          "execution_count": 276
        }
      ]
    },
    {
      "cell_type": "code",
      "metadata": {
        "id": "hqzoRxUJurvj",
        "colab": {
          "base_uri": "https://localhost:8080/"
        },
        "outputId": "bd547f11-8dae-4b3a-c63a-b2328b264c38"
      },
      "source": [
        "alcohol.loc[alcohol > 200]"
      ],
      "execution_count": 277,
      "outputs": [
        {
          "output_type": "execute_result",
          "data": {
            "text/plain": [
              "country\n",
              "Andorra              312.0\n",
              "Argentina            221.0\n",
              "Australia            212.0\n",
              "Belgium              212.0\n",
              "Croatia              254.0\n",
              "Denmark              278.0\n",
              "Equatorial Guinea    233.0\n",
              "Greece               218.0\n",
              "Italy                237.0\n",
              "Luxembourg           271.0\n",
              "Portugal             339.0\n",
              "Slovenia             276.0\n",
              "Name: wine_servings, dtype: float64"
            ]
          },
          "metadata": {},
          "execution_count": 277
        }
      ]
    },
    {
      "cell_type": "code",
      "metadata": {
        "id": "GXnWbZElurro"
      },
      "source": [
        "def gt200(x):\n",
        "  return x > 200"
      ],
      "execution_count": 278,
      "outputs": []
    },
    {
      "cell_type": "code",
      "metadata": {
        "id": "nTTpIDqvui3m",
        "colab": {
          "base_uri": "https://localhost:8080/"
        },
        "outputId": "6b53c569-a514-4747-c5fb-d7a5cb3dafd0"
      },
      "source": [
        "alcohol[gt200]\n"
      ],
      "execution_count": 279,
      "outputs": [
        {
          "output_type": "execute_result",
          "data": {
            "text/plain": [
              "country\n",
              "Andorra              312.0\n",
              "Argentina            221.0\n",
              "Australia            212.0\n",
              "Belgium              212.0\n",
              "Croatia              254.0\n",
              "Denmark              278.0\n",
              "Equatorial Guinea    233.0\n",
              "Greece               218.0\n",
              "Italy                237.0\n",
              "Luxembourg           271.0\n",
              "Portugal             339.0\n",
              "Slovenia             276.0\n",
              "Name: wine_servings, dtype: float64"
            ]
          },
          "metadata": {},
          "execution_count": 279
        }
      ]
    },
    {
      "cell_type": "code",
      "metadata": {
        "id": "MeKI22w8ukVo"
      },
      "source": [
        "# the where() method"
      ],
      "execution_count": 280,
      "outputs": []
    },
    {
      "cell_type": "code",
      "metadata": {
        "id": "3cbPzxXiv4P9",
        "colab": {
          "base_uri": "https://localhost:8080/"
        },
        "outputId": "e655fa92-4385-41ca-ee31-17b886fd2edc"
      },
      "source": [
        "alcohol.where(lambda x: x>200).dropna()"
      ],
      "execution_count": 283,
      "outputs": [
        {
          "output_type": "execute_result",
          "data": {
            "text/plain": [
              "country\n",
              "Andorra              312.0\n",
              "Argentina            221.0\n",
              "Australia            212.0\n",
              "Belgium              212.0\n",
              "Croatia              254.0\n",
              "Denmark              278.0\n",
              "Equatorial Guinea    233.0\n",
              "Greece               218.0\n",
              "Italy                237.0\n",
              "Luxembourg           271.0\n",
              "Portugal             339.0\n",
              "Slovenia             276.0\n",
              "Name: wine_servings, dtype: float64"
            ]
          },
          "metadata": {},
          "execution_count": 283
        }
      ]
    },
    {
      "cell_type": "code",
      "metadata": {
        "id": "z_5VKOw7wGvA",
        "colab": {
          "base_uri": "https://localhost:8080/"
        },
        "outputId": "037b3ddb-830d-4954-da58-e53c67985a0f"
      },
      "source": [
        "alcohol.where(lambda x: x<=200).dropna()"
      ],
      "execution_count": 284,
      "outputs": [
        {
          "output_type": "execute_result",
          "data": {
            "text/plain": [
              "country\n",
              "Albania              54.0\n",
              "Algeria              14.0\n",
              "Angola               45.0\n",
              "Antigua & Barbuda    45.0\n",
              "Armenia              11.0\n",
              "                     ... \n",
              "Vanuatu              11.0\n",
              "Venezuela             3.0\n",
              "Vietnam               1.0\n",
              "Zambia                4.0\n",
              "Zimbabwe              4.0\n",
              "Name: wine_servings, Length: 150, dtype: float64"
            ]
          },
          "metadata": {},
          "execution_count": 284
        }
      ]
    },
    {
      "cell_type": "code",
      "metadata": {
        "id": "4rzotAFUwqjU"
      },
      "source": [
        "# the mask() method"
      ],
      "execution_count": 286,
      "outputs": []
    },
    {
      "cell_type": "code",
      "metadata": {
        "id": "QYB_kAPCw2GW",
        "colab": {
          "base_uri": "https://localhost:8080/"
        },
        "outputId": "c4c171d3-4d9d-4beb-d3f7-96d0e509f937"
      },
      "source": [
        "alcohol.mask(lambda x: x>200).dropna()"
      ],
      "execution_count": 285,
      "outputs": [
        {
          "output_type": "execute_result",
          "data": {
            "text/plain": [
              "country\n",
              "Albania              54.0\n",
              "Algeria              14.0\n",
              "Angola               45.0\n",
              "Antigua & Barbuda    45.0\n",
              "Armenia              11.0\n",
              "                     ... \n",
              "Vanuatu              11.0\n",
              "Venezuela             3.0\n",
              "Vietnam               1.0\n",
              "Zambia                4.0\n",
              "Zimbabwe              4.0\n",
              "Name: wine_servings, Length: 150, dtype: float64"
            ]
          },
          "metadata": {},
          "execution_count": 285
        }
      ]
    },
    {
      "cell_type": "markdown",
      "metadata": {
        "id": "HTRDqLIkw--y"
      },
      "source": [
        "#### Transforming With update(), apply() And map()"
      ]
    },
    {
      "cell_type": "code",
      "metadata": {
        "id": "ED5wGJEcPR6r",
        "colab": {
          "base_uri": "https://localhost:8080/"
        },
        "outputId": "b2c91e06-1b89-43fd-ea7c-350c0121ecac"
      },
      "source": [
        "alcohol.head(10)"
      ],
      "execution_count": 287,
      "outputs": [
        {
          "output_type": "execute_result",
          "data": {
            "text/plain": [
              "country\n",
              "Albania               54.0\n",
              "Algeria               14.0\n",
              "Andorra              312.0\n",
              "Angola                45.0\n",
              "Antigua & Barbuda     45.0\n",
              "Argentina            221.0\n",
              "Armenia               11.0\n",
              "Australia            212.0\n",
              "Austria              191.0\n",
              "Azerbaijan             5.0\n",
              "Name: wine_servings, dtype: float64"
            ]
          },
          "metadata": {},
          "execution_count": 287
        }
      ]
    },
    {
      "cell_type": "code",
      "metadata": {
        "id": "LcIoLSePPgl_"
      },
      "source": [
        "# spot v global transforms"
      ],
      "execution_count": null,
      "outputs": []
    },
    {
      "cell_type": "code",
      "metadata": {
        "id": "xKrzYiB8P38N"
      },
      "source": [
        "alcohol.loc['Algeria'] = 19"
      ],
      "execution_count": 288,
      "outputs": []
    },
    {
      "cell_type": "code",
      "metadata": {
        "id": "LdRpcSL6P_S4",
        "colab": {
          "base_uri": "https://localhost:8080/"
        },
        "outputId": "ae85566d-af19-4e12-b489-27d70255780e"
      },
      "source": [
        "alcohol.head(10)"
      ],
      "execution_count": 289,
      "outputs": [
        {
          "output_type": "execute_result",
          "data": {
            "text/plain": [
              "country\n",
              "Albania               54.0\n",
              "Algeria               19.0\n",
              "Andorra              312.0\n",
              "Angola                45.0\n",
              "Antigua & Barbuda     45.0\n",
              "Argentina            221.0\n",
              "Armenia               11.0\n",
              "Australia            212.0\n",
              "Austria              191.0\n",
              "Azerbaijan             5.0\n",
              "Name: wine_servings, dtype: float64"
            ]
          },
          "metadata": {},
          "execution_count": 289
        }
      ]
    },
    {
      "cell_type": "code",
      "metadata": {
        "id": "QKGgI6u8QB9x"
      },
      "source": [
        "alcohol.loc['Albania'] = 190\n",
        "alcohol.loc['Afghanistan'] = 20\n",
        "alcohol.loc['Andorra'] = 29"
      ],
      "execution_count": 290,
      "outputs": []
    },
    {
      "cell_type": "code",
      "metadata": {
        "id": "2KClonmQQJXB",
        "colab": {
          "base_uri": "https://localhost:8080/"
        },
        "outputId": "78d7073a-30d5-4480-e79a-98cb2be163b8"
      },
      "source": [
        "alcohol.head(10)"
      ],
      "execution_count": 291,
      "outputs": [
        {
          "output_type": "execute_result",
          "data": {
            "text/plain": [
              "country\n",
              "Albania              190.0\n",
              "Algeria               19.0\n",
              "Andorra               29.0\n",
              "Angola                45.0\n",
              "Antigua & Barbuda     45.0\n",
              "Argentina            221.0\n",
              "Armenia               11.0\n",
              "Australia            212.0\n",
              "Austria              191.0\n",
              "Azerbaijan             5.0\n",
              "Name: wine_servings, dtype: float64"
            ]
          },
          "metadata": {},
          "execution_count": 291
        }
      ]
    },
    {
      "cell_type": "code",
      "metadata": {
        "id": "tg-AEPjZQKxy"
      },
      "source": [
        "# the update() method"
      ],
      "execution_count": 292,
      "outputs": []
    },
    {
      "cell_type": "code",
      "metadata": {
        "id": "VNJbW8L7QSr-"
      },
      "source": [
        "# alcohol.update(pd.Series(data=[200, 20], index=['Albania', 'Algeria']))\n",
        "alcohol.update(pd.Series(data=[200,20], index=['Albania', 'Algeria']))"
      ],
      "execution_count": 294,
      "outputs": []
    },
    {
      "cell_type": "code",
      "metadata": {
        "id": "U-yxSGWmQab8",
        "colab": {
          "base_uri": "https://localhost:8080/"
        },
        "outputId": "0237fa11-0fb3-4553-8935-703b6f6aa44c"
      },
      "source": [
        "alcohol.head(10)"
      ],
      "execution_count": 295,
      "outputs": [
        {
          "output_type": "execute_result",
          "data": {
            "text/plain": [
              "country\n",
              "Albania              200.0\n",
              "Algeria               20.0\n",
              "Andorra               29.0\n",
              "Angola                45.0\n",
              "Antigua & Barbuda     45.0\n",
              "Argentina            221.0\n",
              "Armenia               11.0\n",
              "Australia            212.0\n",
              "Austria              191.0\n",
              "Azerbaijan             5.0\n",
              "Name: wine_servings, dtype: float64"
            ]
          },
          "metadata": {},
          "execution_count": 295
        }
      ]
    },
    {
      "cell_type": "code",
      "metadata": {
        "id": "xNX9aNkuQgjS"
      },
      "source": [
        "# the apply() method"
      ],
      "execution_count": 297,
      "outputs": []
    },
    {
      "cell_type": "code",
      "metadata": {
        "id": "Fnf3ZzpMQuGq",
        "colab": {
          "base_uri": "https://localhost:8080/"
        },
        "outputId": "e609e785-9dbd-433e-94a9-84944657bf80"
      },
      "source": [
        "alcohol.map(lambda x: x**2)"
      ],
      "execution_count": 299,
      "outputs": [
        {
          "output_type": "execute_result",
          "data": {
            "text/plain": [
              "country\n",
              "Albania              40000.0\n",
              "Algeria                400.0\n",
              "Andorra                841.0\n",
              "Angola                2025.0\n",
              "Antigua & Barbuda     2025.0\n",
              "                      ...   \n",
              "Venezuela                9.0\n",
              "Vietnam                  1.0\n",
              "Zambia                  16.0\n",
              "Zimbabwe                16.0\n",
              "Afghanistan            400.0\n",
              "Name: wine_servings, Length: 163, dtype: float64"
            ]
          },
          "metadata": {},
          "execution_count": 299
        }
      ]
    },
    {
      "cell_type": "code",
      "metadata": {
        "id": "e2nIiyjaQ2Q2",
        "colab": {
          "base_uri": "https://localhost:8080/"
        },
        "outputId": "e0031cc5-49fd-4be9-993d-c5e120383a2c"
      },
      "source": [
        "alcohol.map(np.square)"
      ],
      "execution_count": 300,
      "outputs": [
        {
          "output_type": "execute_result",
          "data": {
            "text/plain": [
              "country\n",
              "Albania              40000.0\n",
              "Algeria                400.0\n",
              "Andorra                841.0\n",
              "Angola                2025.0\n",
              "Antigua & Barbuda     2025.0\n",
              "                      ...   \n",
              "Venezuela                9.0\n",
              "Vietnam                  1.0\n",
              "Zambia                  16.0\n",
              "Zimbabwe                16.0\n",
              "Afghanistan            400.0\n",
              "Name: wine_servings, Length: 163, dtype: float64"
            ]
          },
          "metadata": {},
          "execution_count": 300
        }
      ]
    },
    {
      "cell_type": "code",
      "metadata": {
        "id": "e3ti6w11Q8za"
      },
      "source": [
        "\n",
        "def multiply_by_self(x):\n",
        "    return x*x"
      ],
      "execution_count": 302,
      "outputs": []
    },
    {
      "cell_type": "code",
      "metadata": {
        "id": "2IBih2DgRERY",
        "colab": {
          "base_uri": "https://localhost:8080/"
        },
        "outputId": "a21e180f-8729-488f-b811-7ffdb6260208"
      },
      "source": [
        "alcohol.apply(multiply_by_self)"
      ],
      "execution_count": 304,
      "outputs": [
        {
          "output_type": "execute_result",
          "data": {
            "text/plain": [
              "country\n",
              "Albania              40000.0\n",
              "Algeria                400.0\n",
              "Andorra                841.0\n",
              "Angola                2025.0\n",
              "Antigua & Barbuda     2025.0\n",
              "                      ...   \n",
              "Venezuela                9.0\n",
              "Vietnam                  1.0\n",
              "Zambia                  16.0\n",
              "Zimbabwe                16.0\n",
              "Afghanistan            400.0\n",
              "Name: wine_servings, Length: 163, dtype: float64"
            ]
          },
          "metadata": {},
          "execution_count": 304
        }
      ]
    },
    {
      "cell_type": "code",
      "metadata": {
        "id": "q29zJqCFRHUp"
      },
      "source": [
        "def multiply_by_self_with_min(x, min_servings):\n",
        "  if x < min_servings:\n",
        "    return x**2\n",
        "  \n",
        "  return x"
      ],
      "execution_count": 305,
      "outputs": []
    },
    {
      "cell_type": "code",
      "metadata": {
        "id": "MS6znEVjRZPC"
      },
      "source": [
        "# alcohol.map(multiply_by_self_with_min, args=(200,))"
      ],
      "execution_count": 306,
      "outputs": []
    },
    {
      "cell_type": "code",
      "metadata": {
        "id": "z3Z2mNUPRntf",
        "colab": {
          "base_uri": "https://localhost:8080/"
        },
        "outputId": "501540e7-d2ab-47fc-e571-0da7aa604e15"
      },
      "source": [
        "alcohol.head()"
      ],
      "execution_count": 307,
      "outputs": [
        {
          "output_type": "execute_result",
          "data": {
            "text/plain": [
              "country\n",
              "Albania              200.0\n",
              "Algeria               20.0\n",
              "Andorra               29.0\n",
              "Angola                45.0\n",
              "Antigua & Barbuda     45.0\n",
              "Name: wine_servings, dtype: float64"
            ]
          },
          "metadata": {},
          "execution_count": 307
        }
      ]
    },
    {
      "cell_type": "code",
      "metadata": {
        "id": "RE1deuX0RwkA",
        "colab": {
          "base_uri": "https://localhost:8080/"
        },
        "outputId": "2425e594-ffdb-44da-d290-ddfb24efca21"
      },
      "source": [
        "alcohol.apply(multiply_by_self_with_min, min_servings=200)"
      ],
      "execution_count": 308,
      "outputs": [
        {
          "output_type": "execute_result",
          "data": {
            "text/plain": [
              "country\n",
              "Albania               200.0\n",
              "Algeria               400.0\n",
              "Andorra               841.0\n",
              "Angola               2025.0\n",
              "Antigua & Barbuda    2025.0\n",
              "                      ...  \n",
              "Venezuela               9.0\n",
              "Vietnam                 1.0\n",
              "Zambia                 16.0\n",
              "Zimbabwe               16.0\n",
              "Afghanistan           400.0\n",
              "Name: wine_servings, Length: 163, dtype: float64"
            ]
          },
          "metadata": {},
          "execution_count": 308
        }
      ]
    },
    {
      "cell_type": "code",
      "metadata": {
        "id": "X3asqE1MR7Bg"
      },
      "source": [
        "# the map() method"
      ],
      "execution_count": 309,
      "outputs": []
    },
    {
      "cell_type": "markdown",
      "metadata": {
        "id": "oaF6Po0BSFZC"
      },
      "source": [
        "#### Skill Challenge"
      ]
    },
    {
      "cell_type": "markdown",
      "metadata": {
        "id": "refA1MvUTwe7"
      },
      "source": [
        "###### **1**."
      ]
    },
    {
      "cell_type": "markdown",
      "metadata": {
        "id": "EpHodqlbUHY7"
      },
      "source": [
        "Read the drinks.csv dataset again, this time bringing in the beer_servings sequence into a new <ins>series</ins> with country again acting as the index. Assign this series to the variable *beers*.\n",
        "\n",
        "Link to data: https://andybek.com/pandas-drinks"
      ]
    },
    {
      "cell_type": "markdown",
      "metadata": {
        "id": "qbmXh2s6UXIN"
      },
      "source": [
        "###### **2**."
      ]
    },
    {
      "cell_type": "markdown",
      "metadata": {
        "id": "zmjUXaWUUYK5"
      },
      "source": [
        "Calculate the mean, median, and standard deviation of beer servings in *beers*. Is the distribution right or left skewed?"
      ]
    },
    {
      "cell_type": "markdown",
      "metadata": {
        "id": "TZvXofChUfx2"
      },
      "source": [
        "###### **3**."
      ]
    },
    {
      "cell_type": "markdown",
      "metadata": {
        "id": "f59VEKXEUkvB"
      },
      "source": [
        "Slice the first 10 countriees from *beers*. Are these relatively large or small relative to the rest of the sample?\n",
        "\n",
        "**BONUS**: To answer that, we could compare each value to the mean or median. An even\n",
        "better approach would be to calculate standard scores, or z-scores as they \n",
        "are known."
      ]
    },
    {
      "cell_type": "markdown",
      "metadata": {
        "id": "4iU0I60bU801"
      },
      "source": [
        "###### **BONUS 4**."
      ]
    },
    {
      "cell_type": "markdown",
      "metadata": {
        "id": "w6v8f2pAU9sf"
      },
      "source": [
        "Create a new series that uses series arithmetics to calculate the z-score \n",
        "for each serving by subtracting from each the mean and dividing the difference\n",
        "by the standard deviation. Point the variable *z_scores* to this series.\n",
        "\n",
        "Which country has the largest absolute z-score? Is this a positive or negative deviation? "
      ]
    },
    {
      "cell_type": "markdown",
      "metadata": {
        "id": "gGsrVgjsY0Eu"
      },
      "source": [
        "#### Solution I - Reading Data"
      ]
    },
    {
      "cell_type": "code",
      "metadata": {
        "id": "stXDNvDRZKZP"
      },
      "source": [
        "data_url = 'https://andybek.com/pandas-drinks'"
      ],
      "execution_count": 310,
      "outputs": []
    },
    {
      "cell_type": "code",
      "metadata": {
        "id": "2p-Uqq-OZSTs"
      },
      "source": [
        "beers = pd.read_csv(data_url, usecols=['country', 'beer_servings'], index_col='country', squeeze=True)"
      ],
      "execution_count": 311,
      "outputs": []
    },
    {
      "cell_type": "code",
      "metadata": {
        "id": "AioCI9FwZXP3",
        "colab": {
          "base_uri": "https://localhost:8080/"
        },
        "outputId": "fabbaa56-80e7-4040-8932-fcab3a13d4af"
      },
      "source": [
        "beers.head()"
      ],
      "execution_count": 312,
      "outputs": [
        {
          "output_type": "execute_result",
          "data": {
            "text/plain": [
              "country\n",
              "Afghanistan      NaN\n",
              "Albania         89.0\n",
              "Algeria         25.0\n",
              "Andorra        245.0\n",
              "Angola         217.0\n",
              "Name: beer_servings, dtype: float64"
            ]
          },
          "metadata": {},
          "execution_count": 312
        }
      ]
    },
    {
      "cell_type": "code",
      "metadata": {
        "id": "k1FIBEm7ZYD4",
        "colab": {
          "base_uri": "https://localhost:8080/"
        },
        "outputId": "b836b4be-be3e-4c5d-9371-e80e3aff4f5e"
      },
      "source": [
        "type(beers)"
      ],
      "execution_count": 313,
      "outputs": [
        {
          "output_type": "execute_result",
          "data": {
            "text/plain": [
              "pandas.core.series.Series"
            ]
          },
          "metadata": {},
          "execution_count": 313
        }
      ]
    },
    {
      "cell_type": "markdown",
      "metadata": {
        "id": "5D0_SV7fZjOh"
      },
      "source": [
        "#### Solution II - Mean, Median, And Standard Deviation"
      ]
    },
    {
      "cell_type": "code",
      "metadata": {
        "id": "9w8HnMCUGr1o",
        "colab": {
          "base_uri": "https://localhost:8080/"
        },
        "outputId": "1d6d9579-f26f-4f4f-c76c-2f53d5dab383"
      },
      "source": [
        "beers.mean()"
      ],
      "execution_count": 314,
      "outputs": [
        {
          "output_type": "execute_result",
          "data": {
            "text/plain": [
              "102.87078651685393"
            ]
          },
          "metadata": {},
          "execution_count": 314
        }
      ]
    },
    {
      "cell_type": "code",
      "metadata": {
        "id": "0rl2D3rFG8DA",
        "colab": {
          "base_uri": "https://localhost:8080/"
        },
        "outputId": "c3c836cb-bc94-474d-e6b5-c608d5a61854"
      },
      "source": [
        "beers.median()"
      ],
      "execution_count": 315,
      "outputs": [
        {
          "output_type": "execute_result",
          "data": {
            "text/plain": [
              "60.0"
            ]
          },
          "metadata": {},
          "execution_count": 315
        }
      ]
    },
    {
      "cell_type": "code",
      "metadata": {
        "id": "4i-rAEgwG-79",
        "colab": {
          "base_uri": "https://localhost:8080/"
        },
        "outputId": "042b83d4-fb5e-45ce-eb99-ac4ff5359465"
      },
      "source": [
        "beers.quantile(.5)"
      ],
      "execution_count": 316,
      "outputs": [
        {
          "output_type": "execute_result",
          "data": {
            "text/plain": [
              "60.0"
            ]
          },
          "metadata": {},
          "execution_count": 316
        }
      ]
    },
    {
      "cell_type": "code",
      "metadata": {
        "id": "ep3Qkfd_HByJ",
        "colab": {
          "base_uri": "https://localhost:8080/"
        },
        "outputId": "7b748b82-f1ec-4ec4-8401-034acb3b0df8"
      },
      "source": [
        "beers.std()"
      ],
      "execution_count": 317,
      "outputs": [
        {
          "output_type": "execute_result",
          "data": {
            "text/plain": [
              "100.64571267934778"
            ]
          },
          "metadata": {},
          "execution_count": 317
        }
      ]
    },
    {
      "cell_type": "code",
      "metadata": {
        "id": "gaA8GhnMHFFX",
        "colab": {
          "base_uri": "https://localhost:8080/"
        },
        "outputId": "724396a4-2203-4866-d4b5-8a5f14be2e51"
      },
      "source": [
        "beers.var()**(1/2)"
      ],
      "execution_count": 318,
      "outputs": [
        {
          "output_type": "execute_result",
          "data": {
            "text/plain": [
              "100.64571267934778"
            ]
          },
          "metadata": {},
          "execution_count": 318
        }
      ]
    },
    {
      "cell_type": "code",
      "metadata": {
        "id": "Wj41-8ixHIko",
        "colab": {
          "base_uri": "https://localhost:8080/"
        },
        "outputId": "f44a9534-f07c-4cf1-d93e-86f71c193568"
      },
      "source": [
        "np.sqrt(beers.var())"
      ],
      "execution_count": 319,
      "outputs": [
        {
          "output_type": "execute_result",
          "data": {
            "text/plain": [
              "100.64571267934778"
            ]
          },
          "metadata": {},
          "execution_count": 319
        }
      ]
    },
    {
      "cell_type": "code",
      "metadata": {
        "id": "DhMgDQnEHKbu",
        "colab": {
          "base_uri": "https://localhost:8080/",
          "height": 265
        },
        "outputId": "e876ab5a-ef56-4aeb-c131-0e68d4f95011"
      },
      "source": [
        "beers.hist();"
      ],
      "execution_count": 320,
      "outputs": [
        {
          "output_type": "display_data",
          "data": {
            "image/png": "[encoded data removed]",
            "text/plain": [
              "<Figure size 432x288 with 1 Axes>"
            ]
          },
          "metadata": {
            "needs_background": "light"
          }
        }
      ]
    },
    {
      "cell_type": "code",
      "metadata": {
        "id": "-bRk_YrVHek_",
        "colab": {
          "base_uri": "https://localhost:8080/"
        },
        "outputId": "0ba979ed-92c4-462f-8748-68893d8331ab"
      },
      "source": [
        "beers.describe()"
      ],
      "execution_count": 321,
      "outputs": [
        {
          "output_type": "execute_result",
          "data": {
            "text/plain": [
              "count    178.000000\n",
              "mean     102.870787\n",
              "std      100.645713\n",
              "min        1.000000\n",
              "25%       21.000000\n",
              "50%       60.000000\n",
              "75%      172.500000\n",
              "max      376.000000\n",
              "Name: beer_servings, dtype: float64"
            ]
          },
          "metadata": {},
          "execution_count": 321
        }
      ]
    },
    {
      "cell_type": "markdown",
      "metadata": {
        "id": "lxbhzx5vHmQH"
      },
      "source": [
        "#### Solution III - Z-scores"
      ]
    },
    {
      "cell_type": "code",
      "metadata": {
        "id": "RgMwbC4lTwEh",
        "colab": {
          "base_uri": "https://localhost:8080/"
        },
        "outputId": "09d25874-74f5-4681-87b2-4a6e43881fb7"
      },
      "source": [
        "beers[:10]"
      ],
      "execution_count": 322,
      "outputs": [
        {
          "output_type": "execute_result",
          "data": {
            "text/plain": [
              "country\n",
              "Afghanistan            NaN\n",
              "Albania               89.0\n",
              "Algeria               25.0\n",
              "Andorra              245.0\n",
              "Angola               217.0\n",
              "Antigua & Barbuda     12.0\n",
              "Argentina            193.0\n",
              "Armenia               21.0\n",
              "Australia            261.0\n",
              "Austria              279.0\n",
              "Name: beer_servings, dtype: float64"
            ]
          },
          "metadata": {},
          "execution_count": 322
        }
      ]
    },
    {
      "cell_type": "code",
      "metadata": {
        "id": "0d5pGKrFT_no"
      },
      "source": [
        "# beers.head(10)"
      ],
      "execution_count": 323,
      "outputs": []
    },
    {
      "cell_type": "code",
      "metadata": {
        "id": "zkBULHXCUBL3",
        "colab": {
          "base_uri": "https://localhost:8080/"
        },
        "outputId": "70ddc927-f56b-4769-fcdc-e14f8536e4b5"
      },
      "source": [
        "beers.mean()"
      ],
      "execution_count": 324,
      "outputs": [
        {
          "output_type": "execute_result",
          "data": {
            "text/plain": [
              "102.87078651685393"
            ]
          },
          "metadata": {},
          "execution_count": 324
        }
      ]
    },
    {
      "cell_type": "code",
      "metadata": {
        "id": "RcY-l0-YUGWv",
        "colab": {
          "base_uri": "https://localhost:8080/"
        },
        "outputId": "e6f55583-38ce-4514-e37c-f214a5b78df4"
      },
      "source": [
        "beers[:10] - beers.mean()"
      ],
      "execution_count": 325,
      "outputs": [
        {
          "output_type": "execute_result",
          "data": {
            "text/plain": [
              "country\n",
              "Afghanistan                 NaN\n",
              "Albania              -13.870787\n",
              "Algeria              -77.870787\n",
              "Andorra              142.129213\n",
              "Angola               114.129213\n",
              "Antigua & Barbuda    -90.870787\n",
              "Argentina             90.129213\n",
              "Armenia              -81.870787\n",
              "Australia            158.129213\n",
              "Austria              176.129213\n",
              "Name: beer_servings, dtype: float64"
            ]
          },
          "metadata": {},
          "execution_count": 325
        }
      ]
    },
    {
      "cell_type": "code",
      "metadata": {
        "id": "32wLmea9UQnE",
        "colab": {
          "base_uri": "https://localhost:8080/"
        },
        "outputId": "650d1bff-4a20-490c-cb71-bc567a2d0b32"
      },
      "source": [
        "(beers[:10] - beers.mean()).apply(lambda x: 'low' if x<0 else 'high')"
      ],
      "execution_count": 326,
      "outputs": [
        {
          "output_type": "execute_result",
          "data": {
            "text/plain": [
              "country\n",
              "Afghanistan          high\n",
              "Albania               low\n",
              "Algeria               low\n",
              "Andorra              high\n",
              "Angola               high\n",
              "Antigua & Barbuda     low\n",
              "Argentina            high\n",
              "Armenia               low\n",
              "Australia            high\n",
              "Austria              high\n",
              "Name: beer_servings, dtype: object"
            ]
          },
          "metadata": {},
          "execution_count": 326
        }
      ]
    },
    {
      "cell_type": "code",
      "metadata": {
        "id": "GpgzSr25UacH",
        "colab": {
          "base_uri": "https://localhost:8080/"
        },
        "outputId": "8440d85d-0384-4cf3-c51a-30f786a3047e"
      },
      "source": [
        "(beers - beers.mean()).apply(lambda x: 'low' if x<0 else 'high').value_counts()"
      ],
      "execution_count": 327,
      "outputs": [
        {
          "output_type": "execute_result",
          "data": {
            "text/plain": [
              "low     112\n",
              "high     81\n",
              "Name: beer_servings, dtype: int64"
            ]
          },
          "metadata": {},
          "execution_count": 327
        }
      ]
    },
    {
      "cell_type": "code",
      "metadata": {
        "id": "xmQTJ2lqUd-4"
      },
      "source": [
        "z_scores = (beers - beers.mean())/beers.std()"
      ],
      "execution_count": 328,
      "outputs": []
    },
    {
      "cell_type": "code",
      "metadata": {
        "id": "b8qWxr9vVCRB",
        "colab": {
          "base_uri": "https://localhost:8080/"
        },
        "outputId": "2bc97e2e-487d-4ca0-e3a7-ffe9b8c2e101"
      },
      "source": [
        "z_scores.head(10)"
      ],
      "execution_count": 329,
      "outputs": [
        {
          "output_type": "execute_result",
          "data": {
            "text/plain": [
              "country\n",
              "Afghanistan               NaN\n",
              "Albania             -0.137818\n",
              "Algeria             -0.773712\n",
              "Andorra              1.412174\n",
              "Angola               1.133970\n",
              "Antigua & Barbuda   -0.902878\n",
              "Argentina            0.895510\n",
              "Armenia             -0.813455\n",
              "Australia            1.571147\n",
              "Austria              1.749992\n",
              "Name: beer_servings, dtype: float64"
            ]
          },
          "metadata": {},
          "execution_count": 329
        }
      ]
    },
    {
      "cell_type": "code",
      "metadata": {
        "id": "8yc0wD6KVDLK",
        "colab": {
          "base_uri": "https://localhost:8080/"
        },
        "outputId": "ee969a09-365c-48ab-91cd-d088c05be622"
      },
      "source": [
        "z_scores.min()"
      ],
      "execution_count": 330,
      "outputs": [
        {
          "output_type": "execute_result",
          "data": {
            "text/plain": [
              "-1.012172141315241"
            ]
          },
          "metadata": {},
          "execution_count": 330
        }
      ]
    },
    {
      "cell_type": "code",
      "metadata": {
        "id": "5jSwr6UzVODP",
        "colab": {
          "base_uri": "https://localhost:8080/"
        },
        "outputId": "c23c2342-44e9-4c00-abe2-68776a712601"
      },
      "source": [
        "z_scores.max()"
      ],
      "execution_count": 331,
      "outputs": [
        {
          "output_type": "execute_result",
          "data": {
            "text/plain": [
              "2.7137689844109123"
            ]
          },
          "metadata": {},
          "execution_count": 331
        }
      ]
    },
    {
      "cell_type": "code",
      "metadata": {
        "id": "56x7QxK3VPFC",
        "colab": {
          "base_uri": "https://localhost:8080/"
        },
        "outputId": "675df8d4-db3b-4bd8-882b-c647797e9700"
      },
      "source": [
        "z_scores.abs().max()"
      ],
      "execution_count": 332,
      "outputs": [
        {
          "output_type": "execute_result",
          "data": {
            "text/plain": [
              "2.7137689844109123"
            ]
          },
          "metadata": {},
          "execution_count": 332
        }
      ]
    },
    {
      "cell_type": "code",
      "metadata": {
        "id": "7mAnyOVPVT5P",
        "colab": {
          "base_uri": "https://localhost:8080/",
          "height": 35
        },
        "outputId": "ce3de23c-ed7a-4bbc-9584-deb7f48eea1a"
      },
      "source": [
        "beers.idxmax()"
      ],
      "execution_count": 333,
      "outputs": [
        {
          "output_type": "execute_result",
          "data": {
            "application/vnd.google.colaboratory.intrinsic+json": {
              "type": "string"
            },
            "text/plain": [
              "'Namibia'"
            ]
          },
          "metadata": {},
          "execution_count": 333
        }
      ]
    },
    {
      "cell_type": "code",
      "metadata": {
        "id": "pSrx04M9VZzo",
        "colab": {
          "base_uri": "https://localhost:8080/"
        },
        "outputId": "025fe7be-eb65-42fd-daac-3b0111c159a0"
      },
      "source": [
        "beers['Namibia']"
      ],
      "execution_count": 334,
      "outputs": [
        {
          "output_type": "execute_result",
          "data": {
            "text/plain": [
              "376.0"
            ]
          },
          "metadata": {},
          "execution_count": 334
        }
      ]
    },
    {
      "cell_type": "code",
      "metadata": {
        "id": "JziYD8QMVcUo",
        "colab": {
          "base_uri": "https://localhost:8080/"
        },
        "outputId": "edda7a92-64ef-4f6d-b367-4c7a89935b86"
      },
      "source": [
        "beers[beers.idxmax()]"
      ],
      "execution_count": 335,
      "outputs": [
        {
          "output_type": "execute_result",
          "data": {
            "text/plain": [
              "376.0"
            ]
          },
          "metadata": {},
          "execution_count": 335
        }
      ]
    },
    {
      "cell_type": "code",
      "metadata": {
        "id": "CfRX8QbTVdmD",
        "colab": {
          "base_uri": "https://localhost:8080/"
        },
        "outputId": "d91c0e25-28bf-4d19-b5c4-68647a65a54c"
      },
      "source": [
        "z_scores.abs().max() * beers.std() + beers.mean()"
      ],
      "execution_count": 336,
      "outputs": [
        {
          "output_type": "execute_result",
          "data": {
            "text/plain": [
              "376.0"
            ]
          },
          "metadata": {},
          "execution_count": 336
        }
      ]
    },
    {
      "cell_type": "code",
      "metadata": {
        "id": "nQwWK_oVVsw-"
      },
      "source": [
        ""
      ],
      "execution_count": 336,
      "outputs": []
    }
  ]
}