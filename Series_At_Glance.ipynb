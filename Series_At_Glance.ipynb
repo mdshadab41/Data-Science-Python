{
  "nbformat": 4,
  "nbformat_minor": 0,
  "metadata": {
    "colab": {
      "name": "Series_At_Glance.ipynb",
      "provenance": [],
      "collapsed_sections": [
        "_WVSsLJEF1dV",
        "3AXiSy2PKQd2",
        "iXC88l2yO5Zl",
        "V4z_J-M0k4by",
        "-rVVwTge7tJz",
        "MKLzw1tmbViH",
        "BYlOokJ3jCo3",
        "BlOUMfCf7Koy",
        "70E0Wx7u9uAt",
        "CmRePQv297-Y",
        "8LWeEH3D9-wQ",
        "QCKbOWa5-AZu",
        "IdMoLAs9Bx1_",
        "jgwo17dUDawR",
        "aNv9ZDu-_dy8",
        "lJnjUgvzDI2d",
        "ScqN2Xu2JW-1",
        "0G0aK8S1Tu2_",
        "FDiYVGdvB6CL",
        "tV2cSV8jGqHf",
        "OqBI-N68X6Py",
        "zYdv1N9wejLJ",
        "8tu-WbXyvpCE",
        "Od4oEfYCwf_C",
        "DSpK0iUZ0eA4",
        "AFkrf6aL0c_u",
        "kI7G1uVJwiB1",
        "-Cp2PSUkIRFB",
        "gKAVJTZhIZpF",
        "O6-czpTKKf4r"
      ]
    },
    "kernelspec": {
      "name": "python3",
      "display_name": "Python 3"
    }
  },
  "cells": [
    {
      "cell_type": "code",
      "metadata": {
        "id": "42muvbO2o0em"
      },
      "source": [
        "import pandas as pd"
      ],
      "execution_count": 5,
      "outputs": []
    },
    {
      "cell_type": "code",
      "metadata": {
        "id": "FjXr5i9xAUfY",
        "colab": {
          "base_uri": "https://localhost:8080/"
        },
        "outputId": "4077bd29-7709-4d78-ada1-a6d76a9fbfdd"
      },
      "source": [
        "# pip install pandas --upgrade"
      ],
      "execution_count": 1,
      "outputs": [
        {
          "output_type": "stream",
          "name": "stdout",
          "text": [
            "Requirement already satisfied: pandas in /usr/local/lib/python3.7/dist-packages (1.3.5)\n",
            "Requirement already satisfied: python-dateutil>=2.7.3 in /usr/local/lib/python3.7/dist-packages (from pandas) (2.8.2)\n",
            "Requirement already satisfied: numpy>=1.17.3 in /usr/local/lib/python3.7/dist-packages (from pandas) (1.19.5)\n",
            "Requirement already satisfied: pytz>=2017.3 in /usr/local/lib/python3.7/dist-packages (from pandas) (2018.9)\n",
            "Requirement already satisfied: six>=1.5 in /usr/local/lib/python3.7/dist-packages (from python-dateutil>=2.7.3->pandas) (1.15.0)\n"
          ]
        }
      ]
    },
    {
      "cell_type": "code",
      "metadata": {
        "id": "vF4Qshvq_QDY",
        "outputId": "97faf8d2-d825-4187-fe15-cb295692688b",
        "colab": {
          "base_uri": "https://localhost:8080/",
          "height": 34
        }
      },
      "source": [
        "pd.__version__"
      ],
      "execution_count": null,
      "outputs": [
        {
          "output_type": "execute_result",
          "data": {
            "text/plain": [
              "'1.0.1'"
            ]
          },
          "metadata": {
            "tags": []
          },
          "execution_count": 3
        }
      ]
    },
    {
      "cell_type": "markdown",
      "metadata": {
        "id": "_WVSsLJEF1dV"
      },
      "source": [
        "#### What Is A Series?"
      ]
    },
    {
      "cell_type": "code",
      "metadata": {
        "id": "VP_gPfciJNYx"
      },
      "source": [
        "students = ['Andrew', 'Brie', 'Kanika']"
      ],
      "execution_count": 2,
      "outputs": []
    },
    {
      "cell_type": "code",
      "metadata": {
        "id": "3vgkHX8sJsQy",
        "outputId": "6af24ce3-2436-42f6-a9d1-b452e92b48c2",
        "colab": {
          "base_uri": "https://localhost:8080/"
        }
      },
      "source": [
        "type(students)"
      ],
      "execution_count": 3,
      "outputs": [
        {
          "output_type": "execute_result",
          "data": {
            "text/plain": [
              "list"
            ]
          },
          "metadata": {},
          "execution_count": 3
        }
      ]
    },
    {
      "cell_type": "code",
      "metadata": {
        "id": "DwOoYINZJt15",
        "outputId": "a88d741b-72dd-448d-c837-ad685351024e",
        "colab": {
          "base_uri": "https://localhost:8080/"
        }
      },
      "source": [
        "pd.Series(students)"
      ],
      "execution_count": 6,
      "outputs": [
        {
          "output_type": "execute_result",
          "data": {
            "text/plain": [
              "0    Andrew\n",
              "1      Brie\n",
              "2    Kanika\n",
              "dtype: object"
            ]
          },
          "metadata": {},
          "execution_count": 6
        }
      ]
    },
    {
      "cell_type": "code",
      "metadata": {
        "id": "qt0HuwZxJxiF"
      },
      "source": [
        "ages = [27, 49, 37]"
      ],
      "execution_count": 7,
      "outputs": []
    },
    {
      "cell_type": "code",
      "metadata": {
        "id": "1cqmFPrsJ4ZX",
        "outputId": "fce8c1b4-38d4-4de2-e67e-d44c40a615a8",
        "colab": {
          "base_uri": "https://localhost:8080/"
        }
      },
      "source": [
        "pd.Series(ages)"
      ],
      "execution_count": 8,
      "outputs": [
        {
          "output_type": "execute_result",
          "data": {
            "text/plain": [
              "0    27\n",
              "1    49\n",
              "2    37\n",
              "dtype: int64"
            ]
          },
          "metadata": {},
          "execution_count": 8
        }
      ]
    },
    {
      "cell_type": "code",
      "metadata": {
        "id": "hzTOsHMqJ5Pk"
      },
      "source": [
        "heights = [167.4, 173.2, 190.0]"
      ],
      "execution_count": 9,
      "outputs": []
    },
    {
      "cell_type": "code",
      "metadata": {
        "id": "T40MxgcZJ91_",
        "outputId": "82387f5d-bba8-4cf4-d682-6933094794de",
        "colab": {
          "base_uri": "https://localhost:8080/"
        }
      },
      "source": [
        "pd.Series(heights)"
      ],
      "execution_count": 10,
      "outputs": [
        {
          "output_type": "execute_result",
          "data": {
            "text/plain": [
              "0    167.4\n",
              "1    173.2\n",
              "2    190.0\n",
              "dtype: float64"
            ]
          },
          "metadata": {},
          "execution_count": 10
        }
      ]
    },
    {
      "cell_type": "code",
      "metadata": {
        "id": "-OuS4qPXJ-ox"
      },
      "source": [
        "mixed = [True, 'say', {'my_mood': 100}]"
      ],
      "execution_count": 11,
      "outputs": []
    },
    {
      "cell_type": "code",
      "metadata": {
        "id": "5kod9PAsKPUF",
        "outputId": "fb4e8a1e-b402-4574-b278-3f7cfb6e8ec7",
        "colab": {
          "base_uri": "https://localhost:8080/"
        }
      },
      "source": [
        "pd.Series(mixed)"
      ],
      "execution_count": 12,
      "outputs": [
        {
          "output_type": "execute_result",
          "data": {
            "text/plain": [
              "0                True\n",
              "1                 say\n",
              "2    {'my_mood': 100}\n",
              "dtype: object"
            ]
          },
          "metadata": {},
          "execution_count": 12
        }
      ]
    },
    {
      "cell_type": "markdown",
      "metadata": {
        "id": "3AXiSy2PKQd2"
      },
      "source": [
        "#### Parameters Vs. Arguments"
      ]
    },
    {
      "cell_type": "code",
      "metadata": {
        "id": "JfG7sECHOPLD",
        "outputId": "f986a7c8-2223-4861-eaa9-e9d808be8dd0",
        "colab": {
          "base_uri": "https://localhost:8080/"
        }
      },
      "source": [
        "pd.Series(students)"
      ],
      "execution_count": 13,
      "outputs": [
        {
          "output_type": "execute_result",
          "data": {
            "text/plain": [
              "0    Andrew\n",
              "1      Brie\n",
              "2    Kanika\n",
              "dtype: object"
            ]
          },
          "metadata": {},
          "execution_count": 13
        }
      ]
    },
    {
      "cell_type": "code",
      "metadata": {
        "id": "dHnAXDDxOeMx",
        "outputId": "6ea7dbdf-1ca4-4a4b-d786-d343ab08e4ed",
        "colab": {
          "base_uri": "https://localhost:8080/"
        }
      },
      "source": [
        "pd.Series(data=students)"
      ],
      "execution_count": 14,
      "outputs": [
        {
          "output_type": "execute_result",
          "data": {
            "text/plain": [
              "0    Andrew\n",
              "1      Brie\n",
              "2    Kanika\n",
              "dtype: object"
            ]
          },
          "metadata": {},
          "execution_count": 14
        }
      ]
    },
    {
      "cell_type": "code",
      "metadata": {
        "id": "B5EPW3eFOish"
      },
      "source": [
        "# python and general programming terminology"
      ],
      "execution_count": null,
      "outputs": []
    },
    {
      "cell_type": "code",
      "metadata": {
        "id": "DKZ8S0xDOzD5"
      },
      "source": [
        "def greeting(something):\n",
        "  print(something)"
      ],
      "execution_count": 15,
      "outputs": []
    },
    {
      "cell_type": "code",
      "metadata": {
        "id": "-EJl6GHOO2Vu",
        "outputId": "dcdb00f9-4219-46b0-c07d-46ae3aa4b82e",
        "colab": {
          "base_uri": "https://localhost:8080/"
        }
      },
      "source": [
        "greeting('good morning to you')"
      ],
      "execution_count": 16,
      "outputs": [
        {
          "output_type": "stream",
          "name": "stdout",
          "text": [
            "good morning to you\n"
          ]
        }
      ]
    },
    {
      "cell_type": "markdown",
      "metadata": {
        "id": "iXC88l2yO5Zl"
      },
      "source": [
        "#### What's In The Data"
      ]
    },
    {
      "cell_type": "code",
      "metadata": {
        "id": "1EOmI3gWjZHD"
      },
      "source": [
        "books_list = ['Fooled by Randomness', 'Sapiens', 'Lenin on the Train']"
      ],
      "execution_count": 17,
      "outputs": []
    },
    {
      "cell_type": "code",
      "metadata": {
        "id": "IvkXARODkAcP"
      },
      "source": [
        "list_s = pd.Series(books_list)"
      ],
      "execution_count": 18,
      "outputs": []
    },
    {
      "cell_type": "code",
      "metadata": {
        "id": "8HU_H3HWkDIX"
      },
      "source": [
        "books_dict = {0:'Fooled by Randomness', 1:'Sapiens', 2:'Lenin on the Train'}"
      ],
      "execution_count": 19,
      "outputs": []
    },
    {
      "cell_type": "code",
      "metadata": {
        "id": "1v5M_OCrkNX4"
      },
      "source": [
        "dict_s = pd.Series(books_dict)"
      ],
      "execution_count": 20,
      "outputs": []
    },
    {
      "cell_type": "code",
      "metadata": {
        "id": "-25XeNH3kbOH",
        "outputId": "13f04fa5-0622-401a-aa5f-49cbbe8f3439",
        "colab": {
          "base_uri": "https://localhost:8080/"
        }
      },
      "source": [
        "list_s.equals(dict_s)"
      ],
      "execution_count": 21,
      "outputs": [
        {
          "output_type": "execute_result",
          "data": {
            "text/plain": [
              "True"
            ]
          },
          "metadata": {},
          "execution_count": 21
        }
      ]
    },
    {
      "cell_type": "code",
      "metadata": {
        "id": "U1hNdx3oknul",
        "outputId": "de86dc29-52f3-4cbe-982f-d36784a0d97b",
        "colab": {
          "base_uri": "https://localhost:8080/"
        }
      },
      "source": [
        "pd.Series(714)"
      ],
      "execution_count": 22,
      "outputs": [
        {
          "output_type": "execute_result",
          "data": {
            "text/plain": [
              "0    714\n",
              "dtype: int64"
            ]
          },
          "metadata": {},
          "execution_count": 22
        }
      ]
    },
    {
      "cell_type": "code",
      "metadata": {
        "id": "KJtr09yDk3Bs",
        "outputId": "3a8531ac-4330-4f64-f1a5-efb37d92bd18",
        "colab": {
          "base_uri": "https://localhost:8080/"
        }
      },
      "source": [
        "pd.Series('Andy')"
      ],
      "execution_count": 23,
      "outputs": [
        {
          "output_type": "execute_result",
          "data": {
            "text/plain": [
              "0    Andy\n",
              "dtype: object"
            ]
          },
          "metadata": {},
          "execution_count": 23
        }
      ]
    },
    {
      "cell_type": "markdown",
      "metadata": {
        "id": "V4z_J-M0k4by"
      },
      "source": [
        "#### The .dtype Attribute"
      ]
    },
    {
      "cell_type": "code",
      "metadata": {
        "id": "H5Q2_4ho691W",
        "outputId": "a9f157c2-82a3-4ab1-d71e-e9049abfc644",
        "colab": {
          "base_uri": "https://localhost:8080/"
        }
      },
      "source": [
        "ages"
      ],
      "execution_count": 24,
      "outputs": [
        {
          "output_type": "execute_result",
          "data": {
            "text/plain": [
              "[27, 49, 37]"
            ]
          },
          "metadata": {},
          "execution_count": 24
        }
      ]
    },
    {
      "cell_type": "code",
      "metadata": {
        "id": "OuYKqiWC7aBo",
        "outputId": "d26463a2-51fb-48ac-b76c-27ed902a5f55",
        "colab": {
          "base_uri": "https://localhost:8080/"
        }
      },
      "source": [
        "pd.Series(ages)"
      ],
      "execution_count": 25,
      "outputs": [
        {
          "output_type": "execute_result",
          "data": {
            "text/plain": [
              "0    27\n",
              "1    49\n",
              "2    37\n",
              "dtype: int64"
            ]
          },
          "metadata": {},
          "execution_count": 25
        }
      ]
    },
    {
      "cell_type": "code",
      "metadata": {
        "id": "gAmFG2dH7bol",
        "outputId": "b169fbd8-1eec-4cb5-b6bc-8e54998f4e7d",
        "colab": {
          "base_uri": "https://localhost:8080/"
        }
      },
      "source": [
        "pd.Series(ages, dtype='float')"
      ],
      "execution_count": 26,
      "outputs": [
        {
          "output_type": "execute_result",
          "data": {
            "text/plain": [
              "0    27.0\n",
              "1    49.0\n",
              "2    37.0\n",
              "dtype: float64"
            ]
          },
          "metadata": {},
          "execution_count": 26
        }
      ]
    },
    {
      "cell_type": "code",
      "metadata": {
        "id": "Sh_tS8rf7faX",
        "outputId": "276a7eb2-ba2e-4fa2-f978-d4b97e768199",
        "colab": {
          "base_uri": "https://localhost:8080/"
        }
      },
      "source": [
        "students"
      ],
      "execution_count": 27,
      "outputs": [
        {
          "output_type": "execute_result",
          "data": {
            "text/plain": [
              "['Andrew', 'Brie', 'Kanika']"
            ]
          },
          "metadata": {},
          "execution_count": 27
        }
      ]
    },
    {
      "cell_type": "code",
      "metadata": {
        "id": "yu4ehYDK7ojy"
      },
      "source": [
        "names_series = pd.Series(students)"
      ],
      "execution_count": 28,
      "outputs": []
    },
    {
      "cell_type": "code",
      "metadata": {
        "id": "MhZ2ioyA7qmS",
        "outputId": "12c9a18c-b57a-4a8f-d2a9-fc5df0460074",
        "colab": {
          "base_uri": "https://localhost:8080/"
        }
      },
      "source": [
        "names_series"
      ],
      "execution_count": 29,
      "outputs": [
        {
          "output_type": "execute_result",
          "data": {
            "text/plain": [
              "0    Andrew\n",
              "1      Brie\n",
              "2    Kanika\n",
              "dtype: object"
            ]
          },
          "metadata": {},
          "execution_count": 29
        }
      ]
    },
    {
      "cell_type": "code",
      "metadata": {
        "id": "yrbYDGCP7rSZ",
        "outputId": "aaaa2d17-d1ae-42b8-f772-76f55ca99732",
        "colab": {
          "base_uri": "https://localhost:8080/"
        }
      },
      "source": [
        "names_series.dtype"
      ],
      "execution_count": 30,
      "outputs": [
        {
          "output_type": "execute_result",
          "data": {
            "text/plain": [
              "dtype('O')"
            ]
          },
          "metadata": {},
          "execution_count": 30
        }
      ]
    },
    {
      "cell_type": "markdown",
      "metadata": {
        "id": "-rVVwTge7tJz"
      },
      "source": [
        "#### BONUS - What Is dtype, Really?"
      ]
    },
    {
      "cell_type": "code",
      "metadata": {
        "id": "8lrAKEOvDWxQ"
      },
      "source": [
        "# numpy"
      ],
      "execution_count": null,
      "outputs": []
    },
    {
      "cell_type": "code",
      "metadata": {
        "id": "M1gxchoxDxsw",
        "outputId": "67ca7cad-83a6-4142-8fe0-0f2da3171f1b",
        "colab": {
          "base_uri": "https://localhost:8080/"
        }
      },
      "source": [
        "heights"
      ],
      "execution_count": 31,
      "outputs": [
        {
          "output_type": "execute_result",
          "data": {
            "text/plain": [
              "[167.4, 173.2, 190.0]"
            ]
          },
          "metadata": {},
          "execution_count": 31
        }
      ]
    },
    {
      "cell_type": "code",
      "metadata": {
        "id": "FOmJHhGuDyOq",
        "outputId": "55417b5a-c506-4aec-d9e6-1c6883cbb535",
        "colab": {
          "base_uri": "https://localhost:8080/"
        }
      },
      "source": [
        "pd.Series(heights)"
      ],
      "execution_count": 32,
      "outputs": [
        {
          "output_type": "execute_result",
          "data": {
            "text/plain": [
              "0    167.4\n",
              "1    173.2\n",
              "2    190.0\n",
              "dtype: float64"
            ]
          },
          "metadata": {},
          "execution_count": 32
        }
      ]
    },
    {
      "cell_type": "code",
      "metadata": {
        "id": "ZzONNBDNDzuY"
      },
      "source": [
        "heights2 = [167.4, '173.2', 190.0]"
      ],
      "execution_count": 33,
      "outputs": []
    },
    {
      "cell_type": "code",
      "metadata": {
        "id": "_LSrN6nSEIYC",
        "outputId": "5a216c45-8edf-4924-da30-92ffde56eebf",
        "colab": {
          "base_uri": "https://localhost:8080/"
        }
      },
      "source": [
        "pd.Series(heights2)"
      ],
      "execution_count": 34,
      "outputs": [
        {
          "output_type": "execute_result",
          "data": {
            "text/plain": [
              "0    167.4\n",
              "1    173.2\n",
              "2    190.0\n",
              "dtype: object"
            ]
          },
          "metadata": {},
          "execution_count": 34
        }
      ]
    },
    {
      "cell_type": "markdown",
      "metadata": {
        "id": "MKLzw1tmbViH"
      },
      "source": [
        "#### Index And RangeIndex"
      ]
    },
    {
      "cell_type": "code",
      "metadata": {
        "id": "5DqEuR7Ehqqs",
        "outputId": "56b55992-74a9-4674-a534-19397f165d77",
        "colab": {
          "base_uri": "https://localhost:8080/"
        }
      },
      "source": [
        "books_list"
      ],
      "execution_count": 35,
      "outputs": [
        {
          "output_type": "execute_result",
          "data": {
            "text/plain": [
              "['Fooled by Randomness', 'Sapiens', 'Lenin on the Train']"
            ]
          },
          "metadata": {},
          "execution_count": 35
        }
      ]
    },
    {
      "cell_type": "code",
      "metadata": {
        "id": "XLZTJw3yhuy0",
        "outputId": "32f0042e-13aa-4071-d9b7-f64f5e7e0ff9",
        "colab": {
          "base_uri": "https://localhost:8080/"
        }
      },
      "source": [
        "list_s"
      ],
      "execution_count": 36,
      "outputs": [
        {
          "output_type": "execute_result",
          "data": {
            "text/plain": [
              "0    Fooled by Randomness\n",
              "1                 Sapiens\n",
              "2      Lenin on the Train\n",
              "dtype: object"
            ]
          },
          "metadata": {},
          "execution_count": 36
        }
      ]
    },
    {
      "cell_type": "code",
      "metadata": {
        "id": "2mD9vGxIhve8",
        "outputId": "6dd10173-10da-4fb1-a570-f6c69ea2d165",
        "colab": {
          "base_uri": "https://localhost:8080/"
        }
      },
      "source": [
        "pd.Series(books_list,['funny', 'serious and amusing', 'kinda interesting'])"
      ],
      "execution_count": 37,
      "outputs": [
        {
          "output_type": "execute_result",
          "data": {
            "text/plain": [
              "funny                  Fooled by Randomness\n",
              "serious and amusing                 Sapiens\n",
              "kinda interesting        Lenin on the Train\n",
              "dtype: object"
            ]
          },
          "metadata": {},
          "execution_count": 37
        }
      ]
    },
    {
      "cell_type": "code",
      "metadata": {
        "id": "2pVw0SCciIDx",
        "outputId": "8ff3b32a-d94e-4baf-e6ae-cdeb22ca2a9e",
        "colab": {
          "base_uri": "https://localhost:8080/"
        }
      },
      "source": [
        "pd.Series(books_list,['funny', 'serious and amusing', 'kinda interesting'], dtype='string')"
      ],
      "execution_count": 38,
      "outputs": [
        {
          "output_type": "execute_result",
          "data": {
            "text/plain": [
              "funny                  Fooled by Randomness\n",
              "serious and amusing                 Sapiens\n",
              "kinda interesting        Lenin on the Train\n",
              "dtype: string"
            ]
          },
          "metadata": {},
          "execution_count": 38
        }
      ]
    },
    {
      "cell_type": "code",
      "metadata": {
        "id": "6ZRXXoefiVot",
        "outputId": "59c0002d-5764-4b33-dd9e-2624bb6b1e7f",
        "colab": {
          "base_uri": "https://localhost:8080/",
          "height": 35
        }
      },
      "source": [
        "pd.__version__"
      ],
      "execution_count": 39,
      "outputs": [
        {
          "output_type": "execute_result",
          "data": {
            "application/vnd.google.colaboratory.intrinsic+json": {
              "type": "string"
            },
            "text/plain": [
              "'1.3.5'"
            ]
          },
          "metadata": {},
          "execution_count": 39
        }
      ]
    },
    {
      "cell_type": "code",
      "metadata": {
        "id": "H8lNAx0liZs8"
      },
      "source": [
        "# stringdtype()"
      ],
      "execution_count": null,
      "outputs": []
    },
    {
      "cell_type": "code",
      "metadata": {
        "id": "APxb4TTkiiP6"
      },
      "source": [
        "# pd.Series(dtype='string', books_list,['funny', 'serious and amusing', 'kinda interesting'])"
      ],
      "execution_count": null,
      "outputs": []
    },
    {
      "cell_type": "code",
      "metadata": {
        "id": "jyVuYq6lil2u",
        "outputId": "806a3aac-96a7-45b6-e0d6-3204bb1ed7b0",
        "colab": {
          "base_uri": "https://localhost:8080/"
        }
      },
      "source": [
        "list_s.index"
      ],
      "execution_count": 40,
      "outputs": [
        {
          "output_type": "execute_result",
          "data": {
            "text/plain": [
              "RangeIndex(start=0, stop=3, step=1)"
            ]
          },
          "metadata": {},
          "execution_count": 40
        }
      ]
    },
    {
      "cell_type": "code",
      "metadata": {
        "id": "YOL7vYG2isNt",
        "outputId": "14724a0b-5fd6-4401-f94a-7bcdf8957884",
        "colab": {
          "base_uri": "https://localhost:8080/"
        }
      },
      "source": [
        "type(list_s.index)"
      ],
      "execution_count": 41,
      "outputs": [
        {
          "output_type": "execute_result",
          "data": {
            "text/plain": [
              "pandas.core.indexes.range.RangeIndex"
            ]
          },
          "metadata": {},
          "execution_count": 41
        }
      ]
    },
    {
      "cell_type": "code",
      "metadata": {
        "id": "owaGtLTgiuUD",
        "outputId": "ae386cee-8798-4454-e1a0-e02094687ae0",
        "colab": {
          "base_uri": "https://localhost:8080/"
        }
      },
      "source": [
        "list(pd.RangeIndex(start=4, stop=7, step=1))"
      ],
      "execution_count": 42,
      "outputs": [
        {
          "output_type": "execute_result",
          "data": {
            "text/plain": [
              "[4, 5, 6]"
            ]
          },
          "metadata": {},
          "execution_count": 42
        }
      ]
    },
    {
      "cell_type": "code",
      "metadata": {
        "id": "5kkoC6wci6xo",
        "outputId": "1b85fbd9-926c-4f8a-b073-7cd81e3d73b7",
        "colab": {
          "base_uri": "https://localhost:8080/"
        }
      },
      "source": [
        "list(pd.RangeIndex(start=10, stop=-11, step=-1))"
      ],
      "execution_count": 43,
      "outputs": [
        {
          "output_type": "execute_result",
          "data": {
            "text/plain": [
              "[10, 9, 8, 7, 6, 5, 4, 3, 2, 1, 0, -1, -2, -3, -4, -5, -6, -7, -8, -9, -10]"
            ]
          },
          "metadata": {},
          "execution_count": 43
        }
      ]
    },
    {
      "cell_type": "markdown",
      "metadata": {
        "id": "BYlOokJ3jCo3"
      },
      "source": [
        "#### Series And Index Names"
      ]
    },
    {
      "cell_type": "code",
      "metadata": {
        "id": "6rhnHd_k58NH"
      },
      "source": [
        "# books_series"
      ],
      "execution_count": null,
      "outputs": []
    },
    {
      "cell_type": "code",
      "metadata": {
        "id": "EzWXGmBM53bn",
        "outputId": "8bbc2368-af33-4372-dd2a-960ca3f6b265",
        "colab": {
          "base_uri": "https://localhost:8080/"
        }
      },
      "source": [
        "list_s"
      ],
      "execution_count": 44,
      "outputs": [
        {
          "output_type": "execute_result",
          "data": {
            "text/plain": [
              "0    Fooled by Randomness\n",
              "1                 Sapiens\n",
              "2      Lenin on the Train\n",
              "dtype: object"
            ]
          },
          "metadata": {},
          "execution_count": 44
        }
      ]
    },
    {
      "cell_type": "code",
      "metadata": {
        "id": "iIYh_d5i53PW"
      },
      "source": [
        "books_series = list_s"
      ],
      "execution_count": 45,
      "outputs": []
    },
    {
      "cell_type": "code",
      "metadata": {
        "id": "igtbR_er53Ji"
      },
      "source": [
        "# intelligble: capable of being understood"
      ],
      "execution_count": null,
      "outputs": []
    },
    {
      "cell_type": "code",
      "metadata": {
        "id": "oDXz9yKSmCX-",
        "outputId": "70b0fec4-9fec-4d6c-c9f0-f293072d58cc",
        "colab": {
          "base_uri": "https://localhost:8080/"
        }
      },
      "source": [
        "books_series"
      ],
      "execution_count": 46,
      "outputs": [
        {
          "output_type": "execute_result",
          "data": {
            "text/plain": [
              "0    Fooled by Randomness\n",
              "1                 Sapiens\n",
              "2      Lenin on the Train\n",
              "dtype: object"
            ]
          },
          "metadata": {},
          "execution_count": 46
        }
      ]
    },
    {
      "cell_type": "code",
      "metadata": {
        "id": "Yr-5UPXBmDii",
        "outputId": "f6121c78-0c7b-47d6-826e-f88c8b84921a",
        "colab": {
          "base_uri": "https://localhost:8080/"
        }
      },
      "source": [
        "books_series.size"
      ],
      "execution_count": 47,
      "outputs": [
        {
          "output_type": "execute_result",
          "data": {
            "text/plain": [
              "3"
            ]
          },
          "metadata": {},
          "execution_count": 47
        }
      ]
    },
    {
      "cell_type": "code",
      "metadata": {
        "id": "EpokcHOn6ZJs",
        "outputId": "057474ef-8223-40ed-b7ae-0391411d6cd0",
        "colab": {
          "base_uri": "https://localhost:8080/"
        }
      },
      "source": [
        "list_s.equals(dict_s)"
      ],
      "execution_count": 48,
      "outputs": [
        {
          "output_type": "execute_result",
          "data": {
            "text/plain": [
              "True"
            ]
          },
          "metadata": {},
          "execution_count": 48
        }
      ]
    },
    {
      "cell_type": "code",
      "metadata": {
        "id": "hksNNCKk6jj2",
        "outputId": "11a108b3-584f-4c16-c57f-82f762688de3",
        "colab": {
          "base_uri": "https://localhost:8080/"
        }
      },
      "source": [
        "list_s.dtype"
      ],
      "execution_count": 49,
      "outputs": [
        {
          "output_type": "execute_result",
          "data": {
            "text/plain": [
              "dtype('O')"
            ]
          },
          "metadata": {},
          "execution_count": 49
        }
      ]
    },
    {
      "cell_type": "code",
      "metadata": {
        "id": "yh3Bf7T06oKz"
      },
      "source": [
        "books_series.name"
      ],
      "execution_count": 50,
      "outputs": []
    },
    {
      "cell_type": "code",
      "metadata": {
        "id": "Z_aHq8C96t-K",
        "outputId": "ebf2d5bd-593d-4c76-8edd-5c62f4677cac",
        "colab": {
          "base_uri": "https://localhost:8080/"
        }
      },
      "source": [
        "books_series.name == None"
      ],
      "execution_count": 51,
      "outputs": [
        {
          "output_type": "execute_result",
          "data": {
            "text/plain": [
              "True"
            ]
          },
          "metadata": {},
          "execution_count": 51
        }
      ]
    },
    {
      "cell_type": "code",
      "metadata": {
        "id": "tjQyi2dz6zSn"
      },
      "source": [
        "books_series.name = 'my favorite books'"
      ],
      "execution_count": 52,
      "outputs": []
    },
    {
      "cell_type": "code",
      "metadata": {
        "id": "lk5fj09J6268",
        "outputId": "640a63b5-245e-4622-d80c-38df19239759",
        "colab": {
          "base_uri": "https://localhost:8080/"
        }
      },
      "source": [
        "books_series"
      ],
      "execution_count": 53,
      "outputs": [
        {
          "output_type": "execute_result",
          "data": {
            "text/plain": [
              "0    Fooled by Randomness\n",
              "1                 Sapiens\n",
              "2      Lenin on the Train\n",
              "Name: my favorite books, dtype: object"
            ]
          },
          "metadata": {},
          "execution_count": 53
        }
      ]
    },
    {
      "cell_type": "code",
      "metadata": {
        "id": "rkFWmkV464E1"
      },
      "source": [
        "books_series.index.name"
      ],
      "execution_count": 54,
      "outputs": []
    },
    {
      "cell_type": "code",
      "metadata": {
        "id": "drtV9Y0_7E9f",
        "outputId": "c5c12337-bc18-4504-9c74-1cd525b3e17f",
        "colab": {
          "base_uri": "https://localhost:8080/"
        }
      },
      "source": [
        "books_series.index.name == None"
      ],
      "execution_count": 55,
      "outputs": [
        {
          "output_type": "execute_result",
          "data": {
            "text/plain": [
              "True"
            ]
          },
          "metadata": {},
          "execution_count": 55
        }
      ]
    },
    {
      "cell_type": "code",
      "metadata": {
        "id": "wn2TWROa7Gog"
      },
      "source": [
        "books_series.index.name = 'My books'"
      ],
      "execution_count": 56,
      "outputs": []
    },
    {
      "cell_type": "code",
      "metadata": {
        "id": "bg4HqmJ07JzS",
        "outputId": "00886382-a74f-4fbf-db3d-63a0c4179783",
        "colab": {
          "base_uri": "https://localhost:8080/"
        }
      },
      "source": [
        "books_series"
      ],
      "execution_count": 57,
      "outputs": [
        {
          "output_type": "execute_result",
          "data": {
            "text/plain": [
              "My books\n",
              "0    Fooled by Randomness\n",
              "1                 Sapiens\n",
              "2      Lenin on the Train\n",
              "Name: my favorite books, dtype: object"
            ]
          },
          "metadata": {},
          "execution_count": 57
        }
      ]
    },
    {
      "cell_type": "markdown",
      "metadata": {
        "id": "BlOUMfCf7Koy"
      },
      "source": [
        "#### Skill Challenge"
      ]
    },
    {
      "cell_type": "markdown",
      "metadata": {
        "id": "70E0Wx7u9uAt"
      },
      "source": [
        "###### **1**."
      ]
    },
    {
      "cell_type": "markdown",
      "metadata": {
        "id": "YYzQDexU90mi"
      },
      "source": [
        "Create a python list of length 4 that contains some of your favorite actors. So this should be a list of strings. Call this list—assign it to a variable called—*actor_names*."
      ]
    },
    {
      "cell_type": "markdown",
      "metadata": {
        "id": "CmRePQv297-Y"
      },
      "source": [
        "###### **2**."
      ]
    },
    {
      "cell_type": "markdown",
      "metadata": {
        "id": "AugRCqS1-CtW"
      },
      "source": [
        "Next, create another python list of the same length that contains your guesses for how old each actor is, feel free to just use integers or floats. Call this list *actor_ages*."
      ]
    },
    {
      "cell_type": "markdown",
      "metadata": {
        "id": "8LWeEH3D9-wQ"
      },
      "source": [
        "###### **3**."
      ]
    },
    {
      "cell_type": "markdown",
      "metadata": {
        "id": "aYtG0R83-DKL"
      },
      "source": [
        "Create a series that stores actor ages and labels the ages using the actor names. To clarify, use actor name in the index and actor age as values. Give this series a name of *actors*."
      ]
    },
    {
      "cell_type": "markdown",
      "metadata": {
        "id": "QCKbOWa5-AZu"
      },
      "source": [
        "###### BONUS **4**."
      ]
    },
    {
      "cell_type": "markdown",
      "metadata": {
        "id": "tSkzpi-M-Dwb"
      },
      "source": [
        "Repeat step 3 but this time create the series from a python dictionary. As an additional challenge, try not to type the dictionary manually, but instead dynamically create it using the two lists defined in Steps 1 and 2."
      ]
    },
    {
      "cell_type": "markdown",
      "metadata": {
        "id": "IdMoLAs9Bx1_"
      },
      "source": [
        "#### Solution"
      ]
    },
    {
      "cell_type": "code",
      "metadata": {
        "id": "ar9KrnPUCOOZ"
      },
      "source": [
        "# 1\n",
        "actor_names = ['Tom Cruise', 'Meryl Streep', 'Tom Hardy', 'Amanda Seyfried']"
      ],
      "execution_count": 58,
      "outputs": []
    },
    {
      "cell_type": "code",
      "metadata": {
        "id": "SsUCXmUOCgwr"
      },
      "source": [
        "# 2\n",
        "actor_ages = [54.3, 62.1, 36.2, 33.4]"
      ],
      "execution_count": 59,
      "outputs": []
    },
    {
      "cell_type": "code",
      "metadata": {
        "id": "ey7CaFdJC0sz"
      },
      "source": [
        "# 3\n",
        "actor_series = pd.Series(data=actor_ages, index=actor_names, name='actors')"
      ],
      "execution_count": 60,
      "outputs": []
    },
    {
      "cell_type": "code",
      "metadata": {
        "id": "tDlOc62MC1rh",
        "outputId": "d7dc081c-941d-432a-90a7-119d0cfda023",
        "colab": {
          "base_uri": "https://localhost:8080/"
        }
      },
      "source": [
        "actor_series"
      ],
      "execution_count": 61,
      "outputs": [
        {
          "output_type": "execute_result",
          "data": {
            "text/plain": [
              "Tom Cruise         54.3\n",
              "Meryl Streep       62.1\n",
              "Tom Hardy          36.2\n",
              "Amanda Seyfried    33.4\n",
              "Name: actors, dtype: float64"
            ]
          },
          "metadata": {},
          "execution_count": 61
        }
      ]
    },
    {
      "cell_type": "code",
      "metadata": {
        "id": "LpEXcS0PDBKq"
      },
      "source": [
        "# 4\n",
        "actors_dict = {'Tom Cruise': 54.3, 'Meryl Streep': 62.1}"
      ],
      "execution_count": 62,
      "outputs": []
    },
    {
      "cell_type": "code",
      "metadata": {
        "id": "EzKV5Q4SDL5t",
        "outputId": "ebde800c-29ba-4c6f-f52d-f15b69ff7b73",
        "colab": {
          "base_uri": "https://localhost:8080/"
        }
      },
      "source": [
        "pd.Series(actors_dict)"
      ],
      "execution_count": 63,
      "outputs": [
        {
          "output_type": "execute_result",
          "data": {
            "text/plain": [
              "Tom Cruise      54.3\n",
              "Meryl Streep    62.1\n",
              "dtype: float64"
            ]
          },
          "metadata": {},
          "execution_count": 63
        }
      ]
    },
    {
      "cell_type": "code",
      "metadata": {
        "id": "cb76lKHeDOA5",
        "outputId": "bc63449c-6d8f-4b19-cf55-4242ae9a66fa",
        "colab": {
          "base_uri": "https://localhost:8080/"
        }
      },
      "source": [
        "list(zip(actor_names, actor_ages))"
      ],
      "execution_count": 64,
      "outputs": [
        {
          "output_type": "execute_result",
          "data": {
            "text/plain": [
              "[('Tom Cruise', 54.3),\n",
              " ('Meryl Streep', 62.1),\n",
              " ('Tom Hardy', 36.2),\n",
              " ('Amanda Seyfried', 33.4)]"
            ]
          },
          "metadata": {},
          "execution_count": 64
        }
      ]
    },
    {
      "cell_type": "code",
      "metadata": {
        "id": "HTSXTqxkDTSA",
        "outputId": "0522336b-c55d-44cb-83f3-9ad8a7ded965",
        "colab": {
          "base_uri": "https://localhost:8080/"
        }
      },
      "source": [
        "pd.Series(dict(zip(actor_names, actor_ages)))"
      ],
      "execution_count": 65,
      "outputs": [
        {
          "output_type": "execute_result",
          "data": {
            "text/plain": [
              "Tom Cruise         54.3\n",
              "Meryl Streep       62.1\n",
              "Tom Hardy          36.2\n",
              "Amanda Seyfried    33.4\n",
              "dtype: float64"
            ]
          },
          "metadata": {},
          "execution_count": 65
        }
      ]
    },
    {
      "cell_type": "markdown",
      "metadata": {
        "id": "jgwo17dUDawR"
      },
      "source": [
        "#### Another Solution"
      ]
    },
    {
      "cell_type": "code",
      "metadata": {
        "id": "-qXjvyIjG6X0",
        "outputId": "bbbeb4db-715a-4318-bfa7-14284f8a8596",
        "colab": {
          "base_uri": "https://localhost:8080/"
        }
      },
      "source": [
        "{name:age for name,age in zip(actor_names, actor_ages)}"
      ],
      "execution_count": 66,
      "outputs": [
        {
          "output_type": "execute_result",
          "data": {
            "text/plain": [
              "{'Amanda Seyfried': 33.4,\n",
              " 'Meryl Streep': 62.1,\n",
              " 'Tom Cruise': 54.3,\n",
              " 'Tom Hardy': 36.2}"
            ]
          },
          "metadata": {},
          "execution_count": 66
        }
      ]
    },
    {
      "cell_type": "markdown",
      "metadata": {
        "id": "aNv9ZDu-_dy8"
      },
      "source": [
        "#### The head() And tail() Methods"
      ]
    },
    {
      "cell_type": "code",
      "metadata": {
        "id": "DHmzjiM9CC2b"
      },
      "source": [
        "int_series = pd.Series([i for i in range(60)])"
      ],
      "execution_count": 67,
      "outputs": []
    },
    {
      "cell_type": "code",
      "metadata": {
        "id": "-aa2_Jq9CCuS",
        "outputId": "49b0b978-7955-4e45-b56f-4dd293731e6d",
        "colab": {
          "base_uri": "https://localhost:8080/"
        }
      },
      "source": [
        "int_series"
      ],
      "execution_count": 69,
      "outputs": [
        {
          "output_type": "execute_result",
          "data": {
            "text/plain": [
              "0      0\n",
              "1      1\n",
              "2      2\n",
              "3      3\n",
              "4      4\n",
              "5      5\n",
              "6      6\n",
              "7      7\n",
              "8      8\n",
              "9      9\n",
              "10    10\n",
              "11    11\n",
              "12    12\n",
              "13    13\n",
              "14    14\n",
              "15    15\n",
              "16    16\n",
              "17    17\n",
              "18    18\n",
              "19    19\n",
              "20    20\n",
              "21    21\n",
              "22    22\n",
              "23    23\n",
              "24    24\n",
              "25    25\n",
              "26    26\n",
              "27    27\n",
              "28    28\n",
              "29    29\n",
              "30    30\n",
              "31    31\n",
              "32    32\n",
              "33    33\n",
              "34    34\n",
              "35    35\n",
              "36    36\n",
              "37    37\n",
              "38    38\n",
              "39    39\n",
              "40    40\n",
              "41    41\n",
              "42    42\n",
              "43    43\n",
              "44    44\n",
              "45    45\n",
              "46    46\n",
              "47    47\n",
              "48    48\n",
              "49    49\n",
              "50    50\n",
              "51    51\n",
              "52    52\n",
              "53    53\n",
              "54    54\n",
              "55    55\n",
              "56    56\n",
              "57    57\n",
              "58    58\n",
              "59    59\n",
              "dtype: int64"
            ]
          },
          "metadata": {},
          "execution_count": 69
        }
      ]
    },
    {
      "cell_type": "code",
      "metadata": {
        "id": "1TSOvpBrBU5Z",
        "outputId": "4ceea689-be99-484c-d494-64afb40c2472",
        "colab": {
          "base_uri": "https://localhost:8080/"
        }
      },
      "source": [
        "pd.Series(range(60))"
      ],
      "execution_count": 68,
      "outputs": [
        {
          "output_type": "execute_result",
          "data": {
            "text/plain": [
              "0      0\n",
              "1      1\n",
              "2      2\n",
              "3      3\n",
              "4      4\n",
              "5      5\n",
              "6      6\n",
              "7      7\n",
              "8      8\n",
              "9      9\n",
              "10    10\n",
              "11    11\n",
              "12    12\n",
              "13    13\n",
              "14    14\n",
              "15    15\n",
              "16    16\n",
              "17    17\n",
              "18    18\n",
              "19    19\n",
              "20    20\n",
              "21    21\n",
              "22    22\n",
              "23    23\n",
              "24    24\n",
              "25    25\n",
              "26    26\n",
              "27    27\n",
              "28    28\n",
              "29    29\n",
              "30    30\n",
              "31    31\n",
              "32    32\n",
              "33    33\n",
              "34    34\n",
              "35    35\n",
              "36    36\n",
              "37    37\n",
              "38    38\n",
              "39    39\n",
              "40    40\n",
              "41    41\n",
              "42    42\n",
              "43    43\n",
              "44    44\n",
              "45    45\n",
              "46    46\n",
              "47    47\n",
              "48    48\n",
              "49    49\n",
              "50    50\n",
              "51    51\n",
              "52    52\n",
              "53    53\n",
              "54    54\n",
              "55    55\n",
              "56    56\n",
              "57    57\n",
              "58    58\n",
              "59    59\n",
              "dtype: int64"
            ]
          },
          "metadata": {},
          "execution_count": 68
        }
      ]
    },
    {
      "cell_type": "code",
      "metadata": {
        "id": "m6tKNlC7BuOS",
        "outputId": "4560f211-b113-4a66-efcf-dfacac72ac3c",
        "colab": {
          "base_uri": "https://localhost:8080/"
        }
      },
      "source": [
        "int_series.size"
      ],
      "execution_count": 70,
      "outputs": [
        {
          "output_type": "execute_result",
          "data": {
            "text/plain": [
              "60"
            ]
          },
          "metadata": {},
          "execution_count": 70
        }
      ]
    },
    {
      "cell_type": "code",
      "metadata": {
        "id": "BwS7kFbRBVJ-",
        "outputId": "0000d4f3-fd07-4d0a-98f7-9ea7cf9a2e82",
        "colab": {
          "base_uri": "https://localhost:8080/"
        }
      },
      "source": [
        "len(int_series)"
      ],
      "execution_count": 71,
      "outputs": [
        {
          "output_type": "execute_result",
          "data": {
            "text/plain": [
              "60"
            ]
          },
          "metadata": {},
          "execution_count": 71
        }
      ]
    },
    {
      "cell_type": "code",
      "metadata": {
        "id": "TmU046OCCWh6",
        "outputId": "59452f55-6cac-4573-e5cc-6c3caa4d917f",
        "colab": {
          "base_uri": "https://localhost:8080/"
        }
      },
      "source": [
        "int_series.head()"
      ],
      "execution_count": 72,
      "outputs": [
        {
          "output_type": "execute_result",
          "data": {
            "text/plain": [
              "0    0\n",
              "1    1\n",
              "2    2\n",
              "3    3\n",
              "4    4\n",
              "dtype: int64"
            ]
          },
          "metadata": {},
          "execution_count": 72
        }
      ]
    },
    {
      "cell_type": "code",
      "metadata": {
        "id": "l3TgDATYCj7B",
        "outputId": "f62cd1dc-1cd2-4a88-dc75-186b9fca0036",
        "colab": {
          "base_uri": "https://localhost:8080/"
        }
      },
      "source": [
        "int_series.tail()"
      ],
      "execution_count": 73,
      "outputs": [
        {
          "output_type": "execute_result",
          "data": {
            "text/plain": [
              "55    55\n",
              "56    56\n",
              "57    57\n",
              "58    58\n",
              "59    59\n",
              "dtype: int64"
            ]
          },
          "metadata": {},
          "execution_count": 73
        }
      ]
    },
    {
      "cell_type": "code",
      "metadata": {
        "id": "wVSJZzAtCms0",
        "outputId": "26e88e66-960d-46a9-e2d6-b1cc72c8f35e",
        "colab": {
          "base_uri": "https://localhost:8080/"
        }
      },
      "source": [
        "int_series.head(n=3)"
      ],
      "execution_count": 74,
      "outputs": [
        {
          "output_type": "execute_result",
          "data": {
            "text/plain": [
              "0    0\n",
              "1    1\n",
              "2    2\n",
              "dtype: int64"
            ]
          },
          "metadata": {},
          "execution_count": 74
        }
      ]
    },
    {
      "cell_type": "code",
      "metadata": {
        "id": "gtEU4qLBCrJF",
        "outputId": "b1a7e537-fb54-4732-a56f-e4ca219d29e4",
        "colab": {
          "base_uri": "https://localhost:8080/"
        }
      },
      "source": [
        "int_series.tail(n=7)"
      ],
      "execution_count": 75,
      "outputs": [
        {
          "output_type": "execute_result",
          "data": {
            "text/plain": [
              "53    53\n",
              "54    54\n",
              "55    55\n",
              "56    56\n",
              "57    57\n",
              "58    58\n",
              "59    59\n",
              "dtype: int64"
            ]
          },
          "metadata": {},
          "execution_count": 75
        }
      ]
    },
    {
      "cell_type": "code",
      "metadata": {
        "id": "6KmAMuvwCxyV",
        "outputId": "de8e7d9c-579b-418f-f0c4-cb157dda9bde",
        "colab": {
          "base_uri": "https://localhost:8080/"
        }
      },
      "source": [
        "pd.Series(range(100))"
      ],
      "execution_count": 76,
      "outputs": [
        {
          "output_type": "execute_result",
          "data": {
            "text/plain": [
              "0      0\n",
              "1      1\n",
              "2      2\n",
              "3      3\n",
              "4      4\n",
              "      ..\n",
              "95    95\n",
              "96    96\n",
              "97    97\n",
              "98    98\n",
              "99    99\n",
              "Length: 100, dtype: int64"
            ]
          },
          "metadata": {},
          "execution_count": 76
        }
      ]
    },
    {
      "cell_type": "code",
      "metadata": {
        "id": "qlQWXsg1C78R"
      },
      "source": [
        "pd.options.display.min_rows = 40"
      ],
      "execution_count": 77,
      "outputs": []
    },
    {
      "cell_type": "markdown",
      "metadata": {
        "id": "lJnjUgvzDI2d"
      },
      "source": [
        "#### Extracting By Index Position"
      ]
    },
    {
      "cell_type": "code",
      "metadata": {
        "id": "LzzPW-VaHsUj"
      },
      "source": [
        "from string import ascii_lowercase"
      ],
      "execution_count": 78,
      "outputs": []
    },
    {
      "cell_type": "code",
      "metadata": {
        "id": "wPXnDyJLHsal",
        "outputId": "ae996f4a-daa6-4ed2-c2cc-7200ef1948df",
        "colab": {
          "base_uri": "https://localhost:8080/",
          "height": 35
        }
      },
      "source": [
        "ascii_lowercase"
      ],
      "execution_count": 79,
      "outputs": [
        {
          "output_type": "execute_result",
          "data": {
            "application/vnd.google.colaboratory.intrinsic+json": {
              "type": "string"
            },
            "text/plain": [
              "'abcdefghijklmnopqrstuvwxyz'"
            ]
          },
          "metadata": {},
          "execution_count": 79
        }
      ]
    },
    {
      "cell_type": "code",
      "metadata": {
        "id": "NBzpGN2lHsek",
        "outputId": "d3440c58-1ea4-408f-fab2-5585c2bffc8a",
        "colab": {
          "base_uri": "https://localhost:8080/"
        }
      },
      "source": [
        "pd.Series('Andy')"
      ],
      "execution_count": 80,
      "outputs": [
        {
          "output_type": "execute_result",
          "data": {
            "text/plain": [
              "0    Andy\n",
              "dtype: object"
            ]
          },
          "metadata": {},
          "execution_count": 80
        }
      ]
    },
    {
      "cell_type": "code",
      "metadata": {
        "id": "n9LafznMHsle",
        "outputId": "67a66b1d-0bd5-482d-c89c-bacc12096adb",
        "colab": {
          "base_uri": "https://localhost:8080/"
        }
      },
      "source": [
        "pd.Series(ascii_lowercase)"
      ],
      "execution_count": 81,
      "outputs": [
        {
          "output_type": "execute_result",
          "data": {
            "text/plain": [
              "0    abcdefghijklmnopqrstuvwxyz\n",
              "dtype: object"
            ]
          },
          "metadata": {},
          "execution_count": 81
        }
      ]
    },
    {
      "cell_type": "code",
      "metadata": {
        "id": "OvvynCvyHtDE",
        "outputId": "ae382345-b48a-4dba-f800-7950cdfa94db",
        "colab": {
          "base_uri": "https://localhost:8080/"
        }
      },
      "source": [
        "len(list(ascii_lowercase))"
      ],
      "execution_count": 82,
      "outputs": [
        {
          "output_type": "execute_result",
          "data": {
            "text/plain": [
              "26"
            ]
          },
          "metadata": {},
          "execution_count": 82
        }
      ]
    },
    {
      "cell_type": "code",
      "metadata": {
        "id": "RbeV4fkiHtHP"
      },
      "source": [
        "letters = list(ascii_lowercase)"
      ],
      "execution_count": 83,
      "outputs": []
    },
    {
      "cell_type": "code",
      "metadata": {
        "id": "opv56oFNIRut"
      },
      "source": [
        "alphabet = pd.Series(data=letters)"
      ],
      "execution_count": 84,
      "outputs": []
    },
    {
      "cell_type": "code",
      "metadata": {
        "id": "R6_VF5CfIUR1",
        "outputId": "c4d7168e-b33b-4118-d60e-992d294aa5f7",
        "colab": {
          "base_uri": "https://localhost:8080/"
        }
      },
      "source": [
        "alphabet.head(6)"
      ],
      "execution_count": 85,
      "outputs": [
        {
          "output_type": "execute_result",
          "data": {
            "text/plain": [
              "0    a\n",
              "1    b\n",
              "2    c\n",
              "3    d\n",
              "4    e\n",
              "5    f\n",
              "dtype: object"
            ]
          },
          "metadata": {},
          "execution_count": 85
        }
      ]
    },
    {
      "cell_type": "code",
      "metadata": {
        "id": "zv4i1iThIVh6",
        "outputId": "a701f859-b94c-43a1-8e2f-fa438a354f29",
        "colab": {
          "base_uri": "https://localhost:8080/"
        }
      },
      "source": [
        "alphabet.head(1)"
      ],
      "execution_count": 86,
      "outputs": [
        {
          "output_type": "execute_result",
          "data": {
            "text/plain": [
              "0    a\n",
              "dtype: object"
            ]
          },
          "metadata": {},
          "execution_count": 86
        }
      ]
    },
    {
      "cell_type": "code",
      "metadata": {
        "id": "UYQxEBqXIbqf",
        "outputId": "0da26a74-c9d4-465e-a0e8-958d36bed0a6",
        "colab": {
          "base_uri": "https://localhost:8080/",
          "height": 35
        }
      },
      "source": [
        "alphabet[1]"
      ],
      "execution_count": 87,
      "outputs": [
        {
          "output_type": "execute_result",
          "data": {
            "application/vnd.google.colaboratory.intrinsic+json": {
              "type": "string"
            },
            "text/plain": [
              "'b'"
            ]
          },
          "metadata": {},
          "execution_count": 87
        }
      ]
    },
    {
      "cell_type": "code",
      "metadata": {
        "id": "nEcO3gyYIpP8",
        "outputId": "c0861a6b-04a4-4ccb-d293-1c9feb801b15",
        "colab": {
          "base_uri": "https://localhost:8080/",
          "height": 35
        }
      },
      "source": [
        "alphabet[0]"
      ],
      "execution_count": 88,
      "outputs": [
        {
          "output_type": "execute_result",
          "data": {
            "application/vnd.google.colaboratory.intrinsic+json": {
              "type": "string"
            },
            "text/plain": [
              "'a'"
            ]
          },
          "metadata": {},
          "execution_count": 88
        }
      ]
    },
    {
      "cell_type": "code",
      "metadata": {
        "id": "Q8ZQflBIIyyE"
      },
      "source": [
        "# 1. What is the first letter?\n",
        "# 2. What is the 11th letter?\n",
        "# 3. What are the first three letters?\n",
        "# 4. What are the sixth through tenth letters?\n",
        "# 5. What are the last six letters?"
      ],
      "execution_count": 89,
      "outputs": []
    },
    {
      "cell_type": "code",
      "metadata": {
        "id": "JXBG4dNiI2fQ",
        "outputId": "45c28eec-04e1-4801-c28b-47216b628ff2",
        "colab": {
          "base_uri": "https://localhost:8080/",
          "height": 35
        }
      },
      "source": [
        "# 2\n",
        "alphabet[10]"
      ],
      "execution_count": 90,
      "outputs": [
        {
          "output_type": "execute_result",
          "data": {
            "application/vnd.google.colaboratory.intrinsic+json": {
              "type": "string"
            },
            "text/plain": [
              "'k'"
            ]
          },
          "metadata": {},
          "execution_count": 90
        }
      ]
    },
    {
      "cell_type": "code",
      "metadata": {
        "id": "uWaBB0sLI6Ga",
        "outputId": "3570c26d-534d-435a-c284-0d806de1836f",
        "colab": {
          "base_uri": "https://localhost:8080/"
        }
      },
      "source": [
        "# 3\n",
        "alphabet[:3]"
      ],
      "execution_count": 91,
      "outputs": [
        {
          "output_type": "execute_result",
          "data": {
            "text/plain": [
              "0    a\n",
              "1    b\n",
              "2    c\n",
              "dtype: object"
            ]
          },
          "metadata": {},
          "execution_count": 91
        }
      ]
    },
    {
      "cell_type": "code",
      "metadata": {
        "id": "E5o11jbII_kE",
        "outputId": "760a49c6-0cf2-46cb-f335-9d164fc7fa81",
        "colab": {
          "base_uri": "https://localhost:8080/"
        }
      },
      "source": [
        "alphabet[0:4]"
      ],
      "execution_count": 92,
      "outputs": [
        {
          "output_type": "execute_result",
          "data": {
            "text/plain": [
              "0    a\n",
              "1    b\n",
              "2    c\n",
              "3    d\n",
              "dtype: object"
            ]
          },
          "metadata": {},
          "execution_count": 92
        }
      ]
    },
    {
      "cell_type": "code",
      "metadata": {
        "id": "7_OyRs5EJFC6",
        "outputId": "a3ae60d9-5f5f-4199-f976-535163f0f5b4",
        "colab": {
          "base_uri": "https://localhost:8080/"
        }
      },
      "source": [
        "# 4\n",
        "alphabet[5:10]"
      ],
      "execution_count": 93,
      "outputs": [
        {
          "output_type": "execute_result",
          "data": {
            "text/plain": [
              "5    f\n",
              "6    g\n",
              "7    h\n",
              "8    i\n",
              "9    j\n",
              "dtype: object"
            ]
          },
          "metadata": {},
          "execution_count": 93
        }
      ]
    },
    {
      "cell_type": "code",
      "metadata": {
        "id": "qEA7n7PFJRX1",
        "outputId": "f50deb84-5b52-4f8e-db91-09c37dede365",
        "colab": {
          "base_uri": "https://localhost:8080/"
        }
      },
      "source": [
        "# 5\n",
        "alphabet[-6:]"
      ],
      "execution_count": 94,
      "outputs": [
        {
          "output_type": "execute_result",
          "data": {
            "text/plain": [
              "20    u\n",
              "21    v\n",
              "22    w\n",
              "23    x\n",
              "24    y\n",
              "25    z\n",
              "dtype: object"
            ]
          },
          "metadata": {},
          "execution_count": 94
        }
      ]
    },
    {
      "cell_type": "markdown",
      "metadata": {
        "id": "ScqN2Xu2JW-1"
      },
      "source": [
        "#### Accessing Elements By Label"
      ]
    },
    {
      "cell_type": "code",
      "metadata": {
        "id": "lvwHhKr7SO78"
      },
      "source": [
        "from string import ascii_uppercase"
      ],
      "execution_count": 95,
      "outputs": []
    },
    {
      "cell_type": "code",
      "metadata": {
        "id": "u37Fhu3WSO1i",
        "outputId": "fb41eadd-ca70-4a08-dc85-f33b681ebca9",
        "colab": {
          "base_uri": "https://localhost:8080/",
          "height": 35
        }
      },
      "source": [
        "ascii_lowercase"
      ],
      "execution_count": 96,
      "outputs": [
        {
          "output_type": "execute_result",
          "data": {
            "application/vnd.google.colaboratory.intrinsic+json": {
              "type": "string"
            },
            "text/plain": [
              "'abcdefghijklmnopqrstuvwxyz'"
            ]
          },
          "metadata": {},
          "execution_count": 96
        }
      ]
    },
    {
      "cell_type": "code",
      "metadata": {
        "id": "O6ltyPZoRvMw",
        "outputId": "7994b60f-164b-442e-bbbc-44a94c137e07",
        "colab": {
          "base_uri": "https://localhost:8080/",
          "height": 35
        }
      },
      "source": [
        "ascii_uppercase"
      ],
      "execution_count": 97,
      "outputs": [
        {
          "output_type": "execute_result",
          "data": {
            "application/vnd.google.colaboratory.intrinsic+json": {
              "type": "string"
            },
            "text/plain": [
              "'ABCDEFGHIJKLMNOPQRSTUVWXYZ'"
            ]
          },
          "metadata": {},
          "execution_count": 97
        }
      ]
    },
    {
      "cell_type": "code",
      "metadata": {
        "id": "y9YaMJdcRvJP"
      },
      "source": [
        "labeled_alphabet = pd.Series(data=list(ascii_lowercase), index=map(lambda x: 'label_' + x, list(ascii_uppercase)))"
      ],
      "execution_count": 98,
      "outputs": []
    },
    {
      "cell_type": "code",
      "metadata": {
        "id": "U09nakowRvFQ",
        "outputId": "6ab12480-45fc-4b45-ea92-dbfd8801690a",
        "colab": {
          "base_uri": "https://localhost:8080/"
        }
      },
      "source": [
        "labeled_alphabet.head(3)"
      ],
      "execution_count": 99,
      "outputs": [
        {
          "output_type": "execute_result",
          "data": {
            "text/plain": [
              "label_A    a\n",
              "label_B    b\n",
              "label_C    c\n",
              "dtype: object"
            ]
          },
          "metadata": {},
          "execution_count": 99
        }
      ]
    },
    {
      "cell_type": "code",
      "metadata": {
        "id": "7WM132ULKkzn"
      },
      "source": [
        "# 1. What is the first letter?\n",
        "# 2. What is the 11th letter?\n",
        "# 3. What are the first three letters?\n",
        "# 4. What are the sixth through tenth letters?\n",
        "# 5. What are the last six letters?"
      ],
      "execution_count": null,
      "outputs": []
    },
    {
      "cell_type": "code",
      "metadata": {
        "id": "uWU4NPXEKlLE",
        "outputId": "e1f36766-c8d7-4159-da67-a5ceb06b17f4",
        "colab": {
          "base_uri": "https://localhost:8080/",
          "height": 35
        }
      },
      "source": [
        "# 1\n",
        "labeled_alphabet[0]"
      ],
      "execution_count": 100,
      "outputs": [
        {
          "output_type": "execute_result",
          "data": {
            "application/vnd.google.colaboratory.intrinsic+json": {
              "type": "string"
            },
            "text/plain": [
              "'a'"
            ]
          },
          "metadata": {},
          "execution_count": 100
        }
      ]
    },
    {
      "cell_type": "code",
      "metadata": {
        "id": "yj5mFywvS8ql",
        "outputId": "19282051-40dd-4daa-a002-f6628a38a7fd",
        "colab": {
          "base_uri": "https://localhost:8080/",
          "height": 35
        }
      },
      "source": [
        "labeled_alphabet['label_A']"
      ],
      "execution_count": 101,
      "outputs": [
        {
          "output_type": "execute_result",
          "data": {
            "application/vnd.google.colaboratory.intrinsic+json": {
              "type": "string"
            },
            "text/plain": [
              "'a'"
            ]
          },
          "metadata": {},
          "execution_count": 101
        }
      ]
    },
    {
      "cell_type": "code",
      "metadata": {
        "id": "czI48bCJTBI7",
        "outputId": "adaa6205-62ac-4740-d373-a81f80b2611b",
        "colab": {
          "base_uri": "https://localhost:8080/",
          "height": 35
        }
      },
      "source": [
        "# 2\n",
        "labeled_alphabet[10]"
      ],
      "execution_count": 102,
      "outputs": [
        {
          "output_type": "execute_result",
          "data": {
            "application/vnd.google.colaboratory.intrinsic+json": {
              "type": "string"
            },
            "text/plain": [
              "'k'"
            ]
          },
          "metadata": {},
          "execution_count": 102
        }
      ]
    },
    {
      "cell_type": "code",
      "metadata": {
        "id": "S8T2smZbTJg1",
        "outputId": "f2600c52-bef0-48f2-c112-735c037c66c5",
        "colab": {
          "base_uri": "https://localhost:8080/",
          "height": 35
        }
      },
      "source": [
        "labeled_alphabet['label_K']"
      ],
      "execution_count": 103,
      "outputs": [
        {
          "output_type": "execute_result",
          "data": {
            "application/vnd.google.colaboratory.intrinsic+json": {
              "type": "string"
            },
            "text/plain": [
              "'k'"
            ]
          },
          "metadata": {},
          "execution_count": 103
        }
      ]
    },
    {
      "cell_type": "code",
      "metadata": {
        "id": "k9oaoVzPTMRK",
        "outputId": "2a667b0e-732f-460e-8984-2279a8b61db0",
        "colab": {
          "base_uri": "https://localhost:8080/"
        }
      },
      "source": [
        "# 3\n",
        "labeled_alphabet[0:3]"
      ],
      "execution_count": 104,
      "outputs": [
        {
          "output_type": "execute_result",
          "data": {
            "text/plain": [
              "label_A    a\n",
              "label_B    b\n",
              "label_C    c\n",
              "dtype: object"
            ]
          },
          "metadata": {},
          "execution_count": 104
        }
      ]
    },
    {
      "cell_type": "code",
      "metadata": {
        "id": "koMz7O-6TPV3",
        "outputId": "c61f5bef-2607-4831-83e7-b6444a11a8e9",
        "colab": {
          "base_uri": "https://localhost:8080/"
        }
      },
      "source": [
        "labeled_alphabet[:'label_C']"
      ],
      "execution_count": 105,
      "outputs": [
        {
          "output_type": "execute_result",
          "data": {
            "text/plain": [
              "label_A    a\n",
              "label_B    b\n",
              "label_C    c\n",
              "dtype: object"
            ]
          },
          "metadata": {},
          "execution_count": 105
        }
      ]
    },
    {
      "cell_type": "code",
      "metadata": {
        "id": "A-8nBTXFTR4M",
        "outputId": "1e0606f5-d835-4d47-b465-adc53f9ed48a",
        "colab": {
          "base_uri": "https://localhost:8080/"
        }
      },
      "source": [
        "# 4\n",
        "labeled_alphabet[5:10]"
      ],
      "execution_count": 106,
      "outputs": [
        {
          "output_type": "execute_result",
          "data": {
            "text/plain": [
              "label_F    f\n",
              "label_G    g\n",
              "label_H    h\n",
              "label_I    i\n",
              "label_J    j\n",
              "dtype: object"
            ]
          },
          "metadata": {},
          "execution_count": 106
        }
      ]
    },
    {
      "cell_type": "code",
      "metadata": {
        "id": "SVIhRz9wTfVs",
        "outputId": "c88b2cbf-46bd-4d15-c52e-b1accda2c2c7",
        "colab": {
          "base_uri": "https://localhost:8080/"
        }
      },
      "source": [
        "labeled_alphabet['label_F':'label_J']"
      ],
      "execution_count": 107,
      "outputs": [
        {
          "output_type": "execute_result",
          "data": {
            "text/plain": [
              "label_F    f\n",
              "label_G    g\n",
              "label_H    h\n",
              "label_I    i\n",
              "label_J    j\n",
              "dtype: object"
            ]
          },
          "metadata": {},
          "execution_count": 107
        }
      ]
    },
    {
      "cell_type": "code",
      "metadata": {
        "id": "GXz7P3YMTjGx",
        "outputId": "8e4e18e3-7ea1-47e0-ea2e-44207f5c73e1",
        "colab": {
          "base_uri": "https://localhost:8080/"
        }
      },
      "source": [
        "# 6\n",
        "labeled_alphabet[-6:]"
      ],
      "execution_count": 108,
      "outputs": [
        {
          "output_type": "execute_result",
          "data": {
            "text/plain": [
              "label_U    u\n",
              "label_V    v\n",
              "label_W    w\n",
              "label_X    x\n",
              "label_Y    y\n",
              "label_Z    z\n",
              "dtype: object"
            ]
          },
          "metadata": {},
          "execution_count": 108
        }
      ]
    },
    {
      "cell_type": "code",
      "metadata": {
        "id": "ZLG3gs3qTqop",
        "outputId": "99ce2e9e-3fbf-4a1b-d41a-01009a36017e",
        "colab": {
          "base_uri": "https://localhost:8080/"
        }
      },
      "source": [
        "labeled_alphabet['label_U':]"
      ],
      "execution_count": 109,
      "outputs": [
        {
          "output_type": "execute_result",
          "data": {
            "text/plain": [
              "label_U    u\n",
              "label_V    v\n",
              "label_W    w\n",
              "label_X    x\n",
              "label_Y    y\n",
              "label_Z    z\n",
              "dtype: object"
            ]
          },
          "metadata": {},
          "execution_count": 109
        }
      ]
    },
    {
      "cell_type": "markdown",
      "metadata": {
        "id": "0G0aK8S1Tu2_"
      },
      "source": [
        "#### BONUS - The add_prefix() And add_suffix() Methods"
      ]
    },
    {
      "cell_type": "code",
      "metadata": {
        "id": "rgZWr-Q5Ch9_",
        "outputId": "1a3960a0-c495-4dac-a260-828acc5b3c43",
        "colab": {
          "base_uri": "https://localhost:8080/"
        }
      },
      "source": [
        "alphabet.head()"
      ],
      "execution_count": 110,
      "outputs": [
        {
          "output_type": "execute_result",
          "data": {
            "text/plain": [
              "0    a\n",
              "1    b\n",
              "2    c\n",
              "3    d\n",
              "4    e\n",
              "dtype: object"
            ]
          },
          "metadata": {},
          "execution_count": 110
        }
      ]
    },
    {
      "cell_type": "code",
      "metadata": {
        "id": "K3F4WkSzCh6f",
        "outputId": "62c3ff10-6ae0-40f9-93cc-a8a6caa68447",
        "colab": {
          "base_uri": "https://localhost:8080/"
        }
      },
      "source": [
        "alphabet.add_prefix('label_')"
      ],
      "execution_count": 111,
      "outputs": [
        {
          "output_type": "execute_result",
          "data": {
            "text/plain": [
              "label_0     a\n",
              "label_1     b\n",
              "label_2     c\n",
              "label_3     d\n",
              "label_4     e\n",
              "label_5     f\n",
              "label_6     g\n",
              "label_7     h\n",
              "label_8     i\n",
              "label_9     j\n",
              "label_10    k\n",
              "label_11    l\n",
              "label_12    m\n",
              "label_13    n\n",
              "label_14    o\n",
              "label_15    p\n",
              "label_16    q\n",
              "label_17    r\n",
              "label_18    s\n",
              "label_19    t\n",
              "label_20    u\n",
              "label_21    v\n",
              "label_22    w\n",
              "label_23    x\n",
              "label_24    y\n",
              "label_25    z\n",
              "dtype: object"
            ]
          },
          "metadata": {},
          "execution_count": 111
        }
      ]
    },
    {
      "cell_type": "code",
      "metadata": {
        "id": "etlReZUiCh06"
      },
      "source": [
        "alphabet = alphabet.add_suffix('_some_cool_ending')"
      ],
      "execution_count": 112,
      "outputs": []
    },
    {
      "cell_type": "code",
      "metadata": {
        "id": "8C8A96gjCht3",
        "outputId": "266ff365-75bc-4d8d-c731-9ec7866508da",
        "colab": {
          "base_uri": "https://localhost:8080/"
        }
      },
      "source": [
        "alphabet.head()"
      ],
      "execution_count": 113,
      "outputs": [
        {
          "output_type": "execute_result",
          "data": {
            "text/plain": [
              "0_some_cool_ending    a\n",
              "1_some_cool_ending    b\n",
              "2_some_cool_ending    c\n",
              "3_some_cool_ending    d\n",
              "4_some_cool_ending    e\n",
              "dtype: object"
            ]
          },
          "metadata": {},
          "execution_count": 113
        }
      ]
    },
    {
      "cell_type": "code",
      "source": [
        ""
      ],
      "metadata": {
        "id": "7sm8oxgLKYKH"
      },
      "execution_count": 113,
      "outputs": []
    },
    {
      "cell_type": "markdown",
      "metadata": {
        "id": "FDiYVGdvB6CL"
      },
      "source": [
        "#### Using Dot Notation"
      ]
    },
    {
      "cell_type": "code",
      "metadata": {
        "id": "_pFWUyPFIxHd",
        "outputId": "bdcc7600-4c29-4873-831f-27daee2b5b32",
        "colab": {
          "base_uri": "https://localhost:8080/",
          "height": 35
        }
      },
      "source": [
        "labeled_alphabet['label_V']"
      ],
      "execution_count": 114,
      "outputs": [
        {
          "output_type": "execute_result",
          "data": {
            "application/vnd.google.colaboratory.intrinsic+json": {
              "type": "string"
            },
            "text/plain": [
              "'v'"
            ]
          },
          "metadata": {},
          "execution_count": 114
        }
      ]
    },
    {
      "cell_type": "code",
      "metadata": {
        "id": "HpjejGAVIdGm",
        "outputId": "43937869-e282-4e1a-f16a-d4444ab8ccd4",
        "colab": {
          "base_uri": "https://localhost:8080/",
          "height": 35
        }
      },
      "source": [
        "labeled_alphabet.label_V"
      ],
      "execution_count": 115,
      "outputs": [
        {
          "output_type": "execute_result",
          "data": {
            "application/vnd.google.colaboratory.intrinsic+json": {
              "type": "string"
            },
            "text/plain": [
              "'v'"
            ]
          },
          "metadata": {},
          "execution_count": 115
        }
      ]
    },
    {
      "cell_type": "code",
      "metadata": {
        "id": "Sv2Zb7pFIdDU",
        "outputId": "f84a24cc-dc7c-4c77-c539-f516a404b7a9",
        "colab": {
          "base_uri": "https://localhost:8080/"
        }
      },
      "source": [
        "labeled_alphabet['label_V':'label_X']"
      ],
      "execution_count": 116,
      "outputs": [
        {
          "output_type": "execute_result",
          "data": {
            "text/plain": [
              "label_V    v\n",
              "label_W    w\n",
              "label_X    x\n",
              "dtype: object"
            ]
          },
          "metadata": {},
          "execution_count": 116
        }
      ]
    },
    {
      "cell_type": "code",
      "metadata": {
        "id": "otFfT5nIIc_L"
      },
      "source": [
        "# labeled_alphabet.label_V:label_X"
      ],
      "execution_count": 117,
      "outputs": []
    },
    {
      "cell_type": "code",
      "metadata": {
        "id": "4BSyh5xcIc7K"
      },
      "source": [
        "# labeled_alphabet.label!V12490()morelabel"
      ],
      "execution_count": 118,
      "outputs": []
    },
    {
      "cell_type": "markdown",
      "metadata": {
        "id": "tV2cSV8jGqHf"
      },
      "source": [
        "#### Boolean Masks And The .loc Indexer"
      ]
    },
    {
      "cell_type": "code",
      "metadata": {
        "id": "82-2c5I5WdFz",
        "outputId": "ef50921c-1c7e-4b20-ebce-6242e62700a1",
        "colab": {
          "base_uri": "https://localhost:8080/"
        }
      },
      "source": [
        "labeled_alphabet['label_F':'label_J']"
      ],
      "execution_count": 119,
      "outputs": [
        {
          "output_type": "execute_result",
          "data": {
            "text/plain": [
              "label_F    f\n",
              "label_G    g\n",
              "label_H    h\n",
              "label_I    i\n",
              "label_J    j\n",
              "dtype: object"
            ]
          },
          "metadata": {},
          "execution_count": 119
        }
      ]
    },
    {
      "cell_type": "code",
      "metadata": {
        "id": "ERrsv2-XWc59"
      },
      "source": [
        "# loc"
      ],
      "execution_count": null,
      "outputs": []
    },
    {
      "cell_type": "code",
      "metadata": {
        "id": "O6V2XyygWc0a",
        "outputId": "099d12bb-e73b-4f91-a25c-647fff8b8886",
        "colab": {
          "base_uri": "https://localhost:8080/"
        }
      },
      "source": [
        "labeled_alphabet.loc['label_F':'label_J']"
      ],
      "execution_count": 120,
      "outputs": [
        {
          "output_type": "execute_result",
          "data": {
            "text/plain": [
              "label_F    f\n",
              "label_G    g\n",
              "label_H    h\n",
              "label_I    i\n",
              "label_J    j\n",
              "dtype: object"
            ]
          },
          "metadata": {},
          "execution_count": 120
        }
      ]
    },
    {
      "cell_type": "code",
      "metadata": {
        "id": "q0Hp8ePjV7xn"
      },
      "source": [
        "# boolean"
      ],
      "execution_count": 121,
      "outputs": []
    },
    {
      "cell_type": "code",
      "metadata": {
        "id": "ADvKNUB0V7s3",
        "outputId": "b021a1c8-5ceb-42b2-f6e3-faad5365ea48",
        "colab": {
          "base_uri": "https://localhost:8080/"
        }
      },
      "source": [
        "books_series"
      ],
      "execution_count": 122,
      "outputs": [
        {
          "output_type": "execute_result",
          "data": {
            "text/plain": [
              "My books\n",
              "0    Fooled by Randomness\n",
              "1                 Sapiens\n",
              "2      Lenin on the Train\n",
              "Name: my favorite books, dtype: object"
            ]
          },
          "metadata": {},
          "execution_count": 122
        }
      ]
    },
    {
      "cell_type": "code",
      "metadata": {
        "id": "sKLhqK01V7ni",
        "outputId": "5323b28d-7338-4407-f11d-538f08cf7b5e",
        "colab": {
          "base_uri": "https://localhost:8080/"
        }
      },
      "source": [
        "books_series.loc[[True, True, True]]"
      ],
      "execution_count": 123,
      "outputs": [
        {
          "output_type": "execute_result",
          "data": {
            "text/plain": [
              "My books\n",
              "0    Fooled by Randomness\n",
              "1                 Sapiens\n",
              "2      Lenin on the Train\n",
              "Name: my favorite books, dtype: object"
            ]
          },
          "metadata": {},
          "execution_count": 123
        }
      ]
    },
    {
      "cell_type": "code",
      "metadata": {
        "id": "HZyf_lbLV6yW"
      },
      "source": [
        "#books_series.loc[[True, False]]"
      ],
      "execution_count": 126,
      "outputs": []
    },
    {
      "cell_type": "code",
      "metadata": {
        "id": "L1RE39dQXRAZ",
        "outputId": "60712f05-e730-438a-9d8d-eeba9b2a60af",
        "colab": {
          "base_uri": "https://localhost:8080/"
        }
      },
      "source": [
        "labeled_alphabet.size"
      ],
      "execution_count": 127,
      "outputs": [
        {
          "output_type": "execute_result",
          "data": {
            "text/plain": [
              "26"
            ]
          },
          "metadata": {},
          "execution_count": 127
        }
      ]
    },
    {
      "cell_type": "code",
      "metadata": {
        "id": "OyKUlRruXjL-"
      },
      "source": [
        "#labeled_alphabet.loc[[True, False, True]]"
      ],
      "execution_count": 129,
      "outputs": []
    },
    {
      "cell_type": "code",
      "metadata": {
        "id": "1FZkesRgXpQj",
        "outputId": "49ea31a7-f7af-448e-add7-2b131bb15bad",
        "colab": {
          "base_uri": "https://localhost:8080/"
        }
      },
      "source": [
        "labeled_alphabet.loc[[True for i in range(26)]]"
      ],
      "execution_count": 130,
      "outputs": [
        {
          "output_type": "execute_result",
          "data": {
            "text/plain": [
              "label_A    a\n",
              "label_B    b\n",
              "label_C    c\n",
              "label_D    d\n",
              "label_E    e\n",
              "label_F    f\n",
              "label_G    g\n",
              "label_H    h\n",
              "label_I    i\n",
              "label_J    j\n",
              "label_K    k\n",
              "label_L    l\n",
              "label_M    m\n",
              "label_N    n\n",
              "label_O    o\n",
              "label_P    p\n",
              "label_Q    q\n",
              "label_R    r\n",
              "label_S    s\n",
              "label_T    t\n",
              "label_U    u\n",
              "label_V    v\n",
              "label_W    w\n",
              "label_X    x\n",
              "label_Y    y\n",
              "label_Z    z\n",
              "dtype: object"
            ]
          },
          "metadata": {},
          "execution_count": 130
        }
      ]
    },
    {
      "cell_type": "code",
      "metadata": {
        "id": "MtIfCNk7Xuh4",
        "outputId": "bfc104b0-48da-444c-e78d-d91d81b79288",
        "colab": {
          "base_uri": "https://localhost:8080/"
        }
      },
      "source": [
        "labeled_alphabet.loc[[True if i%2==0 else False for i in range(26)]]"
      ],
      "execution_count": 131,
      "outputs": [
        {
          "output_type": "execute_result",
          "data": {
            "text/plain": [
              "label_A    a\n",
              "label_C    c\n",
              "label_E    e\n",
              "label_G    g\n",
              "label_I    i\n",
              "label_K    k\n",
              "label_M    m\n",
              "label_O    o\n",
              "label_Q    q\n",
              "label_S    s\n",
              "label_U    u\n",
              "label_W    w\n",
              "label_Y    y\n",
              "dtype: object"
            ]
          },
          "metadata": {},
          "execution_count": 131
        }
      ]
    },
    {
      "cell_type": "markdown",
      "metadata": {
        "id": "OqBI-N68X6Py"
      },
      "source": [
        "#### Extracting By Position With .iloc"
      ]
    },
    {
      "cell_type": "code",
      "metadata": {
        "id": "QAXnWX77dH73"
      },
      "source": [
        "# iloc => integer loc => indexing by position\n",
        "# loc => location => indexing by label"
      ],
      "execution_count": 132,
      "outputs": []
    },
    {
      "cell_type": "code",
      "metadata": {
        "id": "nJqBg1kSdGru",
        "outputId": "ca97b514-bca8-426e-e018-f7b85c50ffc0",
        "colab": {
          "base_uri": "https://localhost:8080/",
          "height": 35
        }
      },
      "source": [
        "labeled_alphabet.iloc[0]"
      ],
      "execution_count": 133,
      "outputs": [
        {
          "output_type": "execute_result",
          "data": {
            "application/vnd.google.colaboratory.intrinsic+json": {
              "type": "string"
            },
            "text/plain": [
              "'a'"
            ]
          },
          "metadata": {},
          "execution_count": 133
        }
      ]
    },
    {
      "cell_type": "code",
      "metadata": {
        "id": "RX5wpQ-WdGlw",
        "outputId": "ebbf70d9-5592-4016-b07b-7889b4782ac3",
        "colab": {
          "base_uri": "https://localhost:8080/",
          "height": 35
        }
      },
      "source": [
        "labeled_alphabet.iloc[1]"
      ],
      "execution_count": 134,
      "outputs": [
        {
          "output_type": "execute_result",
          "data": {
            "application/vnd.google.colaboratory.intrinsic+json": {
              "type": "string"
            },
            "text/plain": [
              "'b'"
            ]
          },
          "metadata": {},
          "execution_count": 134
        }
      ]
    },
    {
      "cell_type": "code",
      "metadata": {
        "id": "7XBG-7PNdD0p",
        "outputId": "0f57798e-f013-4cc9-bd7a-d6d8d11c4a46",
        "colab": {
          "base_uri": "https://localhost:8080/"
        }
      },
      "source": [
        "labeled_alphabet.iloc[1:3]"
      ],
      "execution_count": 135,
      "outputs": [
        {
          "output_type": "execute_result",
          "data": {
            "text/plain": [
              "label_B    b\n",
              "label_C    c\n",
              "dtype: object"
            ]
          },
          "metadata": {},
          "execution_count": 135
        }
      ]
    },
    {
      "cell_type": "code",
      "metadata": {
        "id": "TK-Ez2pyd6WM"
      },
      "source": [
        "# akin: similar to"
      ],
      "execution_count": 136,
      "outputs": []
    },
    {
      "cell_type": "code",
      "metadata": {
        "id": "AbFwV6D-dD8t"
      },
      "source": [
        "#labeled_alphabet.iloc[[1,4,9], [2, 3, 6]]"
      ],
      "execution_count": 138,
      "outputs": []
    },
    {
      "cell_type": "markdown",
      "metadata": {
        "id": "zYdv1N9wejLJ"
      },
      "source": [
        "#### BONUS - Using Callables With .loc And .iloc"
      ]
    },
    {
      "cell_type": "code",
      "metadata": {
        "id": "kr9Mfz3tthe0",
        "outputId": "c10c925c-3773-475c-e245-53eb05d00c25",
        "colab": {
          "base_uri": "https://localhost:8080/",
          "height": 35
        }
      },
      "source": [
        "labeled_alphabet.loc['label_V']"
      ],
      "execution_count": 139,
      "outputs": [
        {
          "output_type": "execute_result",
          "data": {
            "application/vnd.google.colaboratory.intrinsic+json": {
              "type": "string"
            },
            "text/plain": [
              "'v'"
            ]
          },
          "metadata": {},
          "execution_count": 139
        }
      ]
    },
    {
      "cell_type": "code",
      "metadata": {
        "id": "yUT-yWcGthZr",
        "outputId": "d122aaf2-614d-46eb-9122-883f050390e7",
        "colab": {
          "base_uri": "https://localhost:8080/",
          "height": 35
        }
      },
      "source": [
        "labeled_alphabet.loc[lambda x: 'label_V']"
      ],
      "execution_count": 140,
      "outputs": [
        {
          "output_type": "execute_result",
          "data": {
            "application/vnd.google.colaboratory.intrinsic+json": {
              "type": "string"
            },
            "text/plain": [
              "'v'"
            ]
          },
          "metadata": {},
          "execution_count": 140
        }
      ]
    },
    {
      "cell_type": "code",
      "metadata": {
        "id": "YKX5Sl0Dtg-v",
        "outputId": "de656815-aa0c-44c8-e72f-b38a1524322f",
        "colab": {
          "base_uri": "https://localhost:8080/"
        }
      },
      "source": [
        "labeled_alphabet.loc[lambda x: ['label_V', 'label_A']]"
      ],
      "execution_count": 141,
      "outputs": [
        {
          "output_type": "execute_result",
          "data": {
            "text/plain": [
              "label_V    v\n",
              "label_A    a\n",
              "dtype: object"
            ]
          },
          "metadata": {},
          "execution_count": 141
        }
      ]
    },
    {
      "cell_type": "code",
      "metadata": {
        "id": "b_KAqvaFtg3g"
      },
      "source": [
        "#labeled_alphabet.loc[lambda x: [True, False]]"
      ],
      "execution_count": 143,
      "outputs": []
    },
    {
      "cell_type": "code",
      "metadata": {
        "id": "57T6lTuhnMac",
        "outputId": "f6da5abb-5599-4a57-d47a-5ad9fc27659b",
        "colab": {
          "base_uri": "https://localhost:8080/"
        }
      },
      "source": [
        "labeled_alphabet.loc[lambda x: [True for i in range(x.size)]]"
      ],
      "execution_count": 144,
      "outputs": [
        {
          "output_type": "execute_result",
          "data": {
            "text/plain": [
              "label_A    a\n",
              "label_B    b\n",
              "label_C    c\n",
              "label_D    d\n",
              "label_E    e\n",
              "label_F    f\n",
              "label_G    g\n",
              "label_H    h\n",
              "label_I    i\n",
              "label_J    j\n",
              "label_K    k\n",
              "label_L    l\n",
              "label_M    m\n",
              "label_N    n\n",
              "label_O    o\n",
              "label_P    p\n",
              "label_Q    q\n",
              "label_R    r\n",
              "label_S    s\n",
              "label_T    t\n",
              "label_U    u\n",
              "label_V    v\n",
              "label_W    w\n",
              "label_X    x\n",
              "label_Y    y\n",
              "label_Z    z\n",
              "dtype: object"
            ]
          },
          "metadata": {},
          "execution_count": 144
        }
      ]
    },
    {
      "cell_type": "code",
      "metadata": {
        "id": "ry1-gbo7n13n"
      },
      "source": [
        "def every_fifth(x):\n",
        "  return [True if (i+1)%5==0 else False for i in range(x.size)]"
      ],
      "execution_count": 145,
      "outputs": []
    },
    {
      "cell_type": "code",
      "metadata": {
        "id": "4XadJmQzvllB",
        "outputId": "9e31cb2e-5822-4fd6-b366-b99e653d49a3",
        "colab": {
          "base_uri": "https://localhost:8080/"
        }
      },
      "source": [
        "labeled_alphabet.iloc[every_fifth]"
      ],
      "execution_count": 146,
      "outputs": [
        {
          "output_type": "execute_result",
          "data": {
            "text/plain": [
              "label_E    e\n",
              "label_J    j\n",
              "label_O    o\n",
              "label_T    t\n",
              "label_Y    y\n",
              "dtype: object"
            ]
          },
          "metadata": {},
          "execution_count": 146
        }
      ]
    },
    {
      "cell_type": "markdown",
      "metadata": {
        "id": "8tu-WbXyvpCE"
      },
      "source": [
        "#### Selecting With .get()"
      ]
    },
    {
      "cell_type": "code",
      "metadata": {
        "id": "mPqN1OtLuOSK",
        "colab": {
          "base_uri": "https://localhost:8080/",
          "height": 35
        },
        "outputId": "5ddd36f8-28b1-4b06-f07e-248cb72f6be7"
      },
      "source": [
        "labeled_alphabet.get('label_I')"
      ],
      "execution_count": 147,
      "outputs": [
        {
          "output_type": "execute_result",
          "data": {
            "application/vnd.google.colaboratory.intrinsic+json": {
              "type": "string"
            },
            "text/plain": [
              "'i'"
            ]
          },
          "metadata": {},
          "execution_count": 147
        }
      ]
    },
    {
      "cell_type": "code",
      "metadata": {
        "id": "SUVyeK9huOcH",
        "colab": {
          "base_uri": "https://localhost:8080/",
          "height": 35
        },
        "outputId": "27f356f7-977d-4f40-918c-fa5ff86896a8"
      },
      "source": [
        "labeled_alphabet.loc['label_I']"
      ],
      "execution_count": 148,
      "outputs": [
        {
          "output_type": "execute_result",
          "data": {
            "application/vnd.google.colaboratory.intrinsic+json": {
              "type": "string"
            },
            "text/plain": [
              "'i'"
            ]
          },
          "metadata": {},
          "execution_count": 148
        }
      ]
    },
    {
      "cell_type": "code",
      "metadata": {
        "id": "HdcJJfcfuOj5",
        "colab": {
          "base_uri": "https://localhost:8080/",
          "height": 35
        },
        "outputId": "11460eea-76db-45a4-a74c-0b35ee5c8e9f"
      },
      "source": [
        "labeled_alphabet['label_I']"
      ],
      "execution_count": 149,
      "outputs": [
        {
          "output_type": "execute_result",
          "data": {
            "application/vnd.google.colaboratory.intrinsic+json": {
              "type": "string"
            },
            "text/plain": [
              "'i'"
            ]
          },
          "metadata": {},
          "execution_count": 149
        }
      ]
    },
    {
      "cell_type": "code",
      "metadata": {
        "id": "U0Wta_3xuPEi",
        "colab": {
          "base_uri": "https://localhost:8080/"
        },
        "outputId": "d1a75453-5f3d-4e7d-92e4-00c3aa3d39eb"
      },
      "source": [
        "labeled_alphabet.get('label_Inexistent') == None"
      ],
      "execution_count": 150,
      "outputs": [
        {
          "output_type": "execute_result",
          "data": {
            "text/plain": [
              "True"
            ]
          },
          "metadata": {},
          "execution_count": 150
        }
      ]
    },
    {
      "cell_type": "code",
      "metadata": {
        "id": "gZ8fZYamuPKf"
      },
      "source": [
        "labeled_alphabet.get('label_Inexistent', default=None)"
      ],
      "execution_count": 151,
      "outputs": []
    },
    {
      "cell_type": "code",
      "metadata": {
        "id": "caDTeOAluPkj",
        "colab": {
          "base_uri": "https://localhost:8080/",
          "height": 35
        },
        "outputId": "f7097792-56df-4330-986d-38018699c2fe"
      },
      "source": [
        "labeled_alphabet.get('label_Inexistent', default='Could not find anything by that label, sorry.')"
      ],
      "execution_count": 152,
      "outputs": [
        {
          "output_type": "execute_result",
          "data": {
            "application/vnd.google.colaboratory.intrinsic+json": {
              "type": "string"
            },
            "text/plain": [
              "'Could not find anything by that label, sorry.'"
            ]
          },
          "metadata": {},
          "execution_count": 152
        }
      ]
    },
    {
      "cell_type": "code",
      "metadata": {
        "id": "ctMO5LUUuywJ",
        "colab": {
          "base_uri": "https://localhost:8080/"
        },
        "outputId": "5fa0d298-d898-4db3-ef30-2be11e171e1f"
      },
      "source": [
        "labeled_alphabet.get('label_Inexistent', default=19)"
      ],
      "execution_count": 153,
      "outputs": [
        {
          "output_type": "execute_result",
          "data": {
            "text/plain": [
              "19"
            ]
          },
          "metadata": {},
          "execution_count": 153
        }
      ]
    },
    {
      "cell_type": "code",
      "metadata": {
        "id": "PDP19R9Xu3V0",
        "colab": {
          "base_uri": "https://localhost:8080/"
        },
        "outputId": "841dded9-8051-4ca6-dfc9-f6860ff6af98"
      },
      "source": [
        "labeled_alphabet.get('label_Inexistent', default={19: '20'})"
      ],
      "execution_count": 154,
      "outputs": [
        {
          "output_type": "execute_result",
          "data": {
            "text/plain": [
              "{19: '20'}"
            ]
          },
          "metadata": {},
          "execution_count": 154
        }
      ]
    },
    {
      "cell_type": "code",
      "metadata": {
        "id": "qF0BJ752u6CT"
      },
      "source": [
        "# labeled_alphabet['label_Inexistent']"
      ],
      "execution_count": 155,
      "outputs": []
    },
    {
      "cell_type": "code",
      "metadata": {
        "id": "SKXb5A-lvCSg",
        "colab": {
          "base_uri": "https://localhost:8080/",
          "height": 35
        },
        "outputId": "860975c5-5e89-4d66-9afc-e4cece6c2535"
      },
      "source": [
        "labeled_alphabet.get(8)"
      ],
      "execution_count": 156,
      "outputs": [
        {
          "output_type": "execute_result",
          "data": {
            "application/vnd.google.colaboratory.intrinsic+json": {
              "type": "string"
            },
            "text/plain": [
              "'i'"
            ]
          },
          "metadata": {},
          "execution_count": 156
        }
      ]
    },
    {
      "cell_type": "code",
      "metadata": {
        "id": "VhHKYHcGvL7k",
        "colab": {
          "base_uri": "https://localhost:8080/",
          "height": 35
        },
        "outputId": "7bc3a75e-218e-48ef-a0ef-24118decf2e6"
      },
      "source": [
        "labeled_alphabet.iloc[8]"
      ],
      "execution_count": 157,
      "outputs": [
        {
          "output_type": "execute_result",
          "data": {
            "application/vnd.google.colaboratory.intrinsic+json": {
              "type": "string"
            },
            "text/plain": [
              "'i'"
            ]
          },
          "metadata": {},
          "execution_count": 157
        }
      ]
    },
    {
      "cell_type": "code",
      "metadata": {
        "id": "7LBZ4dzvvOGT",
        "colab": {
          "base_uri": "https://localhost:8080/",
          "height": 35
        },
        "outputId": "8e6f1f88-5d38-4790-b354-a089cbd37521"
      },
      "source": [
        "labeled_alphabet[8]"
      ],
      "execution_count": 158,
      "outputs": [
        {
          "output_type": "execute_result",
          "data": {
            "application/vnd.google.colaboratory.intrinsic+json": {
              "type": "string"
            },
            "text/plain": [
              "'i'"
            ]
          },
          "metadata": {},
          "execution_count": 158
        }
      ]
    },
    {
      "cell_type": "code",
      "metadata": {
        "id": "C-MqjCmDvPuf"
      },
      "source": [
        "# chimera: greek mythology creature with the head of a lion and body of a goat"
      ],
      "execution_count": 159,
      "outputs": []
    },
    {
      "cell_type": "markdown",
      "metadata": {
        "id": "Od4oEfYCwf_C"
      },
      "source": [
        "#### Selection Recap"
      ]
    },
    {
      "cell_type": "code",
      "metadata": {
        "id": "q7KMOHf80eG0"
      },
      "source": [
        "# slide"
      ],
      "execution_count": 160,
      "outputs": []
    },
    {
      "cell_type": "markdown",
      "metadata": {
        "id": "DSpK0iUZ0eA4"
      },
      "source": [
        "#### Skill Challenge"
      ]
    },
    {
      "cell_type": "markdown",
      "metadata": {
        "id": "AFkrf6aL0c_u"
      },
      "source": [
        "###### 1"
      ]
    },
    {
      "cell_type": "markdown",
      "metadata": {
        "id": "IopZuMj50c8E"
      },
      "source": [
        "Create a series of length 100 containing the squares of integers from 0 to 99. Assign it to the variable *squares*."
      ]
    },
    {
      "cell_type": "markdown",
      "metadata": {
        "id": "kI7G1uVJwiB1"
      },
      "source": [
        " ###### 2"
      ]
    },
    {
      "cell_type": "markdown",
      "metadata": {
        "id": "dVL8qJyuwiGR"
      },
      "source": [
        "Extract the last three items from the *squares* series using square bracket indexing. "
      ]
    },
    {
      "cell_type": "markdown",
      "metadata": {
        "id": "-Cp2PSUkIRFB"
      },
      "source": [
        "###### 3."
      ]
    },
    {
      "cell_type": "markdown",
      "metadata": {
        "id": "ixLepvtZIUYq"
      },
      "source": [
        "Repeat Step 2 but using the .tail() method instead."
      ]
    },
    {
      "cell_type": "markdown",
      "metadata": {
        "id": "gKAVJTZhIZpF"
      },
      "source": [
        "###### 4."
      ]
    },
    {
      "cell_type": "markdown",
      "metadata": {
        "id": "BfbTR_WfIbVC"
      },
      "source": [
        "Verify that the output of steps 2 and 3 is the same using the .equals() method."
      ]
    },
    {
      "cell_type": "markdown",
      "metadata": {
        "id": "O6-czpTKKf4r"
      },
      "source": [
        "#### Solution"
      ]
    },
    {
      "cell_type": "code",
      "metadata": {
        "id": "55KsTyGnMR0Q"
      },
      "source": [
        "# 1"
      ],
      "execution_count": 161,
      "outputs": []
    },
    {
      "cell_type": "code",
      "metadata": {
        "id": "sM-gu5bNMUXb"
      },
      "source": [
        "squares = pd.Series(data=[i**2 for i in range(100)])"
      ],
      "execution_count": 162,
      "outputs": []
    },
    {
      "cell_type": "code",
      "metadata": {
        "id": "9evHTu6RMaTm"
      },
      "source": [
        "# list(range(100))"
      ],
      "execution_count": 163,
      "outputs": []
    },
    {
      "cell_type": "code",
      "metadata": {
        "id": "AfD2GTHjMj3G",
        "colab": {
          "base_uri": "https://localhost:8080/"
        },
        "outputId": "c0771e2b-5714-4cb7-eb67-6431128d82da"
      },
      "source": [
        "squares.head()"
      ],
      "execution_count": 164,
      "outputs": [
        {
          "output_type": "execute_result",
          "data": {
            "text/plain": [
              "0     0\n",
              "1     1\n",
              "2     4\n",
              "3     9\n",
              "4    16\n",
              "dtype: int64"
            ]
          },
          "metadata": {},
          "execution_count": 164
        }
      ]
    },
    {
      "cell_type": "code",
      "metadata": {
        "id": "EHNnosM0Mqy3"
      },
      "source": [
        "# 2"
      ],
      "execution_count": 165,
      "outputs": []
    },
    {
      "cell_type": "code",
      "metadata": {
        "id": "7SoX8o4tMxd6"
      },
      "source": [
        "a = squares[-3:]"
      ],
      "execution_count": 166,
      "outputs": []
    },
    {
      "cell_type": "code",
      "metadata": {
        "id": "bt2AJ-R7MzYm",
        "colab": {
          "base_uri": "https://localhost:8080/",
          "height": 86
        },
        "outputId": "cd55c376-0420-48ad-e49c-aca1a51f23ca"
      },
      "source": [
        "squares.iloc[-3:]"
      ],
      "execution_count": null,
      "outputs": [
        {
          "output_type": "execute_result",
          "data": {
            "text/plain": [
              "97    9409\n",
              "98    9604\n",
              "99    9801\n",
              "dtype: int64"
            ]
          },
          "metadata": {
            "tags": []
          },
          "execution_count": 173
        }
      ]
    },
    {
      "cell_type": "code",
      "metadata": {
        "id": "KqKBkgIBM7xe"
      },
      "source": [
        "# 3"
      ],
      "execution_count": 167,
      "outputs": []
    },
    {
      "cell_type": "code",
      "metadata": {
        "id": "0OdM6_CGM_D6"
      },
      "source": [
        "b = squares.tail(n=3)"
      ],
      "execution_count": 168,
      "outputs": []
    },
    {
      "cell_type": "code",
      "metadata": {
        "id": "JAcDYTLCNBRj"
      },
      "source": [
        "# 4"
      ],
      "execution_count": 169,
      "outputs": []
    },
    {
      "cell_type": "code",
      "metadata": {
        "id": "lcFwLUzUNDeN",
        "colab": {
          "base_uri": "https://localhost:8080/"
        },
        "outputId": "1229b7ba-f5aa-405c-cadd-585514730388"
      },
      "source": [
        "squares[-3:].equals(squares.tail(3))"
      ],
      "execution_count": 170,
      "outputs": [
        {
          "output_type": "execute_result",
          "data": {
            "text/plain": [
              "True"
            ]
          },
          "metadata": {},
          "execution_count": 170
        }
      ]
    },
    {
      "cell_type": "code",
      "metadata": {
        "id": "jJxb4wmeNJKt",
        "colab": {
          "base_uri": "https://localhost:8080/"
        },
        "outputId": "3db4dfb4-a0f3-4436-abc8-615bbde5f59c"
      },
      "source": [
        "a.equals(b)"
      ],
      "execution_count": 171,
      "outputs": [
        {
          "output_type": "execute_result",
          "data": {
            "text/plain": [
              "True"
            ]
          },
          "metadata": {},
          "execution_count": 171
        }
      ]
    },
    {
      "cell_type": "code",
      "metadata": {
        "id": "5XhEL_v_NOv4",
        "colab": {
          "base_uri": "https://localhost:8080/"
        },
        "outputId": "e06f53e8-5b9a-443b-fd60-3c967fad9b7e"
      },
      "source": [
        "b.equals(a)"
      ],
      "execution_count": 172,
      "outputs": [
        {
          "output_type": "execute_result",
          "data": {
            "text/plain": [
              "True"
            ]
          },
          "metadata": {},
          "execution_count": 172
        }
      ]
    },
    {
      "cell_type": "code",
      "metadata": {
        "id": "5GcrFVwvNSYN",
        "colab": {
          "base_uri": "https://localhost:8080/"
        },
        "outputId": "32496433-b9b2-4507-e8aa-12d16a5429d4"
      },
      "source": [
        "a == b"
      ],
      "execution_count": 173,
      "outputs": [
        {
          "output_type": "execute_result",
          "data": {
            "text/plain": [
              "97    True\n",
              "98    True\n",
              "99    True\n",
              "dtype: bool"
            ]
          },
          "metadata": {},
          "execution_count": 173
        }
      ]
    },
    {
      "cell_type": "code",
      "metadata": {
        "id": "HIJ2gjX7NUbI"
      },
      "source": [
        ""
      ],
      "execution_count": 173,
      "outputs": []
    }
  ]
}