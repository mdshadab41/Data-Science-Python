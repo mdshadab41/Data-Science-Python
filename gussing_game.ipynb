{
  "nbformat": 4,
  "nbformat_minor": 0,
  "metadata": {
    "colab": {
      "name": "gussing-game.ipynb",
      "provenance": [],
      "collapsed_sections": []
    },
    "kernelspec": {
      "name": "python3",
      "display_name": "Python 3"
    },
    "language_info": {
      "name": "python"
    }
  },
  "cells": [
    {
      "cell_type": "code",
      "execution_count": 1,
      "metadata": {
        "id": "dLmnxsTkxy67"
      },
      "outputs": [],
      "source": [
        "import random"
      ]
    },
    {
      "cell_type": "code",
      "source": [
        "random.randint(1,100)"
      ],
      "metadata": {
        "colab": {
          "base_uri": "https://localhost:8080/"
        },
        "id": "XX5qC_8nx2af",
        "outputId": "bbdc9fb4-4791-4af8-f3c9-4d4982ca546c"
      },
      "execution_count": 3,
      "outputs": [
        {
          "output_type": "execute_result",
          "data": {
            "text/plain": [
              "92"
            ]
          },
          "metadata": {},
          "execution_count": 3
        }
      ]
    },
    {
      "cell_type": "code",
      "source": [
        "jackpot = random.randint(1,100)\n",
        "\n",
        "guess = int(input(\"Chal guess kar\"))\n",
        "counter = 1\n",
        "\n",
        "while guess != jackpot:8\n",
        "    if guess < jackpot:\n",
        "        print(\"Guess higher\")\n",
        "    else:\n",
        "        print(\"Guess lower\")\n",
        "        \n",
        "    guess = int(input(\"Chal guess kar\"))\n",
        "    counter+=1\n",
        "    \n",
        "    \n",
        "print(\"Sahi Jawab\")\n",
        "print(\"You took\",counter,\"attempts\")"
      ],
      "metadata": {
        "colab": {
          "base_uri": "https://localhost:8080/"
        },
        "id": "8YEueN2Nx2lH",
        "outputId": "f974dceb-8166-4ad2-d328-cb59f075e12b"
      },
      "execution_count": 9,
      "outputs": [
        {
          "output_type": "stream",
          "name": "stdout",
          "text": [
            "Chal guess kar5\n",
            "Guess higher\n",
            "Chal guess kar10\n",
            "Guess higher\n",
            "Chal guess kar50\n",
            "Guess higher\n",
            "Chal guess kar60\n",
            "Guess higher\n",
            "Chal guess kar70\n",
            "Guess higher\n",
            "Chal guess kar90\n",
            "Guess lower\n",
            "Chal guess kar99\n",
            "Guess lower\n",
            "Chal guess kar95\n",
            "Guess lower\n",
            "Chal guess kar94\n",
            "Guess lower\n",
            "Chal guess kar93\n",
            "Guess lower\n",
            "Chal guess kar91\n",
            "Guess lower\n",
            "Chal guess kar92\n",
            "Guess lower\n",
            "Chal guess kar90\n",
            "Guess lower\n",
            "Chal guess kar89\n",
            "Guess lower\n",
            "Chal guess kar88\n",
            "Guess lower\n",
            "Chal guess kar75\n",
            "Guess higher\n",
            "Chal guess kar80\n",
            "Guess higher\n",
            "Chal guess kar85\n",
            "Guess lower\n",
            "Chal guess kar84\n",
            "Sahi Jawab\n",
            "You took 19 attempts\n"
          ]
        }
      ]
    },
    {
      "cell_type": "code",
      "source": [
        ""
      ],
      "metadata": {
        "id": "G-SFJ1aCx2t_"
      },
      "execution_count": null,
      "outputs": []
    }
  ]
}