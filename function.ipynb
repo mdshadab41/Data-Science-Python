{
  "nbformat": 4,
  "nbformat_minor": 0,
  "metadata": {
    "colab": {
      "name": "function.ipynb",
      "provenance": [],
      "collapsed_sections": []
    },
    "kernelspec": {
      "name": "python3",
      "display_name": "Python 3"
    },
    "language_info": {
      "name": "python"
    }
  },
  "cells": [
    {
      "cell_type": "code",
      "execution_count": 9,
      "metadata": {
        "colab": {
          "base_uri": "https://localhost:8080/"
        },
        "id": "75wMnfNM7Znd",
        "outputId": "6e0a2e56-56cf-418d-ba73-7ec24ef3e5d4"
      },
      "outputs": [
        {
          "output_type": "stream",
          "name": "stdout",
          "text": [
            "1\n",
            "2\n",
            "3\n",
            "4\n",
            "5\n",
            "6\n",
            "7\n",
            "8\n",
            "9\n",
            "10\n"
          ]
        }
      ],
      "source": [
        "def is_even(number):\n",
        "  if number % 2 == 0:\n",
        "    return \"even\"\n",
        "  else:\n",
        "     return \"odd\" \n",
        "  \n",
        "\n",
        "for i in range(1,11):\n",
        "  print(i)"
      ]
    },
    {
      "cell_type": "code",
      "source": [
        "#Types of argument\n",
        "#1.Default argument\n",
        "\n",
        "def power(a=1,b=1):\n",
        "  return a**b\n",
        "\n",
        "power()\n",
        "power(2,4)"
      ],
      "metadata": {
        "colab": {
          "base_uri": "https://localhost:8080/"
        },
        "id": "IEs2-4Lo7udQ",
        "outputId": "2ce82fa5-badf-4111-afaa-e2ad22ae2a53"
      },
      "execution_count": 12,
      "outputs": [
        {
          "output_type": "execute_result",
          "data": {
            "text/plain": [
              "16"
            ]
          },
          "metadata": {},
          "execution_count": 12
        }
      ]
    },
    {
      "cell_type": "code",
      "source": [
        "#Keyword Argument\n",
        "\n",
        "def flexi(*number):\n",
        "  product = 1\n",
        "\n",
        "  for i in number:\n",
        "    product *= i\n",
        "\n",
        "  print(product)\n",
        "\n",
        "flexi(1)\n",
        "flexi(2,3)\n",
        "flexi(5,8,9)\n"
      ],
      "metadata": {
        "colab": {
          "base_uri": "https://localhost:8080/"
        },
        "id": "5wgwf2V17usZ",
        "outputId": "1fdcbc96-5669-4d72-e0d2-e179b087db02"
      },
      "execution_count": 15,
      "outputs": [
        {
          "output_type": "stream",
          "name": "stdout",
          "text": [
            "1\n",
            "6\n",
            "360\n"
          ]
        }
      ]
    },
    {
      "cell_type": "code",
      "source": [
        ""
      ],
      "metadata": {
        "id": "EYRslzwA7uxn"
      },
      "execution_count": null,
      "outputs": []
    },
    {
      "cell_type": "markdown",
      "source": [
        "**Lambda Function:**\n",
        "\n",
        "lambda input: Expression\n",
        "\n",
        "\n",
        "\n",
        "*   Lambda has no return value\n",
        "*   no name\n",
        "\n",
        "\n",
        "*   One Line\n",
        "*  used in higher oder function\n",
        "\n",
        "\n",
        "\n",
        "\n",
        "\n"
      ],
      "metadata": {
        "id": "KAthR9vPULPr"
      }
    },
    {
      "cell_type": "code",
      "source": [
        "#Lambda Function\n",
        "\n",
        "x = lambda x: x**2\n",
        "x(2)"
      ],
      "metadata": {
        "colab": {
          "base_uri": "https://localhost:8080/"
        },
        "id": "oSvAz6tT7u0t",
        "outputId": "2941eeec-ceb1-4f93-86ea-b1e234974890"
      },
      "execution_count": 16,
      "outputs": [
        {
          "output_type": "execute_result",
          "data": {
            "text/plain": [
              "4"
            ]
          },
          "metadata": {},
          "execution_count": 16
        }
      ]
    },
    {
      "cell_type": "code",
      "source": [
        "a = lambda x,y: x+y\n",
        "a(2,3)"
      ],
      "metadata": {
        "colab": {
          "base_uri": "https://localhost:8080/"
        },
        "id": "PSYpuwTV7u4Y",
        "outputId": "bac69620-7e21-4551-b5b8-f69415787be0"
      },
      "execution_count": 17,
      "outputs": [
        {
          "output_type": "execute_result",
          "data": {
            "text/plain": [
              "5"
            ]
          },
          "metadata": {},
          "execution_count": 17
        }
      ]
    },
    {
      "cell_type": "code",
      "source": [
        "b = lambda x: \"even\" if x%2==0 else \"odd\"\n",
        "b(2)"
      ],
      "metadata": {
        "colab": {
          "base_uri": "https://localhost:8080/",
          "height": 35
        },
        "id": "42PObW8I7u8N",
        "outputId": "98e05835-bf1c-4473-d609-659ee80ce925"
      },
      "execution_count": 22,
      "outputs": [
        {
          "output_type": "execute_result",
          "data": {
            "text/plain": [
              "'even'"
            ],
            "application/vnd.google.colaboratory.intrinsic+json": {
              "type": "string"
            }
          },
          "metadata": {},
          "execution_count": 22
        }
      ]
    },
    {
      "cell_type": "code",
      "source": [
        "def return_sum(func, L):\n",
        "\n",
        "  result = 0\n",
        "\n",
        "  for i in L:\n",
        "\n",
        "    if func(i):\n",
        "      result = result + i\n",
        "\n",
        "  return result\n",
        "\n",
        "L = [12,23,3,4,4,5,6,6,7] \n",
        "\n",
        "x = lambda x: x%2==0\n",
        "y = lambda y: y%2!=0\n",
        "z = lambda z: z%3==0\n",
        "\n",
        "print(return_sum(x,L))\n",
        "print(return_sum(y,L))\n",
        "print(return_sum(z,L))\n",
        "\n"
      ],
      "metadata": {
        "colab": {
          "base_uri": "https://localhost:8080/"
        },
        "id": "mIVsOR4Z7vBq",
        "outputId": "ffdec327-ae41-4f8b-b8d7-72e6d636fba7"
      },
      "execution_count": 23,
      "outputs": [
        {
          "output_type": "stream",
          "name": "stdout",
          "text": [
            "32\n",
            "38\n",
            "27\n"
          ]
        }
      ]
    },
    {
      "cell_type": "code",
      "source": [
        "#Map\n",
        "L = [1,2,3,4,5,6]\n",
        "L"
      ],
      "metadata": {
        "colab": {
          "base_uri": "https://localhost:8080/"
        },
        "id": "kf5Q4vGn7vHw",
        "outputId": "47cdc39f-03df-4117-e96a-a83052cf6c5b"
      },
      "execution_count": 24,
      "outputs": [
        {
          "output_type": "execute_result",
          "data": {
            "text/plain": [
              "[1, 2, 3, 4, 5, 6]"
            ]
          },
          "metadata": {},
          "execution_count": 24
        }
      ]
    },
    {
      "cell_type": "code",
      "source": [
        "list(map(lambda x : x**2, L))\n"
      ],
      "metadata": {
        "colab": {
          "base_uri": "https://localhost:8080/"
        },
        "id": "iHdOh17P7vLi",
        "outputId": "1d4dcdf9-a823-4f65-c1ac-1a3ef214fa0f"
      },
      "execution_count": 27,
      "outputs": [
        {
          "output_type": "execute_result",
          "data": {
            "text/plain": [
              "[1, 4, 9, 16, 25, 36]"
            ]
          },
          "metadata": {},
          "execution_count": 27
        }
      ]
    },
    {
      "cell_type": "code",
      "source": [
        "list(map(lambda x : x%2==0, L))\n"
      ],
      "metadata": {
        "colab": {
          "base_uri": "https://localhost:8080/"
        },
        "id": "Zb6RW5cj7vQB",
        "outputId": "aa5d881f-5c7c-453a-d430-03c69b536af0"
      },
      "execution_count": 28,
      "outputs": [
        {
          "output_type": "execute_result",
          "data": {
            "text/plain": [
              "[False, True, False, True, False, True]"
            ]
          },
          "metadata": {},
          "execution_count": 28
        }
      ]
    },
    {
      "cell_type": "code",
      "source": [
        "#Filter\n",
        "\n",
        "L"
      ],
      "metadata": {
        "colab": {
          "base_uri": "https://localhost:8080/"
        },
        "id": "ROAXyXFP7vT2",
        "outputId": "5d6db11f-a523-4c84-e804-ff74a1ecc3b5"
      },
      "execution_count": 29,
      "outputs": [
        {
          "output_type": "execute_result",
          "data": {
            "text/plain": [
              "[1, 2, 3, 4, 5, 6]"
            ]
          },
          "metadata": {},
          "execution_count": 29
        }
      ]
    },
    {
      "cell_type": "code",
      "source": [
        "list(filter(lambda x: x>4, L))"
      ],
      "metadata": {
        "colab": {
          "base_uri": "https://localhost:8080/"
        },
        "id": "qi9__xEG7vXi",
        "outputId": "f13861d2-7ac3-46ac-a371-5afe8d28859e"
      },
      "execution_count": 30,
      "outputs": [
        {
          "output_type": "execute_result",
          "data": {
            "text/plain": [
              "[5, 6]"
            ]
          },
          "metadata": {},
          "execution_count": 30
        }
      ]
    },
    {
      "cell_type": "code",
      "source": [
        "fruits = [\"Apple\", \"Banana\", \"Mango\", \"Guava\"]\n",
        "\n",
        "list(filter(lambda fruit: 'e' in fruit, fruits))"
      ],
      "metadata": {
        "colab": {
          "base_uri": "https://localhost:8080/"
        },
        "id": "rqhZ-mO17vbC",
        "outputId": "24ac58bb-0cc6-4ac3-931f-d057d386d760"
      },
      "execution_count": 31,
      "outputs": [
        {
          "output_type": "execute_result",
          "data": {
            "text/plain": [
              "['Apple']"
            ]
          },
          "metadata": {},
          "execution_count": 31
        }
      ]
    },
    {
      "cell_type": "code",
      "source": [
        " #Reduce\n",
        " L"
      ],
      "metadata": {
        "colab": {
          "base_uri": "https://localhost:8080/"
        },
        "id": "QWmNh6-77vet",
        "outputId": "c8e024b0-4d01-4518-abe9-f23ea9ccee9c"
      },
      "execution_count": 32,
      "outputs": [
        {
          "output_type": "execute_result",
          "data": {
            "text/plain": [
              "[1, 2, 3, 4, 5, 6]"
            ]
          },
          "metadata": {},
          "execution_count": 32
        }
      ]
    },
    {
      "cell_type": "code",
      "source": [
        "import functools\n",
        "functools.reduce(lambda x,y:x+y, L)"
      ],
      "metadata": {
        "colab": {
          "base_uri": "https://localhost:8080/"
        },
        "id": "DA_quaJF7viA",
        "outputId": "ef479b95-39e3-459d-a9fe-a7f72fb8cb2c"
      },
      "execution_count": 36,
      "outputs": [
        {
          "output_type": "execute_result",
          "data": {
            "text/plain": [
              "21"
            ]
          },
          "metadata": {},
          "execution_count": 36
        }
      ]
    },
    {
      "cell_type": "code",
      "source": [
        "L1 = [23,24,56,87]\n"
      ],
      "metadata": {
        "id": "vpX_hkT7dlbG"
      },
      "execution_count": 37,
      "outputs": []
    },
    {
      "cell_type": "code",
      "source": [
        "functools.reduce(lambda x,y:x if x>y else y, L1 )"
      ],
      "metadata": {
        "colab": {
          "base_uri": "https://localhost:8080/"
        },
        "id": "z_KZnheMdt2h",
        "outputId": "b977067e-4bd9-4dc9-a8ef-c419129e579e"
      },
      "execution_count": 38,
      "outputs": [
        {
          "output_type": "execute_result",
          "data": {
            "text/plain": [
              "87"
            ]
          },
          "metadata": {},
          "execution_count": 38
        }
      ]
    },
    {
      "cell_type": "code",
      "source": [
        "functools.reduce(lambda x,y:x if x<y else y, L1 )"
      ],
      "metadata": {
        "colab": {
          "base_uri": "https://localhost:8080/"
        },
        "id": "Nem087olduCt",
        "outputId": "ef5ede2b-c859-4b58-8afb-27ad9eebcfa6"
      },
      "execution_count": 39,
      "outputs": [
        {
          "output_type": "execute_result",
          "data": {
            "text/plain": [
              "23"
            ]
          },
          "metadata": {},
          "execution_count": 39
        }
      ]
    },
    {
      "cell_type": "code",
      "source": [
        ""
      ],
      "metadata": {
        "id": "Z-lEyl_LduGb"
      },
      "execution_count": null,
      "outputs": []
    },
    {
      "cell_type": "code",
      "source": [
        ""
      ],
      "metadata": {
        "id": "ul5hpVPzdloz"
      },
      "execution_count": null,
      "outputs": []
    }
  ]
}